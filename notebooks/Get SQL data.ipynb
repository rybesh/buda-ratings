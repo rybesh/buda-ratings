{
 "cells": [
  {
   "cell_type": "code",
   "execution_count": 1,
   "metadata": {
    "collapsed": true
   },
   "outputs": [],
   "source": [
    "# Load the \"autoreload\" extension\n",
    "%load_ext autoreload\n",
    "\n",
    "# always reload modules marked with \"%aimport\"\n",
    "%autoreload 1\n",
    "\n",
    "import os\n",
    "import sys\n",
    "\n",
    "# add the 'src' directory as one where we can import modules\n",
    "src_dir = os.path.join(os.getcwd(), os.pardir, 'src', 'data')\n",
    "sys.path.append(src_dir)"
   ]
  },
  {
   "cell_type": "code",
   "execution_count": 2,
   "metadata": {
    "collapsed": true
   },
   "outputs": [],
   "source": [
    "%aimport scrape_buda"
   ]
  },
  {
   "cell_type": "code",
   "execution_count": 3,
   "metadata": {},
   "outputs": [],
   "source": [
    "from scrape_buda import BudaRating"
   ]
  },
  {
   "cell_type": "code",
   "execution_count": 4,
   "metadata": {
    "collapsed": true
   },
   "outputs": [],
   "source": [
    "import pandas as pd\n",
    "import numpy as np\n",
    "import matplotlib.pyplot as plt\n",
    "%matplotlib inline"
   ]
  },
  {
   "cell_type": "code",
   "execution_count": 5,
   "metadata": {
    "collapsed": true
   },
   "outputs": [],
   "source": [
    "pd.set_option('display.max_columns', None)"
   ]
  },
  {
   "cell_type": "code",
   "execution_count": 6,
   "metadata": {
    "collapsed": true
   },
   "outputs": [],
   "source": [
    "import pymysql as mdb\n",
    "\n",
    "con = mdb.connect('localhost', 'budauser', 'TrotNixon', 'buda_prod') #host, user, password, "
   ]
  },
  {
   "cell_type": "code",
   "execution_count": 7,
   "metadata": {
    "collapsed": true
   },
   "outputs": [],
   "source": [
    "sqlfile = os.path.join(os.getcwd(), os.pardir, 'data', 'raw', 'buda_prod_backup_2016-08-31.sql')"
   ]
  },
  {
   "cell_type": "code",
   "execution_count": 8,
   "metadata": {},
   "outputs": [],
   "source": [
    "interim_dir = os.path.join(os.getcwd(), os.pardir, 'data', 'interim')"
   ]
  },
  {
   "cell_type": "code",
   "execution_count": 12,
   "metadata": {},
   "outputs": [],
   "source": [
    "sqlfile = \"\"\"SHOW TABLES;\"\"\"\n",
    "buda_tables = pd.read_sql(sqlfile, con)"
   ]
  },
  {
   "cell_type": "code",
   "execution_count": 14,
   "metadata": {
    "scrolled": true
   },
   "outputs": [
    {
     "data": {
      "text/plain": [
       "array(['admin_contact_info', 'application_division_map', 'applications',\n",
       "       'buda_admin_contact_info', 'buda_admin_positions',\n",
       "       'buda_admin_positions_map', 'buda_broken_links', 'buda_contacts',\n",
       "       'buda_devel_documentation', 'buda_groups',\n",
       "       'buda_hatleague_captain_pwd', 'buda_hatleague_details',\n",
       "       'buda_hatleague_divisions', 'buda_hatleague_locations',\n",
       "       'buda_hatleague_player_rankings', 'buda_hatleague_rankings',\n",
       "       'buda_hatleague_rosters', 'buda_hatleague_rosters_updates',\n",
       "       'buda_hatleague_schedules', 'buda_hatleague_teams',\n",
       "       'buda_hs_spirit_scores', 'buda_leagues', 'buda_ll_helpers',\n",
       "       'buda_ll_schedule', 'buda_ll_volunteers', 'buda_logger',\n",
       "       'buda_mail_list_requests', 'buda_object_list', 'buda_objects',\n",
       "       'buda_permissions_map', 'buda_pickup_listings', 'buda_school_teams',\n",
       "       'buda_sessions', 'buda_team_contact_map', 'buda_team_league_map',\n",
       "       'buda_teams', 'buda_teams_2003', 'buda_temp_pwd',\n",
       "       'buda_tournament_signups', 'buda_tournaments',\n",
       "       'buda_user_group_map', 'buda_users', 'buda_users_contact_info',\n",
       "       'buda_users_public', 'buda_volunteers', 'buda_want_team',\n",
       "       'budacol_contact_info', 'captain_ratings', 'commissioner_map',\n",
       "       'contact_info', 'directions', 'division_team_settings', 'donations',\n",
       "       'event_signup', 'hatleague_signup', 'hatleague_signup_updates',\n",
       "       'joom_assets', 'joom_associations', 'joom_banner_clients',\n",
       "       'joom_banner_tracks', 'joom_banners', 'joom_categories',\n",
       "       'joom_comprofiler', 'joom_comprofiler_field_values',\n",
       "       'joom_comprofiler_fields', 'joom_comprofiler_lists',\n",
       "       'joom_comprofiler_members', 'joom_comprofiler_plugin',\n",
       "       'joom_comprofiler_sessions', 'joom_comprofiler_tabs',\n",
       "       'joom_comprofiler_userreports', 'joom_comprofiler_views',\n",
       "       'joom_contact_details', 'joom_content', 'joom_content_frontpage',\n",
       "       'joom_content_rating', 'joom_core_log_searches', 'joom_extensions',\n",
       "       'joom_finder_filters', 'joom_finder_links',\n",
       "       'joom_finder_links_terms0', 'joom_finder_links_terms1',\n",
       "       'joom_finder_links_terms2', 'joom_finder_links_terms3',\n",
       "       'joom_finder_links_terms4', 'joom_finder_links_terms5',\n",
       "       'joom_finder_links_terms6', 'joom_finder_links_terms7',\n",
       "       'joom_finder_links_terms8', 'joom_finder_links_terms9',\n",
       "       'joom_finder_links_termsa', 'joom_finder_links_termsb',\n",
       "       'joom_finder_links_termsc', 'joom_finder_links_termsd',\n",
       "       'joom_finder_links_termse', 'joom_finder_links_termsf',\n",
       "       'joom_finder_taxonomy', 'joom_finder_taxonomy_map',\n",
       "       'joom_finder_terms', 'joom_finder_terms_common',\n",
       "       'joom_finder_tokens', 'joom_finder_tokens_aggregate',\n",
       "       'joom_finder_types', 'joom_jaem_log', 'joom_jaem_services',\n",
       "       'joom_kunena_aliases', 'joom_kunena_announcement',\n",
       "       'joom_kunena_attachments', 'joom_kunena_categories',\n",
       "       'joom_kunena_configuration', 'joom_kunena_keywords',\n",
       "       'joom_kunena_keywords_map', 'joom_kunena_messages',\n",
       "       'joom_kunena_messages_text', 'joom_kunena_polls',\n",
       "       'joom_kunena_polls_options', 'joom_kunena_polls_users',\n",
       "       'joom_kunena_ranks', 'joom_kunena_sessions', 'joom_kunena_smileys',\n",
       "       'joom_kunena_thankyou', 'joom_kunena_topics',\n",
       "       'joom_kunena_user_categories', 'joom_kunena_user_read',\n",
       "       'joom_kunena_user_topics', 'joom_kunena_users',\n",
       "       'joom_kunena_users_banned', 'joom_kunena_version', 'joom_languages',\n",
       "       'joom_menu', 'joom_menu_types', 'joom_messages',\n",
       "       'joom_messages_cfg', 'joom_modules', 'joom_modules_menu',\n",
       "       'joom_newsfeeds', 'joom_overrider', 'joom_phocagallery',\n",
       "       'joom_phocagallery_categories', 'joom_phocagallery_comments',\n",
       "       'joom_phocagallery_fb_users', 'joom_phocagallery_img_comments',\n",
       "       'joom_phocagallery_img_votes',\n",
       "       'joom_phocagallery_img_votes_statistics', 'joom_phocagallery_tags',\n",
       "       'joom_phocagallery_tags_ref', 'joom_phocagallery_user',\n",
       "       'joom_phocagallery_votes', 'joom_phocagallery_votes_statistics',\n",
       "       'joom_redirect_links', 'joom_redj_errors', 'joom_redj_pages404',\n",
       "       'joom_redj_redirects', 'joom_redj_referer_urls',\n",
       "       'joom_redj_referers', 'joom_redj_visited_urls', 'joom_schemas',\n",
       "       'joom_session', 'joom_template_styles', 'joom_update_categories',\n",
       "       'joom_update_sites', 'joom_update_sites_extensions', 'joom_updates',\n",
       "       'joom_user_notes', 'joom_user_profiles', 'joom_user_usergroup_map',\n",
       "       'joom_usergroups', 'joom_users', 'joom_viewlevels', 'joom_weblinks',\n",
       "       'joom_wf_profiles', 'phinxlog', 'player_extras', 'team_creation',\n",
       "       'tourny_pickups', 'tourny_prefs', 'waivers'], dtype=object)"
      ]
     },
     "execution_count": 14,
     "metadata": {},
     "output_type": "execute_result"
    }
   ],
   "source": [
    "buda_tables['Tables_in_buda_prod'].values"
   ]
  },
  {
   "cell_type": "code",
   "execution_count": 56,
   "metadata": {},
   "outputs": [],
   "source": [
    "sqlfile = \"\"\"SELECT * FROM joom_jaem_log;\"\"\"\n",
    "buda_teams = pd.read_sql(sqlfile, con)"
   ]
  },
  {
   "cell_type": "code",
   "execution_count": 57,
   "metadata": {
    "scrolled": true
   },
   "outputs": [
    {
     "data": {
      "text/html": [
       "<div>\n",
       "<style>\n",
       "    .dataframe thead tr:only-child th {\n",
       "        text-align: right;\n",
       "    }\n",
       "\n",
       "    .dataframe thead th {\n",
       "        text-align: left;\n",
       "    }\n",
       "\n",
       "    .dataframe tbody tr th {\n",
       "        vertical-align: top;\n",
       "    }\n",
       "</style>\n",
       "<table border=\"1\" class=\"dataframe\">\n",
       "  <thead>\n",
       "    <tr style=\"text-align: right;\">\n",
       "      <th></th>\n",
       "      <th>id</th>\n",
       "      <th>ext_id</th>\n",
       "      <th>service_id</th>\n",
       "      <th>check_date</th>\n",
       "      <th>check_info</th>\n",
       "    </tr>\n",
       "  </thead>\n",
       "  <tbody>\n",
       "    <tr>\n",
       "      <th>0</th>\n",
       "      <td>1</td>\n",
       "      <td>template-10009</td>\n",
       "      <td>None</td>\n",
       "      <td>2013-11-14 21:46:08</td>\n",
       "      <td>&lt;div class=\\\"status-not-uploaded\\\"&gt;Sorry, no v...</td>\n",
       "    </tr>\n",
       "  </tbody>\n",
       "</table>\n",
       "</div>"
      ],
      "text/plain": [
       "   id          ext_id service_id          check_date  \\\n",
       "0   1  template-10009       None 2013-11-14 21:46:08   \n",
       "\n",
       "                                          check_info  \n",
       "0  <div class=\\\"status-not-uploaded\\\">Sorry, no v...  "
      ]
     },
     "execution_count": 57,
     "metadata": {},
     "output_type": "execute_result"
    }
   ],
   "source": [
    "buda_teams"
   ]
  },
  {
   "cell_type": "code",
   "execution_count": 34,
   "metadata": {
    "collapsed": true
   },
   "outputs": [],
   "source": [
    "sqlfile = \"\"\"SELECT * FROM buda_users_public;\"\"\"\n",
    "buda_users_public = pd.read_sql(sqlfile, con, index_col='user_id')"
   ]
  },
  {
   "cell_type": "code",
   "execution_count": 35,
   "metadata": {},
   "outputs": [],
   "source": [
    "sqlfile = \"\"\"SELECT * FROM buda_hatleague_player_rankings;\"\"\"\n",
    "buda_hatleague_player_rankings = pd.read_sql(sqlfile, con)"
   ]
  },
  {
   "cell_type": "code",
   "execution_count": 36,
   "metadata": {},
   "outputs": [],
   "source": [
    "buda_hatleague_player_rankings = buda_hatleague_player_rankings.rename(columns={'player_id':'user_id'})"
   ]
  },
  {
   "cell_type": "code",
   "execution_count": 37,
   "metadata": {
    "collapsed": true
   },
   "outputs": [],
   "source": [
    "buda_hatleague_player_rankings = buda_hatleague_player_rankings.set_index('user_id')"
   ]
  },
  {
   "cell_type": "code",
   "execution_count": 38,
   "metadata": {
    "collapsed": true
   },
   "outputs": [],
   "source": [
    "buda_hatleague_player_rankings = buda_hatleague_player_rankings.drop('edited_date', axis=1)"
   ]
  },
  {
   "cell_type": "code",
   "execution_count": 39,
   "metadata": {},
   "outputs": [],
   "source": [
    "self_ratings = buda_hatleague_player_rankings.join(buda_users_public)"
   ]
  },
  {
   "cell_type": "code",
   "execution_count": 40,
   "metadata": {},
   "outputs": [
    {
     "data": {
      "text/html": [
       "<div>\n",
       "<style>\n",
       "    .dataframe thead tr:only-child th {\n",
       "        text-align: right;\n",
       "    }\n",
       "\n",
       "    .dataframe thead th {\n",
       "        text-align: left;\n",
       "    }\n",
       "\n",
       "    .dataframe tbody tr th {\n",
       "        vertical-align: top;\n",
       "    }\n",
       "</style>\n",
       "<table border=\"1\" class=\"dataframe\">\n",
       "  <thead>\n",
       "    <tr style=\"text-align: right;\">\n",
       "      <th></th>\n",
       "      <th>league_id</th>\n",
       "      <th>rank_type</th>\n",
       "      <th>status</th>\n",
       "      <th>edited_by</th>\n",
       "      <th>modification_id</th>\n",
       "      <th>rank</th>\n",
       "      <th>experience</th>\n",
       "      <th>other_sport</th>\n",
       "      <th>throwing</th>\n",
       "      <th>break_mark</th>\n",
       "      <th>huck</th>\n",
       "      <th>receiving</th>\n",
       "      <th>height</th>\n",
       "      <th>speed</th>\n",
       "      <th>shirt</th>\n",
       "      <th>recommend_captain</th>\n",
       "      <th>user_name</th>\n",
       "      <th>email</th>\n",
       "      <th>password</th>\n",
       "      <th>first_name</th>\n",
       "      <th>last_name</th>\n",
       "      <th>edited_date</th>\n",
       "      <th>last_login</th>\n",
       "    </tr>\n",
       "    <tr>\n",
       "      <th>user_id</th>\n",
       "      <th></th>\n",
       "      <th></th>\n",
       "      <th></th>\n",
       "      <th></th>\n",
       "      <th></th>\n",
       "      <th></th>\n",
       "      <th></th>\n",
       "      <th></th>\n",
       "      <th></th>\n",
       "      <th></th>\n",
       "      <th></th>\n",
       "      <th></th>\n",
       "      <th></th>\n",
       "      <th></th>\n",
       "      <th></th>\n",
       "      <th></th>\n",
       "      <th></th>\n",
       "      <th></th>\n",
       "      <th></th>\n",
       "      <th></th>\n",
       "      <th></th>\n",
       "      <th></th>\n",
       "      <th></th>\n",
       "    </tr>\n",
       "  </thead>\n",
       "  <tbody>\n",
       "    <tr>\n",
       "      <th>30295</th>\n",
       "      <td>0</td>\n",
       "      <td>1</td>\n",
       "      <td>NaN</td>\n",
       "      <td>30295</td>\n",
       "      <td>None</td>\n",
       "      <td>49.0</td>\n",
       "      <td>div2</td>\n",
       "      <td>1.0</td>\n",
       "      <td>reliable</td>\n",
       "      <td>sometime</td>\n",
       "      <td>none</td>\n",
       "      <td>both_hands</td>\n",
       "      <td>73.0</td>\n",
       "      <td>fast</td>\n",
       "      <td>large</td>\n",
       "      <td>0.0</td>\n",
       "      <td>sbussmann</td>\n",
       "      <td>sbussmann@gmail.com</td>\n",
       "      <td>6b1888fae695d8e52a01ae5b0fefc2e1:oLVn5pTC3oowU...</td>\n",
       "      <td>Shane</td>\n",
       "      <td>Bussmann</td>\n",
       "      <td>2010-11-18 17:27:34</td>\n",
       "      <td>2016-08-10 19:19:31</td>\n",
       "    </tr>\n",
       "    <tr>\n",
       "      <th>30295</th>\n",
       "      <td>30844</td>\n",
       "      <td>1</td>\n",
       "      <td>NaN</td>\n",
       "      <td>3348</td>\n",
       "      <td>None</td>\n",
       "      <td>40.0</td>\n",
       "      <td>None</td>\n",
       "      <td>NaN</td>\n",
       "      <td>None</td>\n",
       "      <td>None</td>\n",
       "      <td>None</td>\n",
       "      <td>None</td>\n",
       "      <td>NaN</td>\n",
       "      <td>None</td>\n",
       "      <td>None</td>\n",
       "      <td>NaN</td>\n",
       "      <td>sbussmann</td>\n",
       "      <td>sbussmann@gmail.com</td>\n",
       "      <td>6b1888fae695d8e52a01ae5b0fefc2e1:oLVn5pTC3oowU...</td>\n",
       "      <td>Shane</td>\n",
       "      <td>Bussmann</td>\n",
       "      <td>2010-11-18 17:27:34</td>\n",
       "      <td>2016-08-10 19:19:31</td>\n",
       "    </tr>\n",
       "    <tr>\n",
       "      <th>30295</th>\n",
       "      <td>30919</td>\n",
       "      <td>1</td>\n",
       "      <td>NaN</td>\n",
       "      <td>3424</td>\n",
       "      <td>None</td>\n",
       "      <td>40.0</td>\n",
       "      <td>None</td>\n",
       "      <td>NaN</td>\n",
       "      <td>None</td>\n",
       "      <td>None</td>\n",
       "      <td>None</td>\n",
       "      <td>None</td>\n",
       "      <td>NaN</td>\n",
       "      <td>None</td>\n",
       "      <td>None</td>\n",
       "      <td>NaN</td>\n",
       "      <td>sbussmann</td>\n",
       "      <td>sbussmann@gmail.com</td>\n",
       "      <td>6b1888fae695d8e52a01ae5b0fefc2e1:oLVn5pTC3oowU...</td>\n",
       "      <td>Shane</td>\n",
       "      <td>Bussmann</td>\n",
       "      <td>2010-11-18 17:27:34</td>\n",
       "      <td>2016-08-10 19:19:31</td>\n",
       "    </tr>\n",
       "    <tr>\n",
       "      <th>30295</th>\n",
       "      <td>30919</td>\n",
       "      <td>2</td>\n",
       "      <td>NaN</td>\n",
       "      <td>919</td>\n",
       "      <td>None</td>\n",
       "      <td>53.0</td>\n",
       "      <td>hat</td>\n",
       "      <td>1.0</td>\n",
       "      <td>reliable</td>\n",
       "      <td>sometime</td>\n",
       "      <td>short</td>\n",
       "      <td>one_hand</td>\n",
       "      <td>0.0</td>\n",
       "      <td>average</td>\n",
       "      <td></td>\n",
       "      <td>NaN</td>\n",
       "      <td>sbussmann</td>\n",
       "      <td>sbussmann@gmail.com</td>\n",
       "      <td>6b1888fae695d8e52a01ae5b0fefc2e1:oLVn5pTC3oowU...</td>\n",
       "      <td>Shane</td>\n",
       "      <td>Bussmann</td>\n",
       "      <td>2010-11-18 17:27:34</td>\n",
       "      <td>2016-08-10 19:19:31</td>\n",
       "    </tr>\n",
       "    <tr>\n",
       "      <th>30295</th>\n",
       "      <td>30924</td>\n",
       "      <td>1</td>\n",
       "      <td>NaN</td>\n",
       "      <td>10373</td>\n",
       "      <td>None</td>\n",
       "      <td>40.0</td>\n",
       "      <td>None</td>\n",
       "      <td>NaN</td>\n",
       "      <td>None</td>\n",
       "      <td>None</td>\n",
       "      <td>None</td>\n",
       "      <td>None</td>\n",
       "      <td>NaN</td>\n",
       "      <td>None</td>\n",
       "      <td>None</td>\n",
       "      <td>NaN</td>\n",
       "      <td>sbussmann</td>\n",
       "      <td>sbussmann@gmail.com</td>\n",
       "      <td>6b1888fae695d8e52a01ae5b0fefc2e1:oLVn5pTC3oowU...</td>\n",
       "      <td>Shane</td>\n",
       "      <td>Bussmann</td>\n",
       "      <td>2010-11-18 17:27:34</td>\n",
       "      <td>2016-08-10 19:19:31</td>\n",
       "    </tr>\n",
       "    <tr>\n",
       "      <th>30295</th>\n",
       "      <td>30924</td>\n",
       "      <td>2</td>\n",
       "      <td>NaN</td>\n",
       "      <td>30295</td>\n",
       "      <td>None</td>\n",
       "      <td>59.0</td>\n",
       "      <td>div2</td>\n",
       "      <td>1.0</td>\n",
       "      <td>reliable</td>\n",
       "      <td>sometime</td>\n",
       "      <td>none</td>\n",
       "      <td>leaping</td>\n",
       "      <td>0.0</td>\n",
       "      <td>fast</td>\n",
       "      <td></td>\n",
       "      <td>NaN</td>\n",
       "      <td>sbussmann</td>\n",
       "      <td>sbussmann@gmail.com</td>\n",
       "      <td>6b1888fae695d8e52a01ae5b0fefc2e1:oLVn5pTC3oowU...</td>\n",
       "      <td>Shane</td>\n",
       "      <td>Bussmann</td>\n",
       "      <td>2010-11-18 17:27:34</td>\n",
       "      <td>2016-08-10 19:19:31</td>\n",
       "    </tr>\n",
       "    <tr>\n",
       "      <th>30295</th>\n",
       "      <td>31034</td>\n",
       "      <td>1</td>\n",
       "      <td>NaN</td>\n",
       "      <td>3424</td>\n",
       "      <td>None</td>\n",
       "      <td>55.0</td>\n",
       "      <td>None</td>\n",
       "      <td>NaN</td>\n",
       "      <td>None</td>\n",
       "      <td>None</td>\n",
       "      <td>None</td>\n",
       "      <td>None</td>\n",
       "      <td>NaN</td>\n",
       "      <td>None</td>\n",
       "      <td>None</td>\n",
       "      <td>NaN</td>\n",
       "      <td>sbussmann</td>\n",
       "      <td>sbussmann@gmail.com</td>\n",
       "      <td>6b1888fae695d8e52a01ae5b0fefc2e1:oLVn5pTC3oowU...</td>\n",
       "      <td>Shane</td>\n",
       "      <td>Bussmann</td>\n",
       "      <td>2010-11-18 17:27:34</td>\n",
       "      <td>2016-08-10 19:19:31</td>\n",
       "    </tr>\n",
       "    <tr>\n",
       "      <th>30295</th>\n",
       "      <td>31034</td>\n",
       "      <td>2</td>\n",
       "      <td>NaN</td>\n",
       "      <td>30295</td>\n",
       "      <td>None</td>\n",
       "      <td>66.0</td>\n",
       "      <td>handle_div2</td>\n",
       "      <td>1.0</td>\n",
       "      <td>reliable</td>\n",
       "      <td>sometime</td>\n",
       "      <td>short</td>\n",
       "      <td>one_hand</td>\n",
       "      <td>0.0</td>\n",
       "      <td>fast</td>\n",
       "      <td></td>\n",
       "      <td>NaN</td>\n",
       "      <td>sbussmann</td>\n",
       "      <td>sbussmann@gmail.com</td>\n",
       "      <td>6b1888fae695d8e52a01ae5b0fefc2e1:oLVn5pTC3oowU...</td>\n",
       "      <td>Shane</td>\n",
       "      <td>Bussmann</td>\n",
       "      <td>2010-11-18 17:27:34</td>\n",
       "      <td>2016-08-10 19:19:31</td>\n",
       "    </tr>\n",
       "    <tr>\n",
       "      <th>30295</th>\n",
       "      <td>32741</td>\n",
       "      <td>1</td>\n",
       "      <td>NaN</td>\n",
       "      <td>3348</td>\n",
       "      <td>None</td>\n",
       "      <td>60.0</td>\n",
       "      <td>None</td>\n",
       "      <td>NaN</td>\n",
       "      <td>None</td>\n",
       "      <td>None</td>\n",
       "      <td>None</td>\n",
       "      <td>None</td>\n",
       "      <td>NaN</td>\n",
       "      <td>None</td>\n",
       "      <td>None</td>\n",
       "      <td>NaN</td>\n",
       "      <td>sbussmann</td>\n",
       "      <td>sbussmann@gmail.com</td>\n",
       "      <td>6b1888fae695d8e52a01ae5b0fefc2e1:oLVn5pTC3oowU...</td>\n",
       "      <td>Shane</td>\n",
       "      <td>Bussmann</td>\n",
       "      <td>2010-11-18 17:27:34</td>\n",
       "      <td>2016-08-10 19:19:31</td>\n",
       "    </tr>\n",
       "    <tr>\n",
       "      <th>30295</th>\n",
       "      <td>32746</td>\n",
       "      <td>1</td>\n",
       "      <td>0.0</td>\n",
       "      <td>10373</td>\n",
       "      <td>None</td>\n",
       "      <td>57.0</td>\n",
       "      <td>None</td>\n",
       "      <td>NaN</td>\n",
       "      <td>None</td>\n",
       "      <td>None</td>\n",
       "      <td>None</td>\n",
       "      <td>None</td>\n",
       "      <td>NaN</td>\n",
       "      <td>None</td>\n",
       "      <td>None</td>\n",
       "      <td>NaN</td>\n",
       "      <td>sbussmann</td>\n",
       "      <td>sbussmann@gmail.com</td>\n",
       "      <td>6b1888fae695d8e52a01ae5b0fefc2e1:oLVn5pTC3oowU...</td>\n",
       "      <td>Shane</td>\n",
       "      <td>Bussmann</td>\n",
       "      <td>2010-11-18 17:27:34</td>\n",
       "      <td>2016-08-10 19:19:31</td>\n",
       "    </tr>\n",
       "    <tr>\n",
       "      <th>30295</th>\n",
       "      <td>34405</td>\n",
       "      <td>1</td>\n",
       "      <td>NaN</td>\n",
       "      <td>10373</td>\n",
       "      <td>None</td>\n",
       "      <td>57.0</td>\n",
       "      <td>None</td>\n",
       "      <td>NaN</td>\n",
       "      <td>None</td>\n",
       "      <td>None</td>\n",
       "      <td>None</td>\n",
       "      <td>None</td>\n",
       "      <td>NaN</td>\n",
       "      <td>None</td>\n",
       "      <td>None</td>\n",
       "      <td>NaN</td>\n",
       "      <td>sbussmann</td>\n",
       "      <td>sbussmann@gmail.com</td>\n",
       "      <td>6b1888fae695d8e52a01ae5b0fefc2e1:oLVn5pTC3oowU...</td>\n",
       "      <td>Shane</td>\n",
       "      <td>Bussmann</td>\n",
       "      <td>2010-11-18 17:27:34</td>\n",
       "      <td>2016-08-10 19:19:31</td>\n",
       "    </tr>\n",
       "    <tr>\n",
       "      <th>30295</th>\n",
       "      <td>34405</td>\n",
       "      <td>2</td>\n",
       "      <td>NaN</td>\n",
       "      <td>20329</td>\n",
       "      <td>None</td>\n",
       "      <td>66.0</td>\n",
       "      <td>handle_div2</td>\n",
       "      <td>1.0</td>\n",
       "      <td>reliable</td>\n",
       "      <td>sometime</td>\n",
       "      <td>short</td>\n",
       "      <td>one_hand</td>\n",
       "      <td>0.0</td>\n",
       "      <td>fast</td>\n",
       "      <td></td>\n",
       "      <td>0.0</td>\n",
       "      <td>sbussmann</td>\n",
       "      <td>sbussmann@gmail.com</td>\n",
       "      <td>6b1888fae695d8e52a01ae5b0fefc2e1:oLVn5pTC3oowU...</td>\n",
       "      <td>Shane</td>\n",
       "      <td>Bussmann</td>\n",
       "      <td>2010-11-18 17:27:34</td>\n",
       "      <td>2016-08-10 19:19:31</td>\n",
       "    </tr>\n",
       "    <tr>\n",
       "      <th>30295</th>\n",
       "      <td>37668</td>\n",
       "      <td>1</td>\n",
       "      <td>NaN</td>\n",
       "      <td>20549</td>\n",
       "      <td>None</td>\n",
       "      <td>61.0</td>\n",
       "      <td>None</td>\n",
       "      <td>NaN</td>\n",
       "      <td>None</td>\n",
       "      <td>None</td>\n",
       "      <td>None</td>\n",
       "      <td>None</td>\n",
       "      <td>NaN</td>\n",
       "      <td>None</td>\n",
       "      <td>None</td>\n",
       "      <td>NaN</td>\n",
       "      <td>sbussmann</td>\n",
       "      <td>sbussmann@gmail.com</td>\n",
       "      <td>6b1888fae695d8e52a01ae5b0fefc2e1:oLVn5pTC3oowU...</td>\n",
       "      <td>Shane</td>\n",
       "      <td>Bussmann</td>\n",
       "      <td>2010-11-18 17:27:34</td>\n",
       "      <td>2016-08-10 19:19:31</td>\n",
       "    </tr>\n",
       "    <tr>\n",
       "      <th>30295</th>\n",
       "      <td>38484</td>\n",
       "      <td>1</td>\n",
       "      <td>NaN</td>\n",
       "      <td>29236</td>\n",
       "      <td>None</td>\n",
       "      <td>61.0</td>\n",
       "      <td>None</td>\n",
       "      <td>NaN</td>\n",
       "      <td>None</td>\n",
       "      <td>None</td>\n",
       "      <td>None</td>\n",
       "      <td>None</td>\n",
       "      <td>NaN</td>\n",
       "      <td>None</td>\n",
       "      <td>None</td>\n",
       "      <td>NaN</td>\n",
       "      <td>sbussmann</td>\n",
       "      <td>sbussmann@gmail.com</td>\n",
       "      <td>6b1888fae695d8e52a01ae5b0fefc2e1:oLVn5pTC3oowU...</td>\n",
       "      <td>Shane</td>\n",
       "      <td>Bussmann</td>\n",
       "      <td>2010-11-18 17:27:34</td>\n",
       "      <td>2016-08-10 19:19:31</td>\n",
       "    </tr>\n",
       "    <tr>\n",
       "      <th>30295</th>\n",
       "      <td>40258</td>\n",
       "      <td>1</td>\n",
       "      <td>NaN</td>\n",
       "      <td>29236</td>\n",
       "      <td>None</td>\n",
       "      <td>55.0</td>\n",
       "      <td>None</td>\n",
       "      <td>NaN</td>\n",
       "      <td>None</td>\n",
       "      <td>None</td>\n",
       "      <td>None</td>\n",
       "      <td>None</td>\n",
       "      <td>NaN</td>\n",
       "      <td>None</td>\n",
       "      <td>None</td>\n",
       "      <td>NaN</td>\n",
       "      <td>sbussmann</td>\n",
       "      <td>sbussmann@gmail.com</td>\n",
       "      <td>6b1888fae695d8e52a01ae5b0fefc2e1:oLVn5pTC3oowU...</td>\n",
       "      <td>Shane</td>\n",
       "      <td>Bussmann</td>\n",
       "      <td>2010-11-18 17:27:34</td>\n",
       "      <td>2016-08-10 19:19:31</td>\n",
       "    </tr>\n",
       "  </tbody>\n",
       "</table>\n",
       "</div>"
      ],
      "text/plain": [
       "         league_id  rank_type  status edited_by modification_id  rank  \\\n",
       "user_id                                                                 \n",
       "30295            0          1     NaN     30295            None  49.0   \n",
       "30295        30844          1     NaN      3348            None  40.0   \n",
       "30295        30919          1     NaN      3424            None  40.0   \n",
       "30295        30919          2     NaN       919            None  53.0   \n",
       "30295        30924          1     NaN     10373            None  40.0   \n",
       "30295        30924          2     NaN     30295            None  59.0   \n",
       "30295        31034          1     NaN      3424            None  55.0   \n",
       "30295        31034          2     NaN     30295            None  66.0   \n",
       "30295        32741          1     NaN      3348            None  60.0   \n",
       "30295        32746          1     0.0     10373            None  57.0   \n",
       "30295        34405          1     NaN     10373            None  57.0   \n",
       "30295        34405          2     NaN     20329            None  66.0   \n",
       "30295        37668          1     NaN     20549            None  61.0   \n",
       "30295        38484          1     NaN     29236            None  61.0   \n",
       "30295        40258          1     NaN     29236            None  55.0   \n",
       "\n",
       "          experience  other_sport  throwing break_mark   huck   receiving  \\\n",
       "user_id                                                                     \n",
       "30295           div2          1.0  reliable   sometime   none  both_hands   \n",
       "30295           None          NaN      None       None   None        None   \n",
       "30295           None          NaN      None       None   None        None   \n",
       "30295            hat          1.0  reliable   sometime  short    one_hand   \n",
       "30295           None          NaN      None       None   None        None   \n",
       "30295           div2          1.0  reliable   sometime   none     leaping   \n",
       "30295           None          NaN      None       None   None        None   \n",
       "30295    handle_div2          1.0  reliable   sometime  short    one_hand   \n",
       "30295           None          NaN      None       None   None        None   \n",
       "30295           None          NaN      None       None   None        None   \n",
       "30295           None          NaN      None       None   None        None   \n",
       "30295    handle_div2          1.0  reliable   sometime  short    one_hand   \n",
       "30295           None          NaN      None       None   None        None   \n",
       "30295           None          NaN      None       None   None        None   \n",
       "30295           None          NaN      None       None   None        None   \n",
       "\n",
       "         height    speed  shirt  recommend_captain  user_name  \\\n",
       "user_id                                                         \n",
       "30295      73.0     fast  large                0.0  sbussmann   \n",
       "30295       NaN     None   None                NaN  sbussmann   \n",
       "30295       NaN     None   None                NaN  sbussmann   \n",
       "30295       0.0  average                       NaN  sbussmann   \n",
       "30295       NaN     None   None                NaN  sbussmann   \n",
       "30295       0.0     fast                       NaN  sbussmann   \n",
       "30295       NaN     None   None                NaN  sbussmann   \n",
       "30295       0.0     fast                       NaN  sbussmann   \n",
       "30295       NaN     None   None                NaN  sbussmann   \n",
       "30295       NaN     None   None                NaN  sbussmann   \n",
       "30295       NaN     None   None                NaN  sbussmann   \n",
       "30295       0.0     fast                       0.0  sbussmann   \n",
       "30295       NaN     None   None                NaN  sbussmann   \n",
       "30295       NaN     None   None                NaN  sbussmann   \n",
       "30295       NaN     None   None                NaN  sbussmann   \n",
       "\n",
       "                       email  \\\n",
       "user_id                        \n",
       "30295    sbussmann@gmail.com   \n",
       "30295    sbussmann@gmail.com   \n",
       "30295    sbussmann@gmail.com   \n",
       "30295    sbussmann@gmail.com   \n",
       "30295    sbussmann@gmail.com   \n",
       "30295    sbussmann@gmail.com   \n",
       "30295    sbussmann@gmail.com   \n",
       "30295    sbussmann@gmail.com   \n",
       "30295    sbussmann@gmail.com   \n",
       "30295    sbussmann@gmail.com   \n",
       "30295    sbussmann@gmail.com   \n",
       "30295    sbussmann@gmail.com   \n",
       "30295    sbussmann@gmail.com   \n",
       "30295    sbussmann@gmail.com   \n",
       "30295    sbussmann@gmail.com   \n",
       "\n",
       "                                                  password first_name  \\\n",
       "user_id                                                                 \n",
       "30295    6b1888fae695d8e52a01ae5b0fefc2e1:oLVn5pTC3oowU...      Shane   \n",
       "30295    6b1888fae695d8e52a01ae5b0fefc2e1:oLVn5pTC3oowU...      Shane   \n",
       "30295    6b1888fae695d8e52a01ae5b0fefc2e1:oLVn5pTC3oowU...      Shane   \n",
       "30295    6b1888fae695d8e52a01ae5b0fefc2e1:oLVn5pTC3oowU...      Shane   \n",
       "30295    6b1888fae695d8e52a01ae5b0fefc2e1:oLVn5pTC3oowU...      Shane   \n",
       "30295    6b1888fae695d8e52a01ae5b0fefc2e1:oLVn5pTC3oowU...      Shane   \n",
       "30295    6b1888fae695d8e52a01ae5b0fefc2e1:oLVn5pTC3oowU...      Shane   \n",
       "30295    6b1888fae695d8e52a01ae5b0fefc2e1:oLVn5pTC3oowU...      Shane   \n",
       "30295    6b1888fae695d8e52a01ae5b0fefc2e1:oLVn5pTC3oowU...      Shane   \n",
       "30295    6b1888fae695d8e52a01ae5b0fefc2e1:oLVn5pTC3oowU...      Shane   \n",
       "30295    6b1888fae695d8e52a01ae5b0fefc2e1:oLVn5pTC3oowU...      Shane   \n",
       "30295    6b1888fae695d8e52a01ae5b0fefc2e1:oLVn5pTC3oowU...      Shane   \n",
       "30295    6b1888fae695d8e52a01ae5b0fefc2e1:oLVn5pTC3oowU...      Shane   \n",
       "30295    6b1888fae695d8e52a01ae5b0fefc2e1:oLVn5pTC3oowU...      Shane   \n",
       "30295    6b1888fae695d8e52a01ae5b0fefc2e1:oLVn5pTC3oowU...      Shane   \n",
       "\n",
       "        last_name         edited_date          last_login  \n",
       "user_id                                                    \n",
       "30295    Bussmann 2010-11-18 17:27:34 2016-08-10 19:19:31  \n",
       "30295    Bussmann 2010-11-18 17:27:34 2016-08-10 19:19:31  \n",
       "30295    Bussmann 2010-11-18 17:27:34 2016-08-10 19:19:31  \n",
       "30295    Bussmann 2010-11-18 17:27:34 2016-08-10 19:19:31  \n",
       "30295    Bussmann 2010-11-18 17:27:34 2016-08-10 19:19:31  \n",
       "30295    Bussmann 2010-11-18 17:27:34 2016-08-10 19:19:31  \n",
       "30295    Bussmann 2010-11-18 17:27:34 2016-08-10 19:19:31  \n",
       "30295    Bussmann 2010-11-18 17:27:34 2016-08-10 19:19:31  \n",
       "30295    Bussmann 2010-11-18 17:27:34 2016-08-10 19:19:31  \n",
       "30295    Bussmann 2010-11-18 17:27:34 2016-08-10 19:19:31  \n",
       "30295    Bussmann 2010-11-18 17:27:34 2016-08-10 19:19:31  \n",
       "30295    Bussmann 2010-11-18 17:27:34 2016-08-10 19:19:31  \n",
       "30295    Bussmann 2010-11-18 17:27:34 2016-08-10 19:19:31  \n",
       "30295    Bussmann 2010-11-18 17:27:34 2016-08-10 19:19:31  \n",
       "30295    Bussmann 2010-11-18 17:27:34 2016-08-10 19:19:31  "
      ]
     },
     "execution_count": 40,
     "metadata": {},
     "output_type": "execute_result"
    }
   ],
   "source": [
    "self_ratings[(self_ratings['last_name'] == 'Bussmann') & (self_ratings['first_name'] == 'Shane')]"
   ]
  },
  {
   "cell_type": "code",
   "execution_count": 41,
   "metadata": {},
   "outputs": [],
   "source": [
    "hmm = self_ratings.replace('nan', -1)"
   ]
  },
  {
   "cell_type": "code",
   "execution_count": 42,
   "metadata": {},
   "outputs": [
    {
     "data": {
      "text/plain": [
       "0"
      ]
     },
     "execution_count": 42,
     "metadata": {},
     "output_type": "execute_result"
    }
   ],
   "source": [
    "len(hmm[hmm['rank'] == -1])"
   ]
  },
  {
   "cell_type": "code",
   "execution_count": 43,
   "metadata": {
    "collapsed": true
   },
   "outputs": [],
   "source": [
    "sqlfile = \"\"\"SELECT league_id,league_name,season FROM buda_leagues;\"\"\"\n",
    "buda_leagues = pd.read_sql(sqlfile, con)"
   ]
  },
  {
   "cell_type": "code",
   "execution_count": 44,
   "metadata": {},
   "outputs": [],
   "source": [
    "self_ratings_league = self_ratings.reset_index().merge(buda_leagues, on='league_id')"
   ]
  },
  {
   "cell_type": "code",
   "execution_count": 45,
   "metadata": {},
   "outputs": [
    {
     "data": {
      "text/plain": [
       "47921"
      ]
     },
     "execution_count": 45,
     "metadata": {},
     "output_type": "execute_result"
    }
   ],
   "source": [
    "len(self_ratings)"
   ]
  },
  {
   "cell_type": "code",
   "execution_count": 46,
   "metadata": {},
   "outputs": [
    {
     "data": {
      "text/plain": [
       "38296"
      ]
     },
     "execution_count": 46,
     "metadata": {},
     "output_type": "execute_result"
    }
   ],
   "source": [
    "len(self_ratings_league)"
   ]
  },
  {
   "cell_type": "code",
   "execution_count": 47,
   "metadata": {},
   "outputs": [],
   "source": [
    "self_ratings_league = self_ratings_league.drop(['modification_id', 'user_name', 'email', 'password'], axis=1)"
   ]
  },
  {
   "cell_type": "code",
   "execution_count": 48,
   "metadata": {
    "collapsed": true
   },
   "outputs": [],
   "source": [
    "self_ratings_league.to_csv(os.path.join(interim_dir, 'self_ratings.csv'))"
   ]
  },
  {
   "cell_type": "code",
   "execution_count": 50,
   "metadata": {},
   "outputs": [
    {
     "ename": "AttributeError",
     "evalue": "'DataFrame' object has no attribute 'sort'",
     "output_type": "error",
     "traceback": [
      "\u001b[0;31m---------------------------------------------------------------------------\u001b[0m",
      "\u001b[0;31mAttributeError\u001b[0m                            Traceback (most recent call last)",
      "\u001b[0;32m<ipython-input-50-44587d58bca7>\u001b[0m in \u001b[0;36m<module>\u001b[0;34m()\u001b[0m\n\u001b[0;32m----> 1\u001b[0;31m \u001b[0mself_ratings_league\u001b[0m\u001b[0;34m[\u001b[0m\u001b[0;34m(\u001b[0m\u001b[0mself_ratings_league\u001b[0m\u001b[0;34m[\u001b[0m\u001b[0;34m'first_name'\u001b[0m\u001b[0;34m]\u001b[0m \u001b[0;34m==\u001b[0m \u001b[0;34m'Martin'\u001b[0m\u001b[0;34m)\u001b[0m\u001b[0;34m]\u001b[0m\u001b[0;34m.\u001b[0m\u001b[0msort\u001b[0m\u001b[0;34m(\u001b[0m\u001b[0;34m'league_id'\u001b[0m\u001b[0;34m)\u001b[0m\u001b[0;34m\u001b[0m\u001b[0m\n\u001b[0m",
      "\u001b[0;32m/Users/rbussman/anaconda/lib/python2.7/site-packages/pandas/core/generic.pyc\u001b[0m in \u001b[0;36m__getattr__\u001b[0;34m(self, name)\u001b[0m\n\u001b[1;32m   2968\u001b[0m             \u001b[0;32mif\u001b[0m \u001b[0mname\u001b[0m \u001b[0;32min\u001b[0m \u001b[0mself\u001b[0m\u001b[0;34m.\u001b[0m\u001b[0m_info_axis\u001b[0m\u001b[0;34m:\u001b[0m\u001b[0;34m\u001b[0m\u001b[0m\n\u001b[1;32m   2969\u001b[0m                 \u001b[0;32mreturn\u001b[0m \u001b[0mself\u001b[0m\u001b[0;34m[\u001b[0m\u001b[0mname\u001b[0m\u001b[0;34m]\u001b[0m\u001b[0;34m\u001b[0m\u001b[0m\n\u001b[0;32m-> 2970\u001b[0;31m             \u001b[0;32mreturn\u001b[0m \u001b[0mobject\u001b[0m\u001b[0;34m.\u001b[0m\u001b[0m__getattribute__\u001b[0m\u001b[0;34m(\u001b[0m\u001b[0mself\u001b[0m\u001b[0;34m,\u001b[0m \u001b[0mname\u001b[0m\u001b[0;34m)\u001b[0m\u001b[0;34m\u001b[0m\u001b[0m\n\u001b[0m\u001b[1;32m   2971\u001b[0m \u001b[0;34m\u001b[0m\u001b[0m\n\u001b[1;32m   2972\u001b[0m     \u001b[0;32mdef\u001b[0m \u001b[0m__setattr__\u001b[0m\u001b[0;34m(\u001b[0m\u001b[0mself\u001b[0m\u001b[0;34m,\u001b[0m \u001b[0mname\u001b[0m\u001b[0;34m,\u001b[0m \u001b[0mvalue\u001b[0m\u001b[0;34m)\u001b[0m\u001b[0;34m:\u001b[0m\u001b[0;34m\u001b[0m\u001b[0m\n",
      "\u001b[0;31mAttributeError\u001b[0m: 'DataFrame' object has no attribute 'sort'"
     ]
    }
   ],
   "source": [
    "self_ratings_league[(self_ratings_league['first_name'] == 'Martin')].sort('league_id')"
   ]
  },
  {
   "cell_type": "code",
   "execution_count": 51,
   "metadata": {},
   "outputs": [
    {
     "ename": "NameError",
     "evalue": "name 'ratings' is not defined",
     "output_type": "error",
     "traceback": [
      "\u001b[0;31m---------------------------------------------------------------------------\u001b[0m",
      "\u001b[0;31mNameError\u001b[0m                                 Traceback (most recent call last)",
      "\u001b[0;32m<ipython-input-51-5986df920a53>\u001b[0m in \u001b[0;36m<module>\u001b[0;34m()\u001b[0m\n\u001b[0;32m----> 1\u001b[0;31m \u001b[0mratings\u001b[0m\u001b[0;34m.\u001b[0m\u001b[0mteam_players\u001b[0m\u001b[0;34m[\u001b[0m\u001b[0;34m'40328'\u001b[0m\u001b[0;34m]\u001b[0m\u001b[0;34m[\u001b[0m\u001b[0;36m2\u001b[0m\u001b[0;34m]\u001b[0m\u001b[0;34m.\u001b[0m\u001b[0msplit\u001b[0m\u001b[0;34m(\u001b[0m\u001b[0;34m','\u001b[0m\u001b[0;34m)\u001b[0m\u001b[0;34m[\u001b[0m\u001b[0;36m1\u001b[0m\u001b[0;34m]\u001b[0m\u001b[0;34m[\u001b[0m\u001b[0;36m1\u001b[0m\u001b[0;34m:\u001b[0m\u001b[0;34m]\u001b[0m\u001b[0;34m\u001b[0m\u001b[0m\n\u001b[0m",
      "\u001b[0;31mNameError\u001b[0m: name 'ratings' is not defined"
     ]
    }
   ],
   "source": [
    "ratings.team_players['40328'][2].split(',')[1][1:]"
   ]
  },
  {
   "cell_type": "code",
   "execution_count": 54,
   "metadata": {},
   "outputs": [
    {
     "name": "stdout",
     "output_type": "stream",
     "text": [
      "40258\n"
     ]
    }
   ],
   "source": [
    "for league_id in ratings.league_teams:\n",
    "    if '40328' in ratings.league_teams[league_id]:\n",
    "        print(league_id)"
   ]
  },
  {
   "cell_type": "code",
   "execution_count": null,
   "metadata": {
    "collapsed": true
   },
   "outputs": [],
   "source": []
  }
 ],
 "metadata": {
  "kernelspec": {
   "display_name": "Python 2",
   "language": "python",
   "name": "python2"
  },
  "language_info": {
   "codemirror_mode": {
    "name": "ipython",
    "version": 2
   },
   "file_extension": ".py",
   "mimetype": "text/x-python",
   "name": "python",
   "nbconvert_exporter": "python",
   "pygments_lexer": "ipython2",
   "version": "2.7.13"
  }
 },
 "nbformat": 4,
 "nbformat_minor": 1
}
