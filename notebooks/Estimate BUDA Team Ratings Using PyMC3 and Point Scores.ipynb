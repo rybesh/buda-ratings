{
 "cells": [
  {
   "cell_type": "markdown",
   "metadata": {},
   "source": [
    "# Summary\n",
    "\n",
    "Game scores are useful for identifying which team is likely to win a given game against another team. Point scores are useful for saying which team is likely to win a given point against another team.\n",
    "\n",
    "The problems with this approach were the same problems with my original effort based on simple wins and losses. I resolved those problems with help from PyMC3 developers, and now my original model works well. I am holding off on further development of this approach using point scores for now."
   ]
  },
  {
   "cell_type": "code",
   "execution_count": 1,
   "metadata": {
    "collapsed": true
   },
   "outputs": [],
   "source": [
    "import pandas as pd\n",
    "import os\n",
    "import numpy as np\n",
    "import pymc3 as pm\n",
    "from pymc3.math import invlogit\n",
    "from tqdm import tqdm\n",
    "from theano import tensor as tt\n",
    "\n",
    "%matplotlib inline"
   ]
  },
  {
   "cell_type": "code",
   "execution_count": 2,
   "metadata": {
    "collapsed": true
   },
   "outputs": [],
   "source": [
    "project_dir = '/Users/rbussman/Projects/BUDA/buda-ratings'\n",
    "scores_dir = os.path.join(project_dir, 'data', 'raw', 'game_scores')"
   ]
  },
  {
   "cell_type": "code",
   "execution_count": 3,
   "metadata": {
    "collapsed": true
   },
   "outputs": [],
   "source": [
    "# summer club league 2016\n",
    "league_id = 40264\n",
    "game_scores = pd.read_csv(os.path.join(scores_dir, 'scores_{}.csv'.format(league_id)))"
   ]
  },
  {
   "cell_type": "code",
   "execution_count": 4,
   "metadata": {},
   "outputs": [
    {
     "data": {
      "text/html": [
       "<div>\n",
       "<style>\n",
       "    .dataframe thead tr:only-child th {\n",
       "        text-align: right;\n",
       "    }\n",
       "\n",
       "    .dataframe thead th {\n",
       "        text-align: left;\n",
       "    }\n",
       "\n",
       "    .dataframe tbody tr th {\n",
       "        vertical-align: top;\n",
       "    }\n",
       "</style>\n",
       "<table border=\"1\" class=\"dataframe\">\n",
       "  <thead>\n",
       "    <tr style=\"text-align: right;\">\n",
       "      <th></th>\n",
       "      <th>Team A</th>\n",
       "      <th>Team B</th>\n",
       "      <th>Tourney Qualifying games*</th>\n",
       "      <th>divname</th>\n",
       "      <th>Score A</th>\n",
       "      <th>Score B</th>\n",
       "    </tr>\n",
       "  </thead>\n",
       "  <tbody>\n",
       "    <tr>\n",
       "      <th>0</th>\n",
       "      <td>AHOC</td>\n",
       "      <td>Gothrilla</td>\n",
       "      <td>-99</td>\n",
       "      <td>4/3 Div 1</td>\n",
       "      <td>15</td>\n",
       "      <td>12</td>\n",
       "    </tr>\n",
       "    <tr>\n",
       "      <th>1</th>\n",
       "      <td>AHOC</td>\n",
       "      <td>BBN</td>\n",
       "      <td>-99</td>\n",
       "      <td>4/3 Div 1</td>\n",
       "      <td>15</td>\n",
       "      <td>1</td>\n",
       "    </tr>\n",
       "    <tr>\n",
       "      <th>2</th>\n",
       "      <td>AHOC</td>\n",
       "      <td>Stonecutters</td>\n",
       "      <td>-99</td>\n",
       "      <td>4/3 Div 1</td>\n",
       "      <td>15</td>\n",
       "      <td>8</td>\n",
       "    </tr>\n",
       "    <tr>\n",
       "      <th>3</th>\n",
       "      <td>AHOC</td>\n",
       "      <td>FlowChart</td>\n",
       "      <td>-99</td>\n",
       "      <td>4/3 Div 1</td>\n",
       "      <td>15</td>\n",
       "      <td>10</td>\n",
       "    </tr>\n",
       "    <tr>\n",
       "      <th>4</th>\n",
       "      <td>AHOC</td>\n",
       "      <td>Lady and the BAMF</td>\n",
       "      <td>-99</td>\n",
       "      <td>4/3 Div 1</td>\n",
       "      <td>15</td>\n",
       "      <td>5</td>\n",
       "    </tr>\n",
       "  </tbody>\n",
       "</table>\n",
       "</div>"
      ],
      "text/plain": [
       "  Team A             Team B  Tourney Qualifying games*    divname  Score A  \\\n",
       "0   AHOC          Gothrilla                        -99  4/3 Div 1       15   \n",
       "1   AHOC                BBN                        -99  4/3 Div 1       15   \n",
       "2   AHOC       Stonecutters                        -99  4/3 Div 1       15   \n",
       "3   AHOC          FlowChart                        -99  4/3 Div 1       15   \n",
       "4   AHOC  Lady and the BAMF                        -99  4/3 Div 1       15   \n",
       "\n",
       "   Score B  \n",
       "0       12  \n",
       "1        1  \n",
       "2        8  \n",
       "3       10  \n",
       "4        5  "
      ]
     },
     "execution_count": 4,
     "metadata": {},
     "output_type": "execute_result"
    }
   ],
   "source": [
    "game_scores.head()"
   ]
  },
  {
   "cell_type": "code",
   "execution_count": 5,
   "metadata": {},
   "outputs": [
    {
     "data": {
      "text/plain": [
       "array(['AHOC', 'Gothrilla', 'FlowChart', 'GrassBurner', 'Zerg Rush!',\n",
       "       'Swingers', 'TuneSquad', 'Turtle Boy',\n",
       "       'Live Poultry, Fresh Killed (LPFK)', 'BBN', 'Upstream',\n",
       "       'Injustice League', 'Puddingstone', 'Flaming Croissants',\n",
       "       \"Jack's Abby HAOS Lager\",\n",
       "       'License to Kilt (fka Scoobers in Scotland)', 'Toads', 'JHOP',\n",
       "       'Rubs The Duckie', 'Disc Envy', 'Store Bought Dirt', 'Fetch',\n",
       "       'Booooooosh!', 'Dominion', \"Rogues' Gallery\", 'A Lil Bit Sticky',\n",
       "       'Nerd Alert', 'Moose Lightning', 'Lady and the BAMF', 'Tubbs',\n",
       "       'Hipster Kitties', 'TuneSquad Squared', 'Too Drunk to Fail',\n",
       "       'Oddjob', 'Batman and the Robins', 'Stack to the Future',\n",
       "       'Underwater Monkey Cowboys', 'Baboon Heart', 'Top Shelf',\n",
       "       '123 Trap!', 'SnakeCountryBromance', 'Stonecutters',\n",
       "       'Shake and Bake', 'JuJu Hex', 'Pink Flamingos', 'Baba Yaga',\n",
       "       'Maverick', 'Hippos', 'Bacon', 'Get Flat Ultimate',\n",
       "       'Hucky McThrowandcatch', 'SHRedline', 'The Funky Bunch',\n",
       "       'Iron Squids', 'Rabbit Disc', 'Granite State Grass Stains',\n",
       "       'Flying Salsa', 'Demons', 'Alpha No Beta', 'Tofu Wolf', 'Spam',\n",
       "       'Killer Bees', 'THEM!', 'Jiggy', 'SIR!', 'M.O.B.',\n",
       "       'Spawning Alewives', 'Crossroads', '215 Needham Street', 'Stall 9',\n",
       "       'Fat Bass Ultimate', 'Squid Squad', 'Hammered', 'Desert Horizon',\n",
       "       'DISCtinguished Gentlemen', 'Savage Strike',\n",
       "       \"I'm not gonna not play Flong\", 'Sky Zone'], dtype=object)"
      ]
     },
     "execution_count": 5,
     "metadata": {},
     "output_type": "execute_result"
    }
   ],
   "source": [
    "game_scores['Team A'].unique()"
   ]
  },
  {
   "cell_type": "code",
   "execution_count": 6,
   "metadata": {},
   "outputs": [
    {
     "data": {
      "text/plain": [
       "array(['4/3 Div 1', '4/3 Div 2', '4/3 Div 3', '5/2 Div 1', '5/2 Div 2',\n",
       "       '5/2 Div 3', 'Open Div 1', 'Open Div 2'], dtype=object)"
      ]
     },
     "execution_count": 6,
     "metadata": {},
     "output_type": "execute_result"
    }
   ],
   "source": [
    "game_scores['divname'].unique()"
   ]
  },
  {
   "cell_type": "code",
   "execution_count": 7,
   "metadata": {
    "collapsed": true
   },
   "outputs": [],
   "source": [
    "teams = game_scores['Team A'].unique()"
   ]
  },
  {
   "cell_type": "code",
   "execution_count": 8,
   "metadata": {
    "collapsed": true
   },
   "outputs": [],
   "source": [
    "div1_index = 0\n",
    "div2_index = 0\n",
    "div3_index = 0\n",
    "open1_index = 0\n",
    "open2_index = 0\n",
    "team2index = {}\n",
    "team2div = {}\n",
    "for i, team in enumerate(teams):\n",
    "    row = game_scores['Team A'] == team\n",
    "    div_team = game_scores.loc[row, 'divname'].unique()[0]\n",
    "    team2div[team] = div_team\n",
    "    \n",
    "    if div_team == '4/3 Div 1' or div_team == '5/2 Div 1':\n",
    "        team2index[team] = div1_index\n",
    "        div1_index += 1\n",
    "        \n",
    "    if div_team == '4/3 Div 2' or div_team == '5/2 Div 2':\n",
    "        team2index[team] = div2_index\n",
    "        div2_index += 1   \n",
    "        \n",
    "    if div_team == '4/3 Div 3' or div_team == '5/2 Div 3':\n",
    "        team2index[team] = div3_index\n",
    "        div3_index += 1\n",
    "        \n",
    "    if div_team == 'Open Div 1':\n",
    "        team2index[team] = open1_index\n",
    "        open1_index += 1\n",
    "        \n",
    "    if div_team == 'Open Div 2':\n",
    "        team2index[team] = open2_index\n",
    "        open2_index += 1\n",
    "        "
   ]
  },
  {
   "cell_type": "code",
   "execution_count": 9,
   "metadata": {
    "collapsed": true
   },
   "outputs": [],
   "source": [
    "game_points = []\n",
    "for row in game_scores.index:\n",
    "    \n",
    "    team_A = game_scores.loc[row, 'Team A']\n",
    "    team_B = game_scores.loc[row, 'Team B']\n",
    "    div_A = team2div[team_A]\n",
    "    div_B = team2div[team_B]\n",
    "    index_A = team2index[team_A]\n",
    "    index_B = team2index[team_B]\n",
    "    \n",
    "    scores_A = game_scores.loc[row, 'Score A']\n",
    "    scores_B = game_scores.loc[row, 'Score B']\n",
    "    for i in range(scores_A):\n",
    "        game_point = {\n",
    "            'Team A': team_A,\n",
    "            'Team B': team_B,\n",
    "            'Team A Scores': True,\n",
    "            'Div A': div_A,\n",
    "            'Div B': div_B,\n",
    "            'Index A': index_A,\n",
    "            'Index B': index_B\n",
    "        }\n",
    "        game_points.append(game_point)\n",
    "        \n",
    "    for i in range(scores_B):\n",
    "        game_point = {\n",
    "            'Team A': team_A,\n",
    "            'Team B': team_B,\n",
    "            'Team A Scores': False,\n",
    "            'Div A': div_A,\n",
    "            'Div B': div_B,\n",
    "            'Index A': index_A,\n",
    "            'Index B': index_B\n",
    "        }\n",
    "        game_points.append(game_point)\n",
    "        \n",
    "game_points = pd.DataFrame(game_points)"
   ]
  },
  {
   "cell_type": "code",
   "execution_count": 10,
   "metadata": {},
   "outputs": [
    {
     "data": {
      "text/html": [
       "<div>\n",
       "<style>\n",
       "    .dataframe thead tr:only-child th {\n",
       "        text-align: right;\n",
       "    }\n",
       "\n",
       "    .dataframe thead th {\n",
       "        text-align: left;\n",
       "    }\n",
       "\n",
       "    .dataframe tbody tr th {\n",
       "        vertical-align: top;\n",
       "    }\n",
       "</style>\n",
       "<table border=\"1\" class=\"dataframe\">\n",
       "  <thead>\n",
       "    <tr style=\"text-align: right;\">\n",
       "      <th></th>\n",
       "      <th>Div A</th>\n",
       "      <th>Div B</th>\n",
       "      <th>Index A</th>\n",
       "      <th>Index B</th>\n",
       "      <th>Team A</th>\n",
       "      <th>Team A Scores</th>\n",
       "      <th>Team B</th>\n",
       "    </tr>\n",
       "  </thead>\n",
       "  <tbody>\n",
       "    <tr>\n",
       "      <th>0</th>\n",
       "      <td>4/3 Div 1</td>\n",
       "      <td>4/3 Div 1</td>\n",
       "      <td>0</td>\n",
       "      <td>1</td>\n",
       "      <td>AHOC</td>\n",
       "      <td>True</td>\n",
       "      <td>Gothrilla</td>\n",
       "    </tr>\n",
       "    <tr>\n",
       "      <th>1</th>\n",
       "      <td>4/3 Div 1</td>\n",
       "      <td>4/3 Div 1</td>\n",
       "      <td>0</td>\n",
       "      <td>1</td>\n",
       "      <td>AHOC</td>\n",
       "      <td>True</td>\n",
       "      <td>Gothrilla</td>\n",
       "    </tr>\n",
       "    <tr>\n",
       "      <th>2</th>\n",
       "      <td>4/3 Div 1</td>\n",
       "      <td>4/3 Div 1</td>\n",
       "      <td>0</td>\n",
       "      <td>1</td>\n",
       "      <td>AHOC</td>\n",
       "      <td>True</td>\n",
       "      <td>Gothrilla</td>\n",
       "    </tr>\n",
       "    <tr>\n",
       "      <th>3</th>\n",
       "      <td>4/3 Div 1</td>\n",
       "      <td>4/3 Div 1</td>\n",
       "      <td>0</td>\n",
       "      <td>1</td>\n",
       "      <td>AHOC</td>\n",
       "      <td>True</td>\n",
       "      <td>Gothrilla</td>\n",
       "    </tr>\n",
       "    <tr>\n",
       "      <th>4</th>\n",
       "      <td>4/3 Div 1</td>\n",
       "      <td>4/3 Div 1</td>\n",
       "      <td>0</td>\n",
       "      <td>1</td>\n",
       "      <td>AHOC</td>\n",
       "      <td>True</td>\n",
       "      <td>Gothrilla</td>\n",
       "    </tr>\n",
       "  </tbody>\n",
       "</table>\n",
       "</div>"
      ],
      "text/plain": [
       "       Div A      Div B  Index A  Index B Team A  Team A Scores     Team B\n",
       "0  4/3 Div 1  4/3 Div 1        0        1   AHOC           True  Gothrilla\n",
       "1  4/3 Div 1  4/3 Div 1        0        1   AHOC           True  Gothrilla\n",
       "2  4/3 Div 1  4/3 Div 1        0        1   AHOC           True  Gothrilla\n",
       "3  4/3 Div 1  4/3 Div 1        0        1   AHOC           True  Gothrilla\n",
       "4  4/3 Div 1  4/3 Div 1        0        1   AHOC           True  Gothrilla"
      ]
     },
     "execution_count": 10,
     "metadata": {},
     "output_type": "execute_result"
    }
   ],
   "source": [
    "game_points.head()"
   ]
  },
  {
   "cell_type": "code",
   "execution_count": 11,
   "metadata": {
    "collapsed": true
   },
   "outputs": [],
   "source": [
    "n_teams = len(teams)"
   ]
  },
  {
   "cell_type": "code",
   "execution_count": 12,
   "metadata": {},
   "outputs": [
    {
     "data": {
      "text/plain": [
       "78"
      ]
     },
     "execution_count": 12,
     "metadata": {},
     "output_type": "execute_result"
    }
   ],
   "source": [
    "n_teams"
   ]
  },
  {
   "cell_type": "code",
   "execution_count": 13,
   "metadata": {},
   "outputs": [
    {
     "name": "stderr",
     "output_type": "stream",
     "text": [
      "100%|██████████| 27362/27362 [01:02<00:00, 435.54it/s]\n"
     ]
    }
   ],
   "source": [
    "pair_list = []\n",
    "for row in tqdm(game_points.index):\n",
    "    team_A = game_points.loc[row, 'Team A']\n",
    "    team_B = game_points.loc[row, 'Team B']\n",
    "    new_pair = (team_A, team_B)\n",
    "    pair_list.append(new_pair)\n",
    "    reverse_pair = (team_B, team_A)\n",
    "    if reverse_pair in pair_list:\n",
    "        game_points = game_points.drop(row)\n"
   ]
  },
  {
   "cell_type": "code",
   "execution_count": 14,
   "metadata": {},
   "outputs": [
    {
     "data": {
      "text/plain": [
       "13681"
      ]
     },
     "execution_count": 14,
     "metadata": {},
     "output_type": "execute_result"
    }
   ],
   "source": [
    "len(game_points)"
   ]
  },
  {
   "cell_type": "code",
   "execution_count": 15,
   "metadata": {
    "collapsed": true
   },
   "outputs": [],
   "source": [
    "game_points = game_points.reset_index().drop('index', axis=1)"
   ]
  },
  {
   "cell_type": "code",
   "execution_count": 16,
   "metadata": {},
   "outputs": [
    {
     "data": {
      "text/html": [
       "<div>\n",
       "<style>\n",
       "    .dataframe thead tr:only-child th {\n",
       "        text-align: right;\n",
       "    }\n",
       "\n",
       "    .dataframe thead th {\n",
       "        text-align: left;\n",
       "    }\n",
       "\n",
       "    .dataframe tbody tr th {\n",
       "        vertical-align: top;\n",
       "    }\n",
       "</style>\n",
       "<table border=\"1\" class=\"dataframe\">\n",
       "  <thead>\n",
       "    <tr style=\"text-align: right;\">\n",
       "      <th></th>\n",
       "      <th>Div A</th>\n",
       "      <th>Div B</th>\n",
       "      <th>Index A</th>\n",
       "      <th>Index B</th>\n",
       "      <th>Team A</th>\n",
       "      <th>Team A Scores</th>\n",
       "      <th>Team B</th>\n",
       "    </tr>\n",
       "  </thead>\n",
       "  <tbody>\n",
       "    <tr>\n",
       "      <th>13666</th>\n",
       "      <td>Open Div 2</td>\n",
       "      <td>Open Div 2</td>\n",
       "      <td>0</td>\n",
       "      <td>1</td>\n",
       "      <td>I'm not gonna not play Flong</td>\n",
       "      <td>True</td>\n",
       "      <td>Sky Zone</td>\n",
       "    </tr>\n",
       "    <tr>\n",
       "      <th>13667</th>\n",
       "      <td>Open Div 2</td>\n",
       "      <td>Open Div 2</td>\n",
       "      <td>0</td>\n",
       "      <td>1</td>\n",
       "      <td>I'm not gonna not play Flong</td>\n",
       "      <td>True</td>\n",
       "      <td>Sky Zone</td>\n",
       "    </tr>\n",
       "    <tr>\n",
       "      <th>13668</th>\n",
       "      <td>Open Div 2</td>\n",
       "      <td>Open Div 2</td>\n",
       "      <td>0</td>\n",
       "      <td>1</td>\n",
       "      <td>I'm not gonna not play Flong</td>\n",
       "      <td>True</td>\n",
       "      <td>Sky Zone</td>\n",
       "    </tr>\n",
       "    <tr>\n",
       "      <th>13669</th>\n",
       "      <td>Open Div 2</td>\n",
       "      <td>Open Div 2</td>\n",
       "      <td>0</td>\n",
       "      <td>1</td>\n",
       "      <td>I'm not gonna not play Flong</td>\n",
       "      <td>True</td>\n",
       "      <td>Sky Zone</td>\n",
       "    </tr>\n",
       "    <tr>\n",
       "      <th>13670</th>\n",
       "      <td>Open Div 2</td>\n",
       "      <td>Open Div 2</td>\n",
       "      <td>0</td>\n",
       "      <td>1</td>\n",
       "      <td>I'm not gonna not play Flong</td>\n",
       "      <td>True</td>\n",
       "      <td>Sky Zone</td>\n",
       "    </tr>\n",
       "    <tr>\n",
       "      <th>13671</th>\n",
       "      <td>Open Div 2</td>\n",
       "      <td>Open Div 2</td>\n",
       "      <td>0</td>\n",
       "      <td>1</td>\n",
       "      <td>I'm not gonna not play Flong</td>\n",
       "      <td>True</td>\n",
       "      <td>Sky Zone</td>\n",
       "    </tr>\n",
       "    <tr>\n",
       "      <th>13672</th>\n",
       "      <td>Open Div 2</td>\n",
       "      <td>Open Div 2</td>\n",
       "      <td>0</td>\n",
       "      <td>1</td>\n",
       "      <td>I'm not gonna not play Flong</td>\n",
       "      <td>True</td>\n",
       "      <td>Sky Zone</td>\n",
       "    </tr>\n",
       "    <tr>\n",
       "      <th>13673</th>\n",
       "      <td>Open Div 2</td>\n",
       "      <td>Open Div 2</td>\n",
       "      <td>0</td>\n",
       "      <td>1</td>\n",
       "      <td>I'm not gonna not play Flong</td>\n",
       "      <td>True</td>\n",
       "      <td>Sky Zone</td>\n",
       "    </tr>\n",
       "    <tr>\n",
       "      <th>13674</th>\n",
       "      <td>Open Div 2</td>\n",
       "      <td>Open Div 2</td>\n",
       "      <td>0</td>\n",
       "      <td>1</td>\n",
       "      <td>I'm not gonna not play Flong</td>\n",
       "      <td>True</td>\n",
       "      <td>Sky Zone</td>\n",
       "    </tr>\n",
       "    <tr>\n",
       "      <th>13675</th>\n",
       "      <td>Open Div 2</td>\n",
       "      <td>Open Div 2</td>\n",
       "      <td>0</td>\n",
       "      <td>1</td>\n",
       "      <td>I'm not gonna not play Flong</td>\n",
       "      <td>True</td>\n",
       "      <td>Sky Zone</td>\n",
       "    </tr>\n",
       "    <tr>\n",
       "      <th>13676</th>\n",
       "      <td>Open Div 2</td>\n",
       "      <td>Open Div 2</td>\n",
       "      <td>0</td>\n",
       "      <td>1</td>\n",
       "      <td>I'm not gonna not play Flong</td>\n",
       "      <td>False</td>\n",
       "      <td>Sky Zone</td>\n",
       "    </tr>\n",
       "    <tr>\n",
       "      <th>13677</th>\n",
       "      <td>Open Div 2</td>\n",
       "      <td>Open Div 2</td>\n",
       "      <td>0</td>\n",
       "      <td>1</td>\n",
       "      <td>I'm not gonna not play Flong</td>\n",
       "      <td>False</td>\n",
       "      <td>Sky Zone</td>\n",
       "    </tr>\n",
       "    <tr>\n",
       "      <th>13678</th>\n",
       "      <td>Open Div 2</td>\n",
       "      <td>Open Div 2</td>\n",
       "      <td>0</td>\n",
       "      <td>1</td>\n",
       "      <td>I'm not gonna not play Flong</td>\n",
       "      <td>False</td>\n",
       "      <td>Sky Zone</td>\n",
       "    </tr>\n",
       "    <tr>\n",
       "      <th>13679</th>\n",
       "      <td>Open Div 2</td>\n",
       "      <td>Open Div 2</td>\n",
       "      <td>0</td>\n",
       "      <td>1</td>\n",
       "      <td>I'm not gonna not play Flong</td>\n",
       "      <td>False</td>\n",
       "      <td>Sky Zone</td>\n",
       "    </tr>\n",
       "    <tr>\n",
       "      <th>13680</th>\n",
       "      <td>Open Div 2</td>\n",
       "      <td>Open Div 2</td>\n",
       "      <td>0</td>\n",
       "      <td>1</td>\n",
       "      <td>I'm not gonna not play Flong</td>\n",
       "      <td>False</td>\n",
       "      <td>Sky Zone</td>\n",
       "    </tr>\n",
       "  </tbody>\n",
       "</table>\n",
       "</div>"
      ],
      "text/plain": [
       "            Div A       Div B  Index A  Index B                        Team A  \\\n",
       "13666  Open Div 2  Open Div 2        0        1  I'm not gonna not play Flong   \n",
       "13667  Open Div 2  Open Div 2        0        1  I'm not gonna not play Flong   \n",
       "13668  Open Div 2  Open Div 2        0        1  I'm not gonna not play Flong   \n",
       "13669  Open Div 2  Open Div 2        0        1  I'm not gonna not play Flong   \n",
       "13670  Open Div 2  Open Div 2        0        1  I'm not gonna not play Flong   \n",
       "13671  Open Div 2  Open Div 2        0        1  I'm not gonna not play Flong   \n",
       "13672  Open Div 2  Open Div 2        0        1  I'm not gonna not play Flong   \n",
       "13673  Open Div 2  Open Div 2        0        1  I'm not gonna not play Flong   \n",
       "13674  Open Div 2  Open Div 2        0        1  I'm not gonna not play Flong   \n",
       "13675  Open Div 2  Open Div 2        0        1  I'm not gonna not play Flong   \n",
       "13676  Open Div 2  Open Div 2        0        1  I'm not gonna not play Flong   \n",
       "13677  Open Div 2  Open Div 2        0        1  I'm not gonna not play Flong   \n",
       "13678  Open Div 2  Open Div 2        0        1  I'm not gonna not play Flong   \n",
       "13679  Open Div 2  Open Div 2        0        1  I'm not gonna not play Flong   \n",
       "13680  Open Div 2  Open Div 2        0        1  I'm not gonna not play Flong   \n",
       "\n",
       "       Team A Scores    Team B  \n",
       "13666           True  Sky Zone  \n",
       "13667           True  Sky Zone  \n",
       "13668           True  Sky Zone  \n",
       "13669           True  Sky Zone  \n",
       "13670           True  Sky Zone  \n",
       "13671           True  Sky Zone  \n",
       "13672           True  Sky Zone  \n",
       "13673           True  Sky Zone  \n",
       "13674           True  Sky Zone  \n",
       "13675           True  Sky Zone  \n",
       "13676          False  Sky Zone  \n",
       "13677          False  Sky Zone  \n",
       "13678          False  Sky Zone  \n",
       "13679          False  Sky Zone  \n",
       "13680          False  Sky Zone  "
      ]
     },
     "execution_count": 16,
     "metadata": {},
     "output_type": "execute_result"
    }
   ],
   "source": [
    "game_points.tail(15)"
   ]
  },
  {
   "cell_type": "code",
   "execution_count": 17,
   "metadata": {
    "collapsed": true,
    "scrolled": true
   },
   "outputs": [],
   "source": [
    "d1_index = (game_points['Div A'] == '4/3 Div 1') & (game_points['Div B'] == '4/3 Div 1')\n",
    "# true_index = (mixed_scores['Index B'] < 30) & (mixed_scores['ID A'] < 30)\n",
    "d1_points = game_points[d1_index]"
   ]
  },
  {
   "cell_type": "code",
   "execution_count": 18,
   "metadata": {},
   "outputs": [
    {
     "data": {
      "text/plain": [
       "(1162, 7)"
      ]
     },
     "execution_count": 18,
     "metadata": {},
     "output_type": "execute_result"
    }
   ],
   "source": [
    "d1_points.shape"
   ]
  },
  {
   "cell_type": "code",
   "execution_count": 19,
   "metadata": {
    "collapsed": true
   },
   "outputs": [],
   "source": [
    "nteams = len(set(np.append(d1_points['Team A'].unique(), d1_points['Team B'].unique())))"
   ]
  },
  {
   "cell_type": "code",
   "execution_count": 20,
   "metadata": {},
   "outputs": [
    {
     "data": {
      "text/plain": [
       "10"
      ]
     },
     "execution_count": 20,
     "metadata": {},
     "output_type": "execute_result"
    }
   ],
   "source": [
    "nteams"
   ]
  },
  {
   "cell_type": "code",
   "execution_count": 21,
   "metadata": {},
   "outputs": [
    {
     "data": {
      "text/html": [
       "<div>\n",
       "<style>\n",
       "    .dataframe thead tr:only-child th {\n",
       "        text-align: right;\n",
       "    }\n",
       "\n",
       "    .dataframe thead th {\n",
       "        text-align: left;\n",
       "    }\n",
       "\n",
       "    .dataframe tbody tr th {\n",
       "        vertical-align: top;\n",
       "    }\n",
       "</style>\n",
       "<table border=\"1\" class=\"dataframe\">\n",
       "  <thead>\n",
       "    <tr style=\"text-align: right;\">\n",
       "      <th></th>\n",
       "      <th>Div A</th>\n",
       "      <th>Div B</th>\n",
       "      <th>Index A</th>\n",
       "      <th>Index B</th>\n",
       "      <th>Team A</th>\n",
       "      <th>Team A Scores</th>\n",
       "      <th>Team B</th>\n",
       "    </tr>\n",
       "  </thead>\n",
       "  <tbody>\n",
       "    <tr>\n",
       "      <th>0</th>\n",
       "      <td>4/3 Div 1</td>\n",
       "      <td>4/3 Div 1</td>\n",
       "      <td>0</td>\n",
       "      <td>1</td>\n",
       "      <td>AHOC</td>\n",
       "      <td>True</td>\n",
       "      <td>Gothrilla</td>\n",
       "    </tr>\n",
       "    <tr>\n",
       "      <th>1</th>\n",
       "      <td>4/3 Div 1</td>\n",
       "      <td>4/3 Div 1</td>\n",
       "      <td>0</td>\n",
       "      <td>1</td>\n",
       "      <td>AHOC</td>\n",
       "      <td>True</td>\n",
       "      <td>Gothrilla</td>\n",
       "    </tr>\n",
       "    <tr>\n",
       "      <th>2</th>\n",
       "      <td>4/3 Div 1</td>\n",
       "      <td>4/3 Div 1</td>\n",
       "      <td>0</td>\n",
       "      <td>1</td>\n",
       "      <td>AHOC</td>\n",
       "      <td>True</td>\n",
       "      <td>Gothrilla</td>\n",
       "    </tr>\n",
       "    <tr>\n",
       "      <th>3</th>\n",
       "      <td>4/3 Div 1</td>\n",
       "      <td>4/3 Div 1</td>\n",
       "      <td>0</td>\n",
       "      <td>1</td>\n",
       "      <td>AHOC</td>\n",
       "      <td>True</td>\n",
       "      <td>Gothrilla</td>\n",
       "    </tr>\n",
       "    <tr>\n",
       "      <th>4</th>\n",
       "      <td>4/3 Div 1</td>\n",
       "      <td>4/3 Div 1</td>\n",
       "      <td>0</td>\n",
       "      <td>1</td>\n",
       "      <td>AHOC</td>\n",
       "      <td>True</td>\n",
       "      <td>Gothrilla</td>\n",
       "    </tr>\n",
       "    <tr>\n",
       "      <th>5</th>\n",
       "      <td>4/3 Div 1</td>\n",
       "      <td>4/3 Div 1</td>\n",
       "      <td>0</td>\n",
       "      <td>1</td>\n",
       "      <td>AHOC</td>\n",
       "      <td>True</td>\n",
       "      <td>Gothrilla</td>\n",
       "    </tr>\n",
       "    <tr>\n",
       "      <th>6</th>\n",
       "      <td>4/3 Div 1</td>\n",
       "      <td>4/3 Div 1</td>\n",
       "      <td>0</td>\n",
       "      <td>1</td>\n",
       "      <td>AHOC</td>\n",
       "      <td>True</td>\n",
       "      <td>Gothrilla</td>\n",
       "    </tr>\n",
       "    <tr>\n",
       "      <th>7</th>\n",
       "      <td>4/3 Div 1</td>\n",
       "      <td>4/3 Div 1</td>\n",
       "      <td>0</td>\n",
       "      <td>1</td>\n",
       "      <td>AHOC</td>\n",
       "      <td>True</td>\n",
       "      <td>Gothrilla</td>\n",
       "    </tr>\n",
       "    <tr>\n",
       "      <th>8</th>\n",
       "      <td>4/3 Div 1</td>\n",
       "      <td>4/3 Div 1</td>\n",
       "      <td>0</td>\n",
       "      <td>1</td>\n",
       "      <td>AHOC</td>\n",
       "      <td>True</td>\n",
       "      <td>Gothrilla</td>\n",
       "    </tr>\n",
       "    <tr>\n",
       "      <th>9</th>\n",
       "      <td>4/3 Div 1</td>\n",
       "      <td>4/3 Div 1</td>\n",
       "      <td>0</td>\n",
       "      <td>1</td>\n",
       "      <td>AHOC</td>\n",
       "      <td>True</td>\n",
       "      <td>Gothrilla</td>\n",
       "    </tr>\n",
       "    <tr>\n",
       "      <th>10</th>\n",
       "      <td>4/3 Div 1</td>\n",
       "      <td>4/3 Div 1</td>\n",
       "      <td>0</td>\n",
       "      <td>1</td>\n",
       "      <td>AHOC</td>\n",
       "      <td>True</td>\n",
       "      <td>Gothrilla</td>\n",
       "    </tr>\n",
       "    <tr>\n",
       "      <th>11</th>\n",
       "      <td>4/3 Div 1</td>\n",
       "      <td>4/3 Div 1</td>\n",
       "      <td>0</td>\n",
       "      <td>1</td>\n",
       "      <td>AHOC</td>\n",
       "      <td>True</td>\n",
       "      <td>Gothrilla</td>\n",
       "    </tr>\n",
       "    <tr>\n",
       "      <th>12</th>\n",
       "      <td>4/3 Div 1</td>\n",
       "      <td>4/3 Div 1</td>\n",
       "      <td>0</td>\n",
       "      <td>1</td>\n",
       "      <td>AHOC</td>\n",
       "      <td>True</td>\n",
       "      <td>Gothrilla</td>\n",
       "    </tr>\n",
       "    <tr>\n",
       "      <th>13</th>\n",
       "      <td>4/3 Div 1</td>\n",
       "      <td>4/3 Div 1</td>\n",
       "      <td>0</td>\n",
       "      <td>1</td>\n",
       "      <td>AHOC</td>\n",
       "      <td>True</td>\n",
       "      <td>Gothrilla</td>\n",
       "    </tr>\n",
       "    <tr>\n",
       "      <th>14</th>\n",
       "      <td>4/3 Div 1</td>\n",
       "      <td>4/3 Div 1</td>\n",
       "      <td>0</td>\n",
       "      <td>1</td>\n",
       "      <td>AHOC</td>\n",
       "      <td>True</td>\n",
       "      <td>Gothrilla</td>\n",
       "    </tr>\n",
       "    <tr>\n",
       "      <th>15</th>\n",
       "      <td>4/3 Div 1</td>\n",
       "      <td>4/3 Div 1</td>\n",
       "      <td>0</td>\n",
       "      <td>1</td>\n",
       "      <td>AHOC</td>\n",
       "      <td>False</td>\n",
       "      <td>Gothrilla</td>\n",
       "    </tr>\n",
       "    <tr>\n",
       "      <th>16</th>\n",
       "      <td>4/3 Div 1</td>\n",
       "      <td>4/3 Div 1</td>\n",
       "      <td>0</td>\n",
       "      <td>1</td>\n",
       "      <td>AHOC</td>\n",
       "      <td>False</td>\n",
       "      <td>Gothrilla</td>\n",
       "    </tr>\n",
       "    <tr>\n",
       "      <th>17</th>\n",
       "      <td>4/3 Div 1</td>\n",
       "      <td>4/3 Div 1</td>\n",
       "      <td>0</td>\n",
       "      <td>1</td>\n",
       "      <td>AHOC</td>\n",
       "      <td>False</td>\n",
       "      <td>Gothrilla</td>\n",
       "    </tr>\n",
       "    <tr>\n",
       "      <th>18</th>\n",
       "      <td>4/3 Div 1</td>\n",
       "      <td>4/3 Div 1</td>\n",
       "      <td>0</td>\n",
       "      <td>1</td>\n",
       "      <td>AHOC</td>\n",
       "      <td>False</td>\n",
       "      <td>Gothrilla</td>\n",
       "    </tr>\n",
       "    <tr>\n",
       "      <th>19</th>\n",
       "      <td>4/3 Div 1</td>\n",
       "      <td>4/3 Div 1</td>\n",
       "      <td>0</td>\n",
       "      <td>1</td>\n",
       "      <td>AHOC</td>\n",
       "      <td>False</td>\n",
       "      <td>Gothrilla</td>\n",
       "    </tr>\n",
       "    <tr>\n",
       "      <th>20</th>\n",
       "      <td>4/3 Div 1</td>\n",
       "      <td>4/3 Div 1</td>\n",
       "      <td>0</td>\n",
       "      <td>1</td>\n",
       "      <td>AHOC</td>\n",
       "      <td>False</td>\n",
       "      <td>Gothrilla</td>\n",
       "    </tr>\n",
       "    <tr>\n",
       "      <th>21</th>\n",
       "      <td>4/3 Div 1</td>\n",
       "      <td>4/3 Div 1</td>\n",
       "      <td>0</td>\n",
       "      <td>1</td>\n",
       "      <td>AHOC</td>\n",
       "      <td>False</td>\n",
       "      <td>Gothrilla</td>\n",
       "    </tr>\n",
       "    <tr>\n",
       "      <th>22</th>\n",
       "      <td>4/3 Div 1</td>\n",
       "      <td>4/3 Div 1</td>\n",
       "      <td>0</td>\n",
       "      <td>1</td>\n",
       "      <td>AHOC</td>\n",
       "      <td>False</td>\n",
       "      <td>Gothrilla</td>\n",
       "    </tr>\n",
       "    <tr>\n",
       "      <th>23</th>\n",
       "      <td>4/3 Div 1</td>\n",
       "      <td>4/3 Div 1</td>\n",
       "      <td>0</td>\n",
       "      <td>1</td>\n",
       "      <td>AHOC</td>\n",
       "      <td>False</td>\n",
       "      <td>Gothrilla</td>\n",
       "    </tr>\n",
       "    <tr>\n",
       "      <th>24</th>\n",
       "      <td>4/3 Div 1</td>\n",
       "      <td>4/3 Div 1</td>\n",
       "      <td>0</td>\n",
       "      <td>1</td>\n",
       "      <td>AHOC</td>\n",
       "      <td>False</td>\n",
       "      <td>Gothrilla</td>\n",
       "    </tr>\n",
       "    <tr>\n",
       "      <th>25</th>\n",
       "      <td>4/3 Div 1</td>\n",
       "      <td>4/3 Div 1</td>\n",
       "      <td>0</td>\n",
       "      <td>1</td>\n",
       "      <td>AHOC</td>\n",
       "      <td>False</td>\n",
       "      <td>Gothrilla</td>\n",
       "    </tr>\n",
       "    <tr>\n",
       "      <th>26</th>\n",
       "      <td>4/3 Div 1</td>\n",
       "      <td>4/3 Div 1</td>\n",
       "      <td>0</td>\n",
       "      <td>1</td>\n",
       "      <td>AHOC</td>\n",
       "      <td>False</td>\n",
       "      <td>Gothrilla</td>\n",
       "    </tr>\n",
       "    <tr>\n",
       "      <th>27</th>\n",
       "      <td>4/3 Div 1</td>\n",
       "      <td>4/3 Div 1</td>\n",
       "      <td>0</td>\n",
       "      <td>9</td>\n",
       "      <td>AHOC</td>\n",
       "      <td>True</td>\n",
       "      <td>BBN</td>\n",
       "    </tr>\n",
       "    <tr>\n",
       "      <th>28</th>\n",
       "      <td>4/3 Div 1</td>\n",
       "      <td>4/3 Div 1</td>\n",
       "      <td>0</td>\n",
       "      <td>9</td>\n",
       "      <td>AHOC</td>\n",
       "      <td>True</td>\n",
       "      <td>BBN</td>\n",
       "    </tr>\n",
       "    <tr>\n",
       "      <th>29</th>\n",
       "      <td>4/3 Div 1</td>\n",
       "      <td>4/3 Div 1</td>\n",
       "      <td>0</td>\n",
       "      <td>9</td>\n",
       "      <td>AHOC</td>\n",
       "      <td>True</td>\n",
       "      <td>BBN</td>\n",
       "    </tr>\n",
       "  </tbody>\n",
       "</table>\n",
       "</div>"
      ],
      "text/plain": [
       "        Div A      Div B  Index A  Index B Team A  Team A Scores     Team B\n",
       "0   4/3 Div 1  4/3 Div 1        0        1   AHOC           True  Gothrilla\n",
       "1   4/3 Div 1  4/3 Div 1        0        1   AHOC           True  Gothrilla\n",
       "2   4/3 Div 1  4/3 Div 1        0        1   AHOC           True  Gothrilla\n",
       "3   4/3 Div 1  4/3 Div 1        0        1   AHOC           True  Gothrilla\n",
       "4   4/3 Div 1  4/3 Div 1        0        1   AHOC           True  Gothrilla\n",
       "5   4/3 Div 1  4/3 Div 1        0        1   AHOC           True  Gothrilla\n",
       "6   4/3 Div 1  4/3 Div 1        0        1   AHOC           True  Gothrilla\n",
       "7   4/3 Div 1  4/3 Div 1        0        1   AHOC           True  Gothrilla\n",
       "8   4/3 Div 1  4/3 Div 1        0        1   AHOC           True  Gothrilla\n",
       "9   4/3 Div 1  4/3 Div 1        0        1   AHOC           True  Gothrilla\n",
       "10  4/3 Div 1  4/3 Div 1        0        1   AHOC           True  Gothrilla\n",
       "11  4/3 Div 1  4/3 Div 1        0        1   AHOC           True  Gothrilla\n",
       "12  4/3 Div 1  4/3 Div 1        0        1   AHOC           True  Gothrilla\n",
       "13  4/3 Div 1  4/3 Div 1        0        1   AHOC           True  Gothrilla\n",
       "14  4/3 Div 1  4/3 Div 1        0        1   AHOC           True  Gothrilla\n",
       "15  4/3 Div 1  4/3 Div 1        0        1   AHOC          False  Gothrilla\n",
       "16  4/3 Div 1  4/3 Div 1        0        1   AHOC          False  Gothrilla\n",
       "17  4/3 Div 1  4/3 Div 1        0        1   AHOC          False  Gothrilla\n",
       "18  4/3 Div 1  4/3 Div 1        0        1   AHOC          False  Gothrilla\n",
       "19  4/3 Div 1  4/3 Div 1        0        1   AHOC          False  Gothrilla\n",
       "20  4/3 Div 1  4/3 Div 1        0        1   AHOC          False  Gothrilla\n",
       "21  4/3 Div 1  4/3 Div 1        0        1   AHOC          False  Gothrilla\n",
       "22  4/3 Div 1  4/3 Div 1        0        1   AHOC          False  Gothrilla\n",
       "23  4/3 Div 1  4/3 Div 1        0        1   AHOC          False  Gothrilla\n",
       "24  4/3 Div 1  4/3 Div 1        0        1   AHOC          False  Gothrilla\n",
       "25  4/3 Div 1  4/3 Div 1        0        1   AHOC          False  Gothrilla\n",
       "26  4/3 Div 1  4/3 Div 1        0        1   AHOC          False  Gothrilla\n",
       "27  4/3 Div 1  4/3 Div 1        0        9   AHOC           True        BBN\n",
       "28  4/3 Div 1  4/3 Div 1        0        9   AHOC           True        BBN\n",
       "29  4/3 Div 1  4/3 Div 1        0        9   AHOC           True        BBN"
      ]
     },
     "execution_count": 21,
     "metadata": {},
     "output_type": "execute_result"
    }
   ],
   "source": [
    "d1_points.head(30)"
   ]
  },
  {
   "cell_type": "code",
   "execution_count": 22,
   "metadata": {},
   "outputs": [
    {
     "data": {
      "text/plain": [
       "(1162, 7)"
      ]
     },
     "execution_count": 22,
     "metadata": {},
     "output_type": "execute_result"
    }
   ],
   "source": [
    "d1_points.shape"
   ]
  },
  {
   "cell_type": "code",
   "execution_count": 36,
   "metadata": {
    "collapsed": true
   },
   "outputs": [],
   "source": [
    "skill_prior_div = {\n",
    "    '4/3 Div 1': 0.62,\n",
    "    '4/3 Div 2': 0.0,\n",
    "    '4/3 Div 3': -0.28,\n",
    "    '5/2 Div 1': 0.62,\n",
    "    '5/2 Div 2': -0.05,\n",
    "    '5/2 Div 3': -0.35,\n",
    "    'Open Div 1': 0.0,\n",
    "    'Open Div 2': -0.28\n",
    "}\n",
    "alphas = []\n",
    "for team in teams:\n",
    "    div = team2div[team]\n",
    "    alpha = skill_prior_div[div]\n",
    "    alphas.append(alpha)"
   ]
  },
  {
   "cell_type": "code",
   "execution_count": 37,
   "metadata": {},
   "outputs": [
    {
     "data": {
      "text/plain": [
       "78"
      ]
     },
     "execution_count": 37,
     "metadata": {},
     "output_type": "execute_result"
    }
   ],
   "source": [
    "len(alphas)"
   ]
  },
  {
   "cell_type": "code",
   "execution_count": 39,
   "metadata": {
    "collapsed": true
   },
   "outputs": [],
   "source": [
    "with pm.Model() as model:\n",
    "    skill = pm.Cauchy('skill', alpha=alphas, beta=0.5, shape=n_teams)\n",
    "\n",
    "    B_minus_A = skill[game_points['Index B'].values] - skill[game_points['Index A'].values]\n",
    "\n",
    "    lower = 1e-6\n",
    "    upper = 1 - 1e-6\n",
    "    probability_A_beats_B = lower + (upper - lower) * 1 / (1 + tt.exp(B_minus_A))\n",
    "    \n",
    "#     probability_A_beats_B = pm.math.invlogit(A_minus_B)\n",
    "#     probability_A_beats_B = 1. / (1 + pm.math.exp(B_minus_A))\n",
    "    \n",
    "    observation = pm.Bernoulli('observation', probability_A_beats_B, observed=game_points['Team A Scores'].values)\n",
    "    \n",
    "    "
   ]
  },
  {
   "cell_type": "code",
   "execution_count": 40,
   "metadata": {},
   "outputs": [
    {
     "name": "stderr",
     "output_type": "stream",
     "text": [
      "Auto-assigning NUTS sampler...\n",
      "Initializing NUTS using ADVI...\n",
      "Average Loss = 9,378.9:   7%|▋         | 14643/200000 [00:26<05:15, 587.42it/s]\n",
      "Convergence archived at 14700\n",
      "Interrupted at 14,700 [7%]: Average Loss = 9,669.2\n",
      "100%|██████████| 1500/1500 [09:20<00:00,  6.54it/s]\n"
     ]
    }
   ],
   "source": [
    "with model:\n",
    "    trace = pm.sample(1000)"
   ]
  },
  {
   "cell_type": "code",
   "execution_count": 27,
   "metadata": {},
   "outputs": [
    {
     "data": {
      "text/plain": [
       "array([[<matplotlib.axes._subplots.AxesSubplot object at 0x113db0a50>,\n",
       "        <matplotlib.axes._subplots.AxesSubplot object at 0x113760a50>]], dtype=object)"
      ]
     },
     "execution_count": 27,
     "metadata": {},
     "output_type": "execute_result"
    },
    {
     "data": {
      "image/png": "[encoded data removed]",
      "text/plain": [
       "<matplotlib.figure.Figure at 0x114b58e50>"
      ]
     },
     "metadata": {},
     "output_type": "display_data"
    }
   ],
   "source": [
    "pm.traceplot(trace)"
   ]
  },
  {
   "cell_type": "code",
   "execution_count": 41,
   "metadata": {},
   "outputs": [
    {
     "data": {
      "text/plain": [
       "['skill']"
      ]
     },
     "execution_count": 41,
     "metadata": {},
     "output_type": "execute_result"
    }
   ],
   "source": [
    "trace.varnames"
   ]
  },
  {
   "cell_type": "code",
   "execution_count": 42,
   "metadata": {
    "collapsed": true
   },
   "outputs": [],
   "source": [
    "meanskills = trace.get_values('skill').mean(axis=0)"
   ]
  },
  {
   "cell_type": "code",
   "execution_count": 31,
   "metadata": {
    "collapsed": true
   },
   "outputs": [],
   "source": [
    "teamlist = np.unique(np.append(d1_points['Team A'].unique(), d1_points['Team B'].unique()))"
   ]
  },
  {
   "cell_type": "code",
   "execution_count": 44,
   "metadata": {},
   "outputs": [
    {
     "data": {
      "text/plain": [
       "array([ 0.65301083,  0.44547386,  0.42931924,  0.33030892,  0.37333916,\n",
       "        0.24718034,  0.16499764,  0.12679952,  0.22163357,  0.24839653,\n",
       "        0.27370629,  0.32321066,  0.08341891,  0.09051705,  0.05448306,\n",
       "       -0.07004865, -0.13926281, -0.08893653, -0.07052182, -0.29699215,\n",
       "       -0.40601642, -0.46361128,  0.6869104 ,  0.67144911,  0.56612181,\n",
       "        0.58125229,  0.358072  ,  0.36400688,  0.21634662,  0.27169866,\n",
       "        0.22357252,  0.06636634,  0.03481271, -0.34979988, -0.46372342,\n",
       "       -0.10313796,  0.01004278,  0.03618744,  0.1109608 , -0.24434164,\n",
       "        0.57749495,  0.8656889 ,  1.37702863,  2.16685353,  0.09309964,\n",
       "        0.04399854, -0.43583996,  0.01278415,  0.15011313,  0.10308817,\n",
       "       -0.07928212, -1.11573001,  0.10926464, -0.09345529, -0.70139447,\n",
       "       -0.06994451, -0.30991279, -0.72070356, -0.26859341, -0.54762425,\n",
       "       -0.28048939, -0.28969197, -0.27292897, -0.58404238, -6.59882065,\n",
       "        0.10637341, -0.84579763,  0.64191211, -0.30014218,  0.07160027,\n",
       "       -8.57884636, -0.2079323 ,  0.08633631,  0.52967533, -0.02584353,\n",
       "        1.80206409,  0.12429495, -2.50220117])"
      ]
     },
     "execution_count": 44,
     "metadata": {},
     "output_type": "execute_result"
    }
   ],
   "source": [
    "meanskills"
   ]
  },
  {
   "cell_type": "code",
   "execution_count": 45,
   "metadata": {},
   "outputs": [
    {
     "data": {
      "text/plain": [
       "[0.62,\n",
       " 0.62,\n",
       " 0.62,\n",
       " 0.62,\n",
       " 0.62,\n",
       " 0.62,\n",
       " 0.62,\n",
       " 0.62,\n",
       " 0.62,\n",
       " 0.62,\n",
       " 0.0,\n",
       " 0.0,\n",
       " 0.0,\n",
       " 0.0,\n",
       " 0.0,\n",
       " 0.0,\n",
       " 0.0,\n",
       " 0.0,\n",
       " 0.0,\n",
       " 0.0,\n",
       " 0.0,\n",
       " 0.0,\n",
       " 0.0,\n",
       " 0.0,\n",
       " 0.0,\n",
       " 0.0,\n",
       " 0.0,\n",
       " 0.0,\n",
       " 0.0,\n",
       " 0.0,\n",
       " 0.0,\n",
       " 0.0,\n",
       " -0.28,\n",
       " -0.28,\n",
       " -0.28,\n",
       " -0.28,\n",
       " -0.28,\n",
       " -0.28,\n",
       " -0.28,\n",
       " -0.28,\n",
       " 0.62,\n",
       " 0.62,\n",
       " 0.62,\n",
       " -0.05,\n",
       " -0.05,\n",
       " -0.05,\n",
       " -0.05,\n",
       " -0.05,\n",
       " -0.05,\n",
       " -0.05,\n",
       " -0.05,\n",
       " -0.05,\n",
       " -0.05,\n",
       " -0.05,\n",
       " -0.35,\n",
       " -0.35,\n",
       " -0.35,\n",
       " -0.35,\n",
       " -0.35,\n",
       " -0.35,\n",
       " -0.35,\n",
       " -0.35,\n",
       " -0.35,\n",
       " -0.35,\n",
       " -0.35,\n",
       " -0.35,\n",
       " -0.35,\n",
       " 0.0,\n",
       " 0.0,\n",
       " 0.0,\n",
       " 0.0,\n",
       " 0.0,\n",
       " 0.0,\n",
       " 0.0,\n",
       " 0.0,\n",
       " 0.0,\n",
       " -0.28,\n",
       " -0.28]"
      ]
     },
     "execution_count": 45,
     "metadata": {},
     "output_type": "execute_result"
    }
   ],
   "source": [
    "alphas"
   ]
  },
  {
   "cell_type": "code",
   "execution_count": 43,
   "metadata": {},
   "outputs": [
    {
     "name": "stdout",
     "output_type": "stream",
     "text": [
      "AHOC: 0.653\n",
      "Gothrilla: 0.445\n",
      "FlowChart: 0.429\n",
      "GrassBurner: 0.330\n",
      "Zerg Rush!: 0.373\n",
      "Swingers: 0.247\n",
      "TuneSquad: 0.165\n",
      "Turtle Boy: 0.127\n",
      "Live Poultry, Fresh Killed (LPFK): 0.222\n",
      "BBN: 0.248\n",
      "SnakeCountryBromance: 0.274\n",
      "Stonecutters: 0.323\n",
      "Shake and Bake: 0.083\n",
      "Dominion: 0.091\n",
      "Rogues' Gallery: 0.054\n",
      "A Lil Bit Sticky: -0.070\n",
      "Nerd Alert: -0.139\n",
      "Moose Lightning: -0.089\n",
      "Lady and the BAMF: -0.071\n",
      "Tubbs: -0.297\n",
      "Hipster Kitties: -0.406\n",
      "TuneSquad Squared: -0.464\n",
      "JuJu Hex: 0.687\n",
      "Pink Flamingos: 0.671\n",
      "Baba Yaga: 0.566\n",
      "Maverick: 0.581\n",
      "Hippos: 0.358\n",
      "Bacon: 0.364\n",
      "Get Flat Ultimate: 0.216\n",
      "Hucky McThrowandcatch: 0.272\n",
      "SHRedline: 0.224\n",
      "The Funky Bunch: 0.066\n",
      "Iron Squids: 0.035\n"
     ]
    },
    {
     "ename": "IndexError",
     "evalue": "index 0 is out of bounds for axis 0 with size 0",
     "output_type": "error",
     "traceback": [
      "\u001b[0;31m---------------------------------------------------------------------------\u001b[0m",
      "\u001b[0;31mIndexError\u001b[0m                                Traceback (most recent call last)",
      "\u001b[0;32m<ipython-input-43-90cb87ec1470>\u001b[0m in \u001b[0;36m<module>\u001b[0;34m()\u001b[0m\n\u001b[1;32m      5\u001b[0m     \u001b[0;32melse\u001b[0m\u001b[0;34m:\u001b[0m\u001b[0;34m\u001b[0m\u001b[0m\n\u001b[1;32m      6\u001b[0m         \u001b[0mindex\u001b[0m \u001b[0;34m=\u001b[0m \u001b[0mgame_points\u001b[0m\u001b[0;34m[\u001b[0m\u001b[0;34m'Index B'\u001b[0m\u001b[0;34m]\u001b[0m \u001b[0;34m==\u001b[0m \u001b[0mi\u001b[0m\u001b[0;34m\u001b[0m\u001b[0m\n\u001b[0;32m----> 7\u001b[0;31m         \u001b[0mname\u001b[0m \u001b[0;34m=\u001b[0m \u001b[0mgame_points\u001b[0m\u001b[0;34m.\u001b[0m\u001b[0mloc\u001b[0m\u001b[0;34m[\u001b[0m\u001b[0mindex\u001b[0m\u001b[0;34m,\u001b[0m \u001b[0;34m'Team B'\u001b[0m\u001b[0;34m]\u001b[0m\u001b[0;34m.\u001b[0m\u001b[0munique\u001b[0m\u001b[0;34m(\u001b[0m\u001b[0;34m)\u001b[0m\u001b[0;34m[\u001b[0m\u001b[0;36m0\u001b[0m\u001b[0;34m]\u001b[0m\u001b[0;34m\u001b[0m\u001b[0m\n\u001b[0m\u001b[1;32m      8\u001b[0m     \u001b[0;32mprint\u001b[0m\u001b[0;34m(\u001b[0m\u001b[0;34m\"{}: {:.3f}\"\u001b[0m\u001b[0;34m.\u001b[0m\u001b[0mformat\u001b[0m\u001b[0;34m(\u001b[0m\u001b[0mname\u001b[0m\u001b[0;34m,\u001b[0m \u001b[0mmeanskill\u001b[0m\u001b[0;34m)\u001b[0m\u001b[0;34m)\u001b[0m\u001b[0;34m\u001b[0m\u001b[0m\n",
      "\u001b[0;31mIndexError\u001b[0m: index 0 is out of bounds for axis 0 with size 0"
     ]
    }
   ],
   "source": [
    "for i, meanskill in enumerate(meanskills):\n",
    "    if i == 0 or i == 13:\n",
    "        index = game_points['Index A'] == i\n",
    "        name = game_points.loc[index, 'Team A'].unique()[0]\n",
    "    else:\n",
    "        index = game_points['Index B'] == i\n",
    "        name = game_points.loc[index, 'Team B'].unique()[0]\n",
    "    print(\"{}: {:.3f}\".format(name, meanskill))"
   ]
  },
  {
   "cell_type": "code",
   "execution_count": 52,
   "metadata": {},
   "outputs": [
    {
     "data": {
      "text/plain": [
       "13"
      ]
     },
     "execution_count": 52,
     "metadata": {},
     "output_type": "execute_result"
    }
   ],
   "source": [
    "i"
   ]
  },
  {
   "cell_type": "code",
   "execution_count": null,
   "metadata": {
    "collapsed": true
   },
   "outputs": [],
   "source": []
  }
 ],
 "metadata": {
  "kernelspec": {
   "display_name": "Python 2",
   "language": "python",
   "name": "python2"
  },
  "language_info": {
   "codemirror_mode": {
    "name": "ipython",
    "version": 2
   },
   "file_extension": ".py",
   "mimetype": "text/x-python",
   "name": "python",
   "nbconvert_exporter": "python",
   "pygments_lexer": "ipython2",
   "version": "2.7.13"
  }
 },
 "nbformat": 4,
 "nbformat_minor": 2
}
