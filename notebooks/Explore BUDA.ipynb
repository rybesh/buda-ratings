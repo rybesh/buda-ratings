{
 "cells": [
  {
   "cell_type": "code",
   "execution_count": 5,
   "metadata": {
    "collapsed": false
   },
   "outputs": [
    {
     "name": "stdout",
     "output_type": "stream",
     "text": [
      "The autoreload extension is already loaded. To reload it, use:\n",
      "  %reload_ext autoreload\n"
     ]
    }
   ],
   "source": [
    "# Load the \"autoreload\" extension\n",
    "%load_ext autoreload\n",
    "\n",
    "# always reload modules marked with \"%aimport\"\n",
    "%autoreload 1\n",
    "\n",
    "import os\n",
    "import sys\n",
    "\n",
    "# add the 'src' directory as one where we can import modules\n",
    "src_dir = os.path.join(os.getcwd(), os.pardir, 'src', 'data')\n",
    "sys.path.append(src_dir)\n",
    "\n",
    "# import my method from the source code\n",
    "%aimport scrape_buda\n",
    "from scrape_buda import BudaRating\n",
    "import seaborn as sns\n",
    "import matplotlib.pyplot as plt\n",
    "%matplotlib inline"
   ]
  },
  {
   "cell_type": "code",
   "execution_count": 2,
   "metadata": {
    "collapsed": true
   },
   "outputs": [],
   "source": [
    "buda = BudaRating()\n",
    "prefix = 'data20160521'\n",
    "buda.load_allteams(prefix)\n",
    "buda.load_buda(prefix)\n",
    "buda.observed_rating()\n",
    "buda.allteams = buda.allteams.drop('Unnamed: 0', axis=1)\n",
    "buda.predicted_rating()"
   ]
  },
  {
   "cell_type": "code",
   "execution_count": 3,
   "metadata": {
    "collapsed": false,
    "scrolled": true
   },
   "outputs": [],
   "source": [
    "#buda.scrape_buda()"
   ]
  },
  {
   "cell_type": "code",
   "execution_count": 3,
   "metadata": {
    "collapsed": false
   },
   "outputs": [],
   "source": [
    "plt.plot(buda.allteams['observed_ratings'], buda.allteams['predicted_rating'], '.')"
   ]
  },
  {
   "cell_type": "code",
   "execution_count": 4,
   "metadata": {
    "collapsed": false,
    "scrolled": true
   },
   "outputs": [],
   "source": [
    "buda.allteams"
   ]
  },
  {
   "cell_type": "code",
   "execution_count": 5,
   "metadata": {
    "collapsed": true
   },
   "outputs": [],
   "source": [
    "since2005 = buda.allteams['year'] > 2005"
   ]
  },
  {
   "cell_type": "code",
   "execution_count": 6,
   "metadata": {
    "collapsed": true
   },
   "outputs": [],
   "source": [
    "allteamspost2005 = buda.allteams[since2005]"
   ]
  },
  {
   "cell_type": "code",
   "execution_count": 7,
   "metadata": {
    "collapsed": false
   },
   "outputs": [],
   "source": [
    "sns.set_context('talk')\n",
    "g = sns.FacetGrid(allteamspost2005, row=\"type\", col='season', hue='divname', palette='Blues_r', margin_titles=True)\n",
    "g.map(plt.scatter, \"predicted_rating\", \"observed_ratings\")\n",
    "g.add_legend()"
   ]
  },
  {
   "cell_type": "code",
   "execution_count": 68,
   "metadata": {
    "collapsed": true
   },
   "outputs": [],
   "source": [
    "# downselect spring hat only\n",
    "downselect = (buda.allteams['year'] > 2005) & (buda.allteams['season'] == 'Spring') & (buda.allteams['type'] == 'Hat')\n",
    "budaselect = buda.allteams[downselect]"
   ]
  },
  {
   "cell_type": "code",
   "execution_count": 71,
   "metadata": {
    "collapsed": false
   },
   "outputs": [],
   "source": [
    "g = sns.FacetGrid(budaselect, row='divname', hue='year', palette='Blues', margin_titles=True)\n",
    "g.map(sns.regplot, \"predicted_rating\", \"observed_ratings\", order=1)\n",
    "g.add_legend()"
   ]
  },
  {
   "cell_type": "code",
   "execution_count": 88,
   "metadata": {
    "collapsed": false
   },
   "outputs": [],
   "source": [
    "# downselect spring hat only\n",
    "downselect = (buda.allteams['year'] > 2005) & (buda.allteams['season'] == 'Spring') & (buda.allteams['type'] == 'Hat') & (buda.allteams['divname'] == 'JP Mixed (4/3)')\n",
    "budaselect = buda.allteams[downselect]\n",
    "g = sns.FacetGrid(budaselect, row='year', palette='Blues', margin_titles=True, size=8)\n",
    "g.map(plt.scatter, \"predicted_rating\", \"observed_ratings\")\n",
    "g.map(sns.regplot, \"predicted_rating\", \"observed_ratings\", order=1)\n",
    "g.add_legend()"
   ]
  },
  {
   "cell_type": "code",
   "execution_count": 10,
   "metadata": {
    "collapsed": false
   },
   "outputs": [],
   "source": [
    "# downselect spring hat only\n",
    "sns.set_context('talk')\n",
    "downselect = (buda.allteams['year'] == 2016) & (buda.allteams['season'] == 'Spring') & (buda.allteams['type'] == 'Hat') & (buda.allteams['divname'] == 'JP Mixed (4/3)')\n",
    "budaselect = buda.allteams[downselect]\n",
    "# g = sns.jointplot('predicted_rating', 'plusminus', budaselect, size=8, kind='scatter')\n",
    "plt.plot(budaselect['predicted_rating'], budaselect['plusminus'], '.')\n",
    "plt.title('Spring Hat League 2016, JP Mixed (4/3)')\n",
    "plt.xlabel('Predicted Rating')\n",
    "plt.ylabel('Score Differential per Game')\n",
    "\n",
    "myteam = 'R2Defense (20)'\n",
    "ok = budaselect['teamname'] == myteam\n",
    "plt.plot(budaselect.ix[ok, 'predicted_rating'], budaselect.ix[ok, 'plusminus'], 'o', mew=2, mec='salmon', mfc='None')\n",
    "plt.savefig('SpringHat2016_validation.png')"
   ]
  },
  {
   "cell_type": "code",
   "execution_count": 8,
   "metadata": {
    "collapsed": false,
    "scrolled": true
   },
   "outputs": [],
   "source": [
    "buda.team_detail('40309').sort('club_rating')"
   ]
  },
  {
   "cell_type": "code",
   "execution_count": 7,
   "metadata": {
    "collapsed": false,
    "scrolled": true
   },
   "outputs": [],
   "source": [
    "buda.team_detail('40328').sort('club_rating')"
   ]
  },
  {
   "cell_type": "code",
   "execution_count": 14,
   "metadata": {
    "collapsed": false
   },
   "outputs": [],
   "source": [
    "buda.team_rating['40309']"
   ]
  },
  {
   "cell_type": "code",
   "execution_count": null,
   "metadata": {
    "collapsed": true
   },
   "outputs": [],
   "source": []
  }
 ],
 "metadata": {
  "kernelspec": {
   "display_name": "Python 2",
   "language": "python",
   "name": "python2"
  },
  "language_info": {
   "codemirror_mode": {
    "name": "ipython",
    "version": 2
   },
   "file_extension": ".py",
   "mimetype": "text/x-python",
   "name": "python",
   "nbconvert_exporter": "python",
   "pygments_lexer": "ipython2",
   "version": "2.7.11"
  }
 },
 "nbformat": 4,
 "nbformat_minor": 0
}
