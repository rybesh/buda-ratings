{
 "cells": [
  {
   "cell_type": "markdown",
   "metadata": {},
   "source": [
    "# Summary\n",
    "\n",
    "I can use PyMC3 to estimate the posterior PDF for the true skill level of every BUDA team using its W-L record during the season. This could be superior to my initial approach of assuming a discrete skill level based on Division and then modifying that skill level based on individual game outcomes. It will also serve as a great playground in which to explore PyMC3. \n",
    "\n",
    "Before I jump in with actual BUDA data, I want to test things out with a small sample of artificial game data."
   ]
  },
  {
   "cell_type": "code",
   "execution_count": 4,
   "metadata": {
    "collapsed": true
   },
   "outputs": [],
   "source": [
    "import pandas as pd\n",
    "import os\n",
    "import numpy as np\n",
    "import pymc3 as pm\n",
    "from pymc3.math import invlogit\n",
    "import theano.tensor as tt\n",
    "\n",
    "%matplotlib inline"
   ]
  },
  {
   "cell_type": "code",
   "execution_count": 69,
   "metadata": {
    "collapsed": true
   },
   "outputs": [],
   "source": [
    "n_teams = 67\n",
    "teams = range(n_teams)"
   ]
  },
  {
   "cell_type": "code",
   "execution_count": 70,
   "metadata": {},
   "outputs": [],
   "source": [
    "true_skill = {}\n",
    "for team in teams:\n",
    "    true_skill[team] = np.random.normal(loc=1600, scale=200)"
   ]
  },
  {
   "cell_type": "code",
   "execution_count": 71,
   "metadata": {},
   "outputs": [
    {
     "data": {
      "text/plain": [
       "{0: 1726.6796960679646,\n",
       " 1: 1845.7370689420486,\n",
       " 2: 1891.2540932116578,\n",
       " 3: 1271.5057157055066,\n",
       " 4: 2074.20284947126,\n",
       " 5: 1467.9664015533353,\n",
       " 6: 1819.8347570421488,\n",
       " 7: 1591.539384646029,\n",
       " 8: 1905.664775826239,\n",
       " 9: 1637.9124965745566,\n",
       " 10: 1649.9479715249408,\n",
       " 11: 1747.1436930456491,\n",
       " 12: 1574.4571030606078,\n",
       " 13: 1820.4781306592708,\n",
       " 14: 1302.3129732530515,\n",
       " 15: 1549.1067470463497,\n",
       " 16: 1386.757300589783,\n",
       " 17: 1793.2834935695093,\n",
       " 18: 1407.6492159993481,\n",
       " 19: 1441.159121231951,\n",
       " 20: 1716.648956037739,\n",
       " 21: 1519.7851622736468,\n",
       " 22: 1293.5845564234392,\n",
       " 23: 1603.4765250293312,\n",
       " 24: 1664.5898842491479,\n",
       " 25: 1939.5984496908866,\n",
       " 26: 1654.5736968515791,\n",
       " 27: 1745.008791467225,\n",
       " 28: 1533.532270769773,\n",
       " 29: 1773.5197602973892,\n",
       " 30: 1522.333825044672,\n",
       " 31: 1364.2871769383628,\n",
       " 32: 1399.2576007930538,\n",
       " 33: 1945.865275659431,\n",
       " 34: 1272.4445728300818,\n",
       " 35: 1464.954558967732,\n",
       " 36: 1559.794971920905,\n",
       " 37: 1248.8399668850325,\n",
       " 38: 1377.8826828485699,\n",
       " 39: 1129.488812659446,\n",
       " 40: 1579.3905456399868,\n",
       " 41: 1585.5949502354981,\n",
       " 42: 1642.5788801976148,\n",
       " 43: 1372.073990847205,\n",
       " 44: 1375.4647504831303,\n",
       " 45: 1752.74405189831,\n",
       " 46: 1643.7741487255744,\n",
       " 47: 2086.405955201495,\n",
       " 48: 1202.2254823553417,\n",
       " 49: 1759.74843147091,\n",
       " 50: 1152.0115493365302,\n",
       " 51: 1150.6004426776767,\n",
       " 52: 1779.6596446790766,\n",
       " 53: 1452.4677351850023,\n",
       " 54: 1706.4721647613844,\n",
       " 55: 1514.8969130142975,\n",
       " 56: 1492.5067199911175,\n",
       " 57: 1626.246257010009,\n",
       " 58: 1507.319137571202,\n",
       " 59: 1243.2955225318717,\n",
       " 60: 1625.8720693265293,\n",
       " 61: 1636.689490154895,\n",
       " 62: 1692.4123224569958,\n",
       " 63: 1404.0412219062332,\n",
       " 64: 1153.089373364003,\n",
       " 65: 1822.7814509487653,\n",
       " 66: 1712.8427278006964}"
      ]
     },
     "execution_count": 71,
     "metadata": {},
     "output_type": "execute_result"
    }
   ],
   "source": [
    "true_skill"
   ]
  },
  {
   "cell_type": "code",
   "execution_count": 72,
   "metadata": {
    "collapsed": true
   },
   "outputs": [],
   "source": [
    "n_games = 520\n",
    "games = range(n_games)\n",
    "database = []\n",
    "for game in games:\n",
    "    game_database = {}\n",
    "    matchup = np.random.choice(teams, size=2, replace=False)\n",
    "    game_database['Team A'] = matchup[0]\n",
    "    game_database['Team B'] = matchup[1]\n",
    "    \n",
    "    true_skills = [true_skill[matchup[0]], true_skill[matchup[1]]]\n",
    "    game_skills = np.random.normal(loc=true_skills, scale=100)\n",
    "    \n",
    "    outcome_A = game_skills[0] > game_skills[1]\n",
    "    game_database['Winner is A'] = outcome_A\n",
    "    \n",
    "    database.append(game_database)\n",
    "    "
   ]
  },
  {
   "cell_type": "code",
   "execution_count": 73,
   "metadata": {
    "collapsed": true
   },
   "outputs": [],
   "source": [
    "game_results = pd.DataFrame(database)"
   ]
  },
  {
   "cell_type": "code",
   "execution_count": 74,
   "metadata": {},
   "outputs": [
    {
     "data": {
      "text/html": [
       "<div>\n",
       "<style>\n",
       "    .dataframe thead tr:only-child th {\n",
       "        text-align: right;\n",
       "    }\n",
       "\n",
       "    .dataframe thead th {\n",
       "        text-align: left;\n",
       "    }\n",
       "\n",
       "    .dataframe tbody tr th {\n",
       "        vertical-align: top;\n",
       "    }\n",
       "</style>\n",
       "<table border=\"1\" class=\"dataframe\">\n",
       "  <thead>\n",
       "    <tr style=\"text-align: right;\">\n",
       "      <th></th>\n",
       "      <th>Team A</th>\n",
       "      <th>Team B</th>\n",
       "      <th>Winner is A</th>\n",
       "    </tr>\n",
       "  </thead>\n",
       "  <tbody>\n",
       "    <tr>\n",
       "      <th>0</th>\n",
       "      <td>43</td>\n",
       "      <td>27</td>\n",
       "      <td>False</td>\n",
       "    </tr>\n",
       "    <tr>\n",
       "      <th>1</th>\n",
       "      <td>58</td>\n",
       "      <td>34</td>\n",
       "      <td>True</td>\n",
       "    </tr>\n",
       "    <tr>\n",
       "      <th>2</th>\n",
       "      <td>13</td>\n",
       "      <td>57</td>\n",
       "      <td>True</td>\n",
       "    </tr>\n",
       "    <tr>\n",
       "      <th>3</th>\n",
       "      <td>19</td>\n",
       "      <td>14</td>\n",
       "      <td>True</td>\n",
       "    </tr>\n",
       "    <tr>\n",
       "      <th>4</th>\n",
       "      <td>20</td>\n",
       "      <td>62</td>\n",
       "      <td>False</td>\n",
       "    </tr>\n",
       "    <tr>\n",
       "      <th>5</th>\n",
       "      <td>19</td>\n",
       "      <td>42</td>\n",
       "      <td>False</td>\n",
       "    </tr>\n",
       "    <tr>\n",
       "      <th>6</th>\n",
       "      <td>58</td>\n",
       "      <td>2</td>\n",
       "      <td>False</td>\n",
       "    </tr>\n",
       "    <tr>\n",
       "      <th>7</th>\n",
       "      <td>58</td>\n",
       "      <td>54</td>\n",
       "      <td>True</td>\n",
       "    </tr>\n",
       "    <tr>\n",
       "      <th>8</th>\n",
       "      <td>51</td>\n",
       "      <td>4</td>\n",
       "      <td>False</td>\n",
       "    </tr>\n",
       "    <tr>\n",
       "      <th>9</th>\n",
       "      <td>0</td>\n",
       "      <td>20</td>\n",
       "      <td>True</td>\n",
       "    </tr>\n",
       "  </tbody>\n",
       "</table>\n",
       "</div>"
      ],
      "text/plain": [
       "   Team A  Team B  Winner is A\n",
       "0      43      27        False\n",
       "1      58      34         True\n",
       "2      13      57         True\n",
       "3      19      14         True\n",
       "4      20      62        False\n",
       "5      19      42        False\n",
       "6      58       2        False\n",
       "7      58      54         True\n",
       "8      51       4        False\n",
       "9       0      20         True"
      ]
     },
     "execution_count": 74,
     "metadata": {},
     "output_type": "execute_result"
    }
   ],
   "source": [
    "game_results.head(10)"
   ]
  },
  {
   "cell_type": "code",
   "execution_count": 75,
   "metadata": {},
   "outputs": [],
   "source": [
    "project_dir = '/Users/rbussman/Projects/BUDA/buda-ratings'\n",
    "scores_dir = os.path.join(project_dir, 'data', 'raw', 'game_scores')\n",
    "game_results.to_csv(os.path.join(scores_dir, 'artificial_scores_big.csv'))"
   ]
  },
  {
   "cell_type": "markdown",
   "metadata": {},
   "source": [
    "Prior on each team is a normal distribution with mean of 0 and standard deviation of 1."
   ]
  },
  {
   "cell_type": "code",
   "execution_count": 76,
   "metadata": {},
   "outputs": [
    {
     "data": {
      "text/plain": [
       "(520, 3)"
      ]
     },
     "execution_count": 76,
     "metadata": {},
     "output_type": "execute_result"
    }
   ],
   "source": [
    "game_results.shape"
   ]
  },
  {
   "cell_type": "code",
   "execution_count": 77,
   "metadata": {},
   "outputs": [],
   "source": [
    "with pm.Model() as model:\n",
    "    skill = pm.Normal('skill', mu=0, sd=1, shape=n_teams)\n",
    "\n",
    "    B_minus_A = skill[game_results['Team B'].values] - skill[game_results['Team A'].values]\n",
    "       \n",
    "    # Avoid 0 or 1\n",
    "    lower = 1e-6\n",
    "    upper = 1 - 1e-6\n",
    "    probability_A_beats_B = lower + (upper - lower) * 1 / (1 + tt.exp(B_minus_A))\n",
    "    \n",
    "    observation = pm.Bernoulli('observation', probability_A_beats_B, observed=game_results['Winner is A'].values)"
   ]
  },
  {
   "cell_type": "code",
   "execution_count": 78,
   "metadata": {},
   "outputs": [
    {
     "name": "stderr",
     "output_type": "stream",
     "text": [
      "Auto-assigning NUTS sampler...\n",
      "Initializing NUTS using ADVI...\n",
      "Average Loss = 249.03:   5%|▌         | 10095/200000 [00:01<00:31, 6103.15it/s]\n",
      "Convergence archived at 10300\n",
      "Interrupted at 10,300 [5%]: Average Loss = 284.12\n",
      "100%|██████████| 1500/1500 [00:03<00:00, 474.88it/s]\n"
     ]
    }
   ],
   "source": [
    "with model:\n",
    "    trace = pm.sample(1000)"
   ]
  },
  {
   "cell_type": "code",
   "execution_count": 64,
   "metadata": {},
   "outputs": [
    {
     "data": {
      "text/plain": [
       "array([[<matplotlib.axes._subplots.AxesSubplot object at 0x149baaa90>,\n",
       "        <matplotlib.axes._subplots.AxesSubplot object at 0x149c556d0>]], dtype=object)"
      ]
     },
     "execution_count": 64,
     "metadata": {},
     "output_type": "execute_result"
    },
    {
     "data": {
      "image/png": "[encoded data removed]",
      "text/plain": [
       "<matplotlib.figure.Figure at 0x149b905d0>"
      ]
     },
     "metadata": {},
     "output_type": "display_data"
    }
   ],
   "source": [
    "pm.traceplot(trace)"
   ]
  },
  {
   "cell_type": "code",
   "execution_count": 65,
   "metadata": {},
   "outputs": [
    {
     "data": {
      "text/plain": [
       "['skill']"
      ]
     },
     "execution_count": 65,
     "metadata": {},
     "output_type": "execute_result"
    }
   ],
   "source": [
    "trace.varnames"
   ]
  },
  {
   "cell_type": "code",
   "execution_count": 79,
   "metadata": {},
   "outputs": [
    {
     "data": {
      "text/plain": [
       "(1000, 67)"
      ]
     },
     "execution_count": 79,
     "metadata": {},
     "output_type": "execute_result"
    }
   ],
   "source": [
    "trace['skill'].shape"
   ]
  },
  {
   "cell_type": "code",
   "execution_count": 80,
   "metadata": {},
   "outputs": [],
   "source": [
    "estimatedskills = trace['skill'].mean(axis=0)"
   ]
  },
  {
   "cell_type": "code",
   "execution_count": 81,
   "metadata": {},
   "outputs": [
    {
     "name": "stdout",
     "output_type": "stream",
     "text": [
      "True: 1.27; Estimated: 1.27\n",
      "True: 2.46; Estimated: 1.95\n",
      "True: 2.91; Estimated: 1.48\n",
      "True: -3.28; Estimated: -1.92\n",
      "True: 4.74; Estimated: 2.34\n",
      "True: -1.32; Estimated: 0.21\n",
      "True: 2.20; Estimated: 1.40\n",
      "True: -0.08; Estimated: 1.17\n",
      "True: 3.06; Estimated: 1.28\n",
      "True: 0.38; Estimated: 0.38\n",
      "True: 0.50; Estimated: 0.81\n",
      "True: 1.47; Estimated: 0.59\n",
      "True: -0.26; Estimated: -0.41\n",
      "True: 2.20; Estimated: 1.24\n",
      "True: -2.98; Estimated: -1.32\n",
      "True: -0.51; Estimated: 0.22\n",
      "True: -2.13; Estimated: -0.97\n",
      "True: 1.93; Estimated: 0.59\n",
      "True: -1.92; Estimated: -0.55\n",
      "True: -1.59; Estimated: -0.64\n",
      "True: 1.17; Estimated: 0.49\n",
      "True: -0.80; Estimated: -0.12\n",
      "True: -3.06; Estimated: -1.21\n",
      "True: 0.03; Estimated: 0.36\n",
      "True: 0.65; Estimated: 1.07\n",
      "True: 3.40; Estimated: 2.16\n",
      "True: 0.55; Estimated: 0.77\n",
      "True: 1.45; Estimated: 1.29\n",
      "True: -0.66; Estimated: -0.33\n",
      "True: 1.74; Estimated: 0.83\n",
      "True: -0.78; Estimated: -0.37\n",
      "True: -2.36; Estimated: -1.46\n",
      "True: -2.01; Estimated: -0.48\n",
      "True: 3.46; Estimated: 2.36\n",
      "True: -3.28; Estimated: -1.21\n",
      "True: -1.35; Estimated: -1.40\n",
      "True: -0.40; Estimated: 0.44\n",
      "True: -3.51; Estimated: -1.94\n",
      "True: -2.22; Estimated: -1.08\n",
      "True: -4.71; Estimated: -2.51\n",
      "True: -0.21; Estimated: -0.18\n",
      "True: -0.14; Estimated: -0.48\n",
      "True: 0.43; Estimated: -0.25\n",
      "True: -2.28; Estimated: -0.94\n",
      "True: -2.25; Estimated: -1.84\n",
      "True: 1.53; Estimated: 1.14\n",
      "True: 0.44; Estimated: 0.08\n",
      "True: 4.86; Estimated: 1.59\n",
      "True: -3.98; Estimated: -2.22\n",
      "True: 1.60; Estimated: 1.48\n",
      "True: -4.48; Estimated: -1.89\n",
      "True: -4.49; Estimated: -1.67\n",
      "True: 1.80; Estimated: 1.54\n",
      "True: -1.48; Estimated: -0.66\n",
      "True: 1.06; Estimated: -0.42\n",
      "True: -0.85; Estimated: -0.44\n",
      "True: -1.07; Estimated: -0.03\n",
      "True: 0.26; Estimated: 0.26\n",
      "True: -0.93; Estimated: 0.17\n",
      "True: -3.57; Estimated: -1.50\n",
      "True: 0.26; Estimated: 0.19\n",
      "True: 0.37; Estimated: 0.34\n",
      "True: 0.92; Estimated: 0.52\n",
      "True: -1.96; Estimated: -1.47\n",
      "True: -4.47; Estimated: -2.27\n",
      "True: 2.23; Estimated: 1.43\n",
      "True: 1.13; Estimated: 0.99\n"
     ]
    }
   ],
   "source": [
    "for key in true_skill:\n",
    "    print(\"True: {:.2f}; Estimated: {:.2f}\".format((true_skill[key] - 1600) / 100, estimatedskills[key]))"
   ]
  },
  {
   "cell_type": "code",
   "execution_count": 22,
   "metadata": {},
   "outputs": [
    {
     "data": {
      "text/plain": [
       "2"
      ]
     },
     "execution_count": 22,
     "metadata": {},
     "output_type": "execute_result"
    }
   ],
   "source": [
    "key"
   ]
  },
  {
   "cell_type": "code",
   "execution_count": null,
   "metadata": {
    "collapsed": true
   },
   "outputs": [],
   "source": []
  }
 ],
 "metadata": {
  "kernelspec": {
   "display_name": "Python 2",
   "language": "python",
   "name": "python2"
  },
  "language_info": {
   "codemirror_mode": {
    "name": "ipython",
    "version": 2
   },
   "file_extension": ".py",
   "mimetype": "text/x-python",
   "name": "python",
   "nbconvert_exporter": "python",
   "pygments_lexer": "ipython2",
   "version": "2.7.13"
  }
 },
 "nbformat": 4,
 "nbformat_minor": 2
}
