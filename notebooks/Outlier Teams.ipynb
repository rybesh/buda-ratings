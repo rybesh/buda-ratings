{
 "cells": [
  {
   "cell_type": "code",
   "execution_count": 8,
   "metadata": {
    "collapsed": true
   },
   "outputs": [],
   "source": [
    "# Load the \"autoreload\" extension\n",
    "%load_ext autoreload\n",
    "\n",
    "# always reload modules marked with \"%aimport\"\n",
    "%autoreload 1\n",
    "\n",
    "import os\n",
    "import sys\n",
    "\n",
    "# add the 'src' directory as one where we can import modules\n",
    "src_dir = os.path.join(os.getcwd(), os.pardir, 'src', 'data')\n",
    "sys.path.append(src_dir)"
   ]
  },
  {
   "cell_type": "code",
   "execution_count": 9,
   "metadata": {
    "collapsed": true
   },
   "outputs": [],
   "source": [
    "import pandas as pd\n",
    "import numpy as np\n",
    "import matplotlib.pyplot as plt\n",
    "%matplotlib inline\n",
    "import seaborn as sns\n",
    "from sklearn import metrics\n",
    "from tqdm import tqdm\n",
    "from scipy.ndimage.filters import gaussian_filter1d\n",
    "from numpy.random import poisson"
   ]
  },
  {
   "cell_type": "code",
   "execution_count": 3,
   "metadata": {
    "collapsed": true
   },
   "outputs": [],
   "source": [
    "interim_dir = os.path.join(os.getcwd(), os.pardir, 'data', 'interim')\n",
    "figures_dir = os.path.join(os.getcwd(), os.pardir, 'reports', 'figures')"
   ]
  },
  {
   "cell_type": "code",
   "execution_count": 4,
   "metadata": {
    "collapsed": true
   },
   "outputs": [],
   "source": [
    "%aimport scrape_buda"
   ]
  },
  {
   "cell_type": "code",
   "execution_count": 75,
   "metadata": {
    "collapsed": true
   },
   "outputs": [],
   "source": [
    "from scrape_buda import BudaRating"
   ]
  },
  {
   "cell_type": "code",
   "execution_count": 76,
   "metadata": {},
   "outputs": [],
   "source": [
    "ratings = scrape_buda.BudaRating()\n",
    "prefix = os.path.join(interim_dir, 'data20160521')\n",
    "ratings.load_buda(prefix)"
   ]
  },
  {
   "cell_type": "code",
   "execution_count": 77,
   "metadata": {
    "scrolled": true
   },
   "outputs": [
    {
     "name": "stderr",
     "output_type": "stream",
     "text": [
      "  2%|▏         | 74/3031 [00:04<02:15, 21.87it/s]"
     ]
    },
    {
     "name": "stdout",
     "output_type": "stream",
     "text": [
      "> /Users/rbussman/Projects/BUDA/buda-ratings/src/data/scrape_buda.py(432)predict_team()\n",
      "-> for player in players:\n",
      "(Pdb) player\n",
      "u'Ho, Vivian'\n",
      "(Pdb) league_type\n",
      "u'Hat'\n",
      "(Pdb) experience_rating\n",
      "[1404.1394797153309, 1733.1428571428573, 1001.1428571428571, 1001.1428571428571, nan]\n",
      "(Pdb) previous_ratings\n",
      "[nan]\n",
      "(Pdb) previous_club_teams\n",
      "[40308]\n",
      "(Pdb) previous_teams\n",
      "array([40308, 39740])\n",
      "(Pdb) teams\n",
      "array([40308, 40309, 39740])\n",
      "(Pdb) 180 * 10 * 15\n",
      "27000\n",
      "(Pdb) 180 * 15 * 20\n",
      "54000\n",
      "(Pdb) 180 * 1000\n",
      "180000\n",
      "(Pdb) 1.2e6/180\n",
      "6666.666666666667\n",
      "(Pdb) 1.3e6/180\n",
      "7222.222222222223\n",
      "(Pdb) q\n"
     ]
    },
    {
     "name": "stderr",
     "output_type": "stream",
     "text": [
      "\n"
     ]
    },
    {
     "ename": "BdbQuit",
     "evalue": "",
     "output_type": "error",
     "traceback": [
      "\u001b[0;31m---------------------------------------------------------------------------\u001b[0m",
      "\u001b[0;31mBdbQuit\u001b[0m                                   Traceback (most recent call last)",
      "\u001b[0;32m<ipython-input-77-e4e54e92b20f>\u001b[0m in \u001b[0;36m<module>\u001b[0;34m()\u001b[0m\n\u001b[0;32m----> 1\u001b[0;31m \u001b[0mratings\u001b[0m\u001b[0;34m.\u001b[0m\u001b[0mpredicted_rating\u001b[0m\u001b[0;34m(\u001b[0m\u001b[0;34m)\u001b[0m\u001b[0;34m\u001b[0m\u001b[0m\n\u001b[0m",
      "\u001b[0;32m/Users/rbussman/Projects/BUDA/buda-ratings/notebooks/../src/data/scrape_buda.py\u001b[0m in \u001b[0;36mpredicted_rating\u001b[0;34m(self)\u001b[0m\n\u001b[1;32m    553\u001b[0m                 \u001b[0mn_capexp_allteams\u001b[0m\u001b[0;34m.\u001b[0m\u001b[0mappend\u001b[0m\u001b[0;34m(\u001b[0m\u001b[0;34m-\u001b[0m\u001b[0;36m1\u001b[0m\u001b[0;34m)\u001b[0m\u001b[0;34m\u001b[0m\u001b[0m\n\u001b[1;32m    554\u001b[0m                 \u001b[0;32mcontinue\u001b[0m\u001b[0;34m\u001b[0m\u001b[0m\n\u001b[0;32m--> 555\u001b[0;31m             \u001b[0mdfrating\u001b[0m\u001b[0;34m,\u001b[0m \u001b[0mn_cap\u001b[0m\u001b[0;34m,\u001b[0m \u001b[0mn_exp\u001b[0m\u001b[0;34m,\u001b[0m \u001b[0mn_capexp\u001b[0m \u001b[0;34m=\u001b[0m \u001b[0mself\u001b[0m\u001b[0;34m.\u001b[0m\u001b[0mpredict_team\u001b[0m\u001b[0;34m(\u001b[0m\u001b[0mstr\u001b[0m\u001b[0;34m(\u001b[0m\u001b[0mteam_id\u001b[0m\u001b[0;34m)\u001b[0m\u001b[0;34m)\u001b[0m\u001b[0;34m\u001b[0m\u001b[0m\n\u001b[0m\u001b[1;32m    556\u001b[0m             \u001b[0mself_allteams\u001b[0m\u001b[0;34m.\u001b[0m\u001b[0mappend\u001b[0m\u001b[0;34m(\u001b[0m\u001b[0mdfrating\u001b[0m\u001b[0;34m[\u001b[0m\u001b[0;34m'self_rating'\u001b[0m\u001b[0;34m]\u001b[0m\u001b[0;34m.\u001b[0m\u001b[0mmean\u001b[0m\u001b[0;34m(\u001b[0m\u001b[0;34m)\u001b[0m\u001b[0;34m)\u001b[0m\u001b[0;34m\u001b[0m\u001b[0m\n\u001b[1;32m    557\u001b[0m             \u001b[0mcaptain_allteams\u001b[0m\u001b[0;34m.\u001b[0m\u001b[0mappend\u001b[0m\u001b[0;34m(\u001b[0m\u001b[0mdfrating\u001b[0m\u001b[0;34m[\u001b[0m\u001b[0;34m'captain_rating'\u001b[0m\u001b[0;34m]\u001b[0m\u001b[0;34m.\u001b[0m\u001b[0mmean\u001b[0m\u001b[0;34m(\u001b[0m\u001b[0;34m)\u001b[0m\u001b[0;34m)\u001b[0m\u001b[0;34m\u001b[0m\u001b[0m\n",
      "\u001b[0;32m/Users/rbussman/Projects/BUDA/buda-ratings/notebooks/../src/data/scrape_buda.py\u001b[0m in \u001b[0;36mpredict_team\u001b[0;34m(self, team_id)\u001b[0m\n\u001b[1;32m    430\u001b[0m \u001b[0;34m\u001b[0m\u001b[0m\n\u001b[1;32m    431\u001b[0m         \u001b[0;31m# for each player, get their rating based on previous performance\u001b[0m\u001b[0;34m\u001b[0m\u001b[0;34m\u001b[0m\u001b[0m\n\u001b[0;32m--> 432\u001b[0;31m         \u001b[0;32mfor\u001b[0m \u001b[0mplayer\u001b[0m \u001b[0;32min\u001b[0m \u001b[0mplayers\u001b[0m\u001b[0;34m:\u001b[0m\u001b[0;34m\u001b[0m\u001b[0m\n\u001b[0m\u001b[1;32m    433\u001b[0m             \u001b[0mcaptain_or_experience\u001b[0m \u001b[0;34m=\u001b[0m \u001b[0mFalse\u001b[0m\u001b[0;34m\u001b[0m\u001b[0m\n\u001b[1;32m    434\u001b[0m \u001b[0;34m\u001b[0m\u001b[0m\n",
      "\u001b[0;32m/Users/rbussman/Projects/BUDA/buda-ratings/notebooks/../src/data/scrape_buda.py\u001b[0m in \u001b[0;36mpredict_team\u001b[0;34m(self, team_id)\u001b[0m\n\u001b[1;32m    430\u001b[0m \u001b[0;34m\u001b[0m\u001b[0m\n\u001b[1;32m    431\u001b[0m         \u001b[0;31m# for each player, get their rating based on previous performance\u001b[0m\u001b[0;34m\u001b[0m\u001b[0;34m\u001b[0m\u001b[0m\n\u001b[0;32m--> 432\u001b[0;31m         \u001b[0;32mfor\u001b[0m \u001b[0mplayer\u001b[0m \u001b[0;32min\u001b[0m \u001b[0mplayers\u001b[0m\u001b[0;34m:\u001b[0m\u001b[0;34m\u001b[0m\u001b[0m\n\u001b[0m\u001b[1;32m    433\u001b[0m             \u001b[0mcaptain_or_experience\u001b[0m \u001b[0;34m=\u001b[0m \u001b[0mFalse\u001b[0m\u001b[0;34m\u001b[0m\u001b[0m\n\u001b[1;32m    434\u001b[0m \u001b[0;34m\u001b[0m\u001b[0m\n",
      "\u001b[0;32m/Users/rbussman/anaconda/lib/python2.7/bdb.pyc\u001b[0m in \u001b[0;36mtrace_dispatch\u001b[0;34m(self, frame, event, arg)\u001b[0m\n\u001b[1;32m     47\u001b[0m             \u001b[0;32mreturn\u001b[0m \u001b[0;31m# None\u001b[0m\u001b[0;34m\u001b[0m\u001b[0m\n\u001b[1;32m     48\u001b[0m         \u001b[0;32mif\u001b[0m \u001b[0mevent\u001b[0m \u001b[0;34m==\u001b[0m \u001b[0;34m'line'\u001b[0m\u001b[0;34m:\u001b[0m\u001b[0;34m\u001b[0m\u001b[0m\n\u001b[0;32m---> 49\u001b[0;31m             \u001b[0;32mreturn\u001b[0m \u001b[0mself\u001b[0m\u001b[0;34m.\u001b[0m\u001b[0mdispatch_line\u001b[0m\u001b[0;34m(\u001b[0m\u001b[0mframe\u001b[0m\u001b[0;34m)\u001b[0m\u001b[0;34m\u001b[0m\u001b[0m\n\u001b[0m\u001b[1;32m     50\u001b[0m         \u001b[0;32mif\u001b[0m \u001b[0mevent\u001b[0m \u001b[0;34m==\u001b[0m \u001b[0;34m'call'\u001b[0m\u001b[0;34m:\u001b[0m\u001b[0;34m\u001b[0m\u001b[0m\n\u001b[1;32m     51\u001b[0m             \u001b[0;32mreturn\u001b[0m \u001b[0mself\u001b[0m\u001b[0;34m.\u001b[0m\u001b[0mdispatch_call\u001b[0m\u001b[0;34m(\u001b[0m\u001b[0mframe\u001b[0m\u001b[0;34m,\u001b[0m \u001b[0marg\u001b[0m\u001b[0;34m)\u001b[0m\u001b[0;34m\u001b[0m\u001b[0m\n",
      "\u001b[0;32m/Users/rbussman/anaconda/lib/python2.7/bdb.pyc\u001b[0m in \u001b[0;36mdispatch_line\u001b[0;34m(self, frame)\u001b[0m\n\u001b[1;32m     66\u001b[0m         \u001b[0;32mif\u001b[0m \u001b[0mself\u001b[0m\u001b[0;34m.\u001b[0m\u001b[0mstop_here\u001b[0m\u001b[0;34m(\u001b[0m\u001b[0mframe\u001b[0m\u001b[0;34m)\u001b[0m \u001b[0;32mor\u001b[0m \u001b[0mself\u001b[0m\u001b[0;34m.\u001b[0m\u001b[0mbreak_here\u001b[0m\u001b[0;34m(\u001b[0m\u001b[0mframe\u001b[0m\u001b[0;34m)\u001b[0m\u001b[0;34m:\u001b[0m\u001b[0;34m\u001b[0m\u001b[0m\n\u001b[1;32m     67\u001b[0m             \u001b[0mself\u001b[0m\u001b[0;34m.\u001b[0m\u001b[0muser_line\u001b[0m\u001b[0;34m(\u001b[0m\u001b[0mframe\u001b[0m\u001b[0;34m)\u001b[0m\u001b[0;34m\u001b[0m\u001b[0m\n\u001b[0;32m---> 68\u001b[0;31m             \u001b[0;32mif\u001b[0m \u001b[0mself\u001b[0m\u001b[0;34m.\u001b[0m\u001b[0mquitting\u001b[0m\u001b[0;34m:\u001b[0m \u001b[0;32mraise\u001b[0m \u001b[0mBdbQuit\u001b[0m\u001b[0;34m\u001b[0m\u001b[0m\n\u001b[0m\u001b[1;32m     69\u001b[0m         \u001b[0;32mreturn\u001b[0m \u001b[0mself\u001b[0m\u001b[0;34m.\u001b[0m\u001b[0mtrace_dispatch\u001b[0m\u001b[0;34m\u001b[0m\u001b[0m\n\u001b[1;32m     70\u001b[0m \u001b[0;34m\u001b[0m\u001b[0m\n",
      "\u001b[0;31mBdbQuit\u001b[0m: "
     ]
    }
   ],
   "source": [
    "ratings.predicted_rating()"
   ]
  },
  {
   "cell_type": "code",
   "execution_count": 70,
   "metadata": {},
   "outputs": [
    {
     "data": {
      "text/html": [
       "<div>\n",
       "<table border=\"1\" class=\"dataframe\">\n",
       "  <thead>\n",
       "    <tr style=\"text-align: right;\">\n",
       "      <th></th>\n",
       "      <th>Unnamed: 0</th>\n",
       "      <th>divname</th>\n",
       "      <th>divrating</th>\n",
       "      <th>plusminus</th>\n",
       "      <th>season</th>\n",
       "      <th>teamid</th>\n",
       "      <th>teamname</th>\n",
       "      <th>type</th>\n",
       "      <th>year</th>\n",
       "    </tr>\n",
       "  </thead>\n",
       "  <tbody>\n",
       "  </tbody>\n",
       "</table>\n",
       "</div>"
      ],
      "text/plain": [
       "Empty DataFrame\n",
       "Columns: [Unnamed: 0, divname, divrating, plusminus, season, teamid, teamname, type, year]\n",
       "Index: []"
      ]
     },
     "execution_count": 70,
     "metadata": {},
     "output_type": "execute_result"
    }
   ],
   "source": [
    "ratings.allteams[ratings.allteams['teamid'] == 39878]"
   ]
  },
  {
   "cell_type": "code",
   "execution_count": 59,
   "metadata": {},
   "outputs": [
    {
     "ename": "IndexError",
     "evalue": "index 0 is out of bounds for axis 0 with size 0",
     "output_type": "error",
     "traceback": [
      "\u001b[0;31m---------------------------------------------------------------------------\u001b[0m",
      "\u001b[0;31mIndexError\u001b[0m                                Traceback (most recent call last)",
      "\u001b[0;32m<ipython-input-59-f335cdcafbcb>\u001b[0m in \u001b[0;36m<module>\u001b[0;34m()\u001b[0m\n\u001b[0;32m----> 1\u001b[0;31m \u001b[0mratings\u001b[0m\u001b[0;34m.\u001b[0m\u001b[0mcheck_league_type\u001b[0m\u001b[0;34m(\u001b[0m\u001b[0;36m39878\u001b[0m\u001b[0;34m)\u001b[0m\u001b[0;34m\u001b[0m\u001b[0m\n\u001b[0m",
      "\u001b[0;32m/Users/rbussman/Projects/BUDA/buda-ratings/notebooks/../src/data/scrape_buda.py\u001b[0m in \u001b[0;36mcheck_league_type\u001b[0;34m(self, team_id)\u001b[0m\n\u001b[1;32m    387\u001b[0m \u001b[0;34m\u001b[0m\u001b[0m\n\u001b[1;32m    388\u001b[0m         return self.allteams.loc[self.allteams['teamid'] == team_id,\n\u001b[0;32m--> 389\u001b[0;31m                                  'type'].values[0]\n\u001b[0m\u001b[1;32m    390\u001b[0m \u001b[0;34m\u001b[0m\u001b[0m\n\u001b[1;32m    391\u001b[0m     \u001b[0;32mdef\u001b[0m \u001b[0mpredict_team\u001b[0m\u001b[0;34m(\u001b[0m\u001b[0mself\u001b[0m\u001b[0;34m,\u001b[0m \u001b[0mteam_id\u001b[0m\u001b[0;34m)\u001b[0m\u001b[0;34m:\u001b[0m\u001b[0;34m\u001b[0m\u001b[0m\n",
      "\u001b[0;31mIndexError\u001b[0m: index 0 is out of bounds for axis 0 with size 0"
     ]
    }
   ],
   "source": [
    "ratings.check_league_type(39878)"
   ]
  },
  {
   "cell_type": "code",
   "execution_count": 78,
   "metadata": {
    "collapsed": true
   },
   "outputs": [],
   "source": [
    "ratings.allteams = pd.read_csv(os.path.join(interim_dir, 'withselfcaptainensemble_ratings_numbers.csv'))"
   ]
  },
  {
   "cell_type": "code",
   "execution_count": 37,
   "metadata": {
    "collapsed": true
   },
   "outputs": [],
   "source": [
    "ratings.allteams.to_csv(os.path.join(interim_dir, 'withselfcaptainensemble_ratings_numbers.csv'))"
   ]
  },
  {
   "cell_type": "code",
   "execution_count": 87,
   "metadata": {
    "scrolled": true
   },
   "outputs": [],
   "source": [
    "year_index = (ratings.allteams['year'] == 2015) & (ratings.allteams['type'] == 'Hat')\n",
    "this_year = ratings.allteams[year_index]"
   ]
  },
  {
   "cell_type": "code",
   "execution_count": 89,
   "metadata": {
    "scrolled": true
   },
   "outputs": [
    {
     "data": {
      "text/plain": [
       "96"
      ]
     },
     "execution_count": 89,
     "metadata": {},
     "output_type": "execute_result"
    }
   ],
   "source": [
    "len(this_year)"
   ]
  },
  {
   "cell_type": "code",
   "execution_count": 91,
   "metadata": {},
   "outputs": [
    {
     "data": {
      "text/plain": [
       "960"
      ]
     },
     "execution_count": 91,
     "metadata": {},
     "output_type": "execute_result"
    }
   ],
   "source": [
    "96 * 10"
   ]
  },
  {
   "cell_type": "code",
   "execution_count": 32,
   "metadata": {},
   "outputs": [],
   "source": [
    "sph_index = (ratings.allteams['season'] == 'Spring') & \\\n",
    "            (ratings.allteams['type'] == 'Hat') & \\\n",
    "            (ratings.allteams['divname'] == 'JP Mixed (4/3)') & \\\n",
    "            (ratings.allteams['year'] >= 2010)\n",
    "sph = ratings.allteams[sph_index]"
   ]
  },
  {
   "cell_type": "code",
   "execution_count": 58,
   "metadata": {},
   "outputs": [
    {
     "data": {
      "image/png": "[encoded data removed]",
      "text/plain": [
       "<matplotlib.figure.Figure at 0x11ebc6150>"
      ]
     },
     "metadata": {},
     "output_type": "display_data"
    }
   ],
   "source": [
    "sns.set_context('poster')\n",
    "sns.set_style('white')\n",
    "fig, ax = plt.subplots(figsize=(6, 5))\n",
    "sns.distplot(sph['plusminus'], kde=False, bins=range(-12,12))\n",
    "plt.ylabel('Number of Teams')\n",
    "plt.xlabel('Average Plus/Minus per Game')\n",
    "plt.tight_layout()\n",
    "plt.savefig(os.path.join(figures_dir, 'PlusMinusDistribution'))"
   ]
  },
  {
   "cell_type": "code",
   "execution_count": 94,
   "metadata": {},
   "outputs": [
    {
     "data": {
      "text/plain": [
       "16"
      ]
     },
     "execution_count": 94,
     "metadata": {},
     "output_type": "execute_result"
    }
   ],
   "source": [
    "whoa = (sph['plusminus']) >= 5\n",
    "len(sph[whoa])"
   ]
  },
  {
   "cell_type": "code",
   "execution_count": 93,
   "metadata": {},
   "outputs": [
    {
     "data": {
      "text/plain": [
       "14"
      ]
     },
     "execution_count": 93,
     "metadata": {},
     "output_type": "execute_result"
    }
   ],
   "source": [
    "whoa = (sph['plusminus']) <= -5\n",
    "len(sph[whoa])"
   ]
  },
  {
   "cell_type": "code",
   "execution_count": 29,
   "metadata": {},
   "outputs": [
    {
     "data": {
      "text/plain": [
       "171"
      ]
     },
     "execution_count": 29,
     "metadata": {},
     "output_type": "execute_result"
    }
   ],
   "source": [
    "len(sph)"
   ]
  },
  {
   "cell_type": "code",
   "execution_count": 30,
   "metadata": {},
   "outputs": [
    {
     "data": {
      "text/plain": [
       "24.428571428571427"
      ]
     },
     "execution_count": 30,
     "metadata": {},
     "output_type": "execute_result"
    }
   ],
   "source": [
    "171 / 7."
   ]
  },
  {
   "cell_type": "code",
   "execution_count": 31,
   "metadata": {},
   "outputs": [
    {
     "data": {
      "text/html": [
       "<div>\n",
       "<table border=\"1\" class=\"dataframe\">\n",
       "  <thead>\n",
       "    <tr style=\"text-align: right;\">\n",
       "      <th></th>\n",
       "      <th>Unnamed: 0</th>\n",
       "      <th>Unnamed: 0.1</th>\n",
       "      <th>divname</th>\n",
       "      <th>divrating</th>\n",
       "      <th>plusminus</th>\n",
       "      <th>season</th>\n",
       "      <th>teamid</th>\n",
       "      <th>teamname</th>\n",
       "      <th>type</th>\n",
       "      <th>year</th>\n",
       "      <th>self_rating</th>\n",
       "      <th>captain_rating</th>\n",
       "      <th>draft_rating</th>\n",
       "      <th>experience_rating</th>\n",
       "    </tr>\n",
       "  </thead>\n",
       "  <tbody>\n",
       "    <tr>\n",
       "      <th>78</th>\n",
       "      <td>78</td>\n",
       "      <td>78</td>\n",
       "      <td>JP Mixed (4/3)</td>\n",
       "      <td>0.0</td>\n",
       "      <td>6.800000</td>\n",
       "      <td>Spring</td>\n",
       "      <td>40309</td>\n",
       "      <td>Mark Hammer (1)</td>\n",
       "      <td>Hat</td>\n",
       "      <td>2016</td>\n",
       "      <td>51.657980</td>\n",
       "      <td>54.342020</td>\n",
       "      <td>53.000000</td>\n",
       "      <td>1269.603025</td>\n",
       "    </tr>\n",
       "    <tr>\n",
       "      <th>79</th>\n",
       "      <td>79</td>\n",
       "      <td>79</td>\n",
       "      <td>JP Mixed (4/3)</td>\n",
       "      <td>0.0</td>\n",
       "      <td>6.333333</td>\n",
       "      <td>Spring</td>\n",
       "      <td>40310</td>\n",
       "      <td>R2Team2 (2)</td>\n",
       "      <td>Hat</td>\n",
       "      <td>2016</td>\n",
       "      <td>52.185185</td>\n",
       "      <td>53.014815</td>\n",
       "      <td>52.600000</td>\n",
       "      <td>1352.263306</td>\n",
       "    </tr>\n",
       "    <tr>\n",
       "      <th>80</th>\n",
       "      <td>80</td>\n",
       "      <td>80</td>\n",
       "      <td>JP Mixed (4/3)</td>\n",
       "      <td>0.0</td>\n",
       "      <td>4.333333</td>\n",
       "      <td>Spring</td>\n",
       "      <td>40311</td>\n",
       "      <td>Chewblocka (3)</td>\n",
       "      <td>Hat</td>\n",
       "      <td>2016</td>\n",
       "      <td>49.710101</td>\n",
       "      <td>54.689899</td>\n",
       "      <td>52.200000</td>\n",
       "      <td>1345.951651</td>\n",
       "    </tr>\n",
       "    <tr>\n",
       "      <th>81</th>\n",
       "      <td>81</td>\n",
       "      <td>81</td>\n",
       "      <td>JP Mixed (4/3)</td>\n",
       "      <td>0.0</td>\n",
       "      <td>-1.800000</td>\n",
       "      <td>Spring</td>\n",
       "      <td>40312</td>\n",
       "      <td>Never Teal Me The Odds (4)</td>\n",
       "      <td>Hat</td>\n",
       "      <td>2016</td>\n",
       "      <td>51.327705</td>\n",
       "      <td>51.472295</td>\n",
       "      <td>51.400000</td>\n",
       "      <td>1106.513497</td>\n",
       "    </tr>\n",
       "    <tr>\n",
       "      <th>82</th>\n",
       "      <td>82</td>\n",
       "      <td>82</td>\n",
       "      <td>JP Mixed (4/3)</td>\n",
       "      <td>0.0</td>\n",
       "      <td>-2.000000</td>\n",
       "      <td>Spring</td>\n",
       "      <td>40313</td>\n",
       "      <td>Ernest goes to Doyle's (5)</td>\n",
       "      <td>Hat</td>\n",
       "      <td>2016</td>\n",
       "      <td>55.491738</td>\n",
       "      <td>52.641595</td>\n",
       "      <td>54.066667</td>\n",
       "      <td>1107.501716</td>\n",
       "    </tr>\n",
       "  </tbody>\n",
       "</table>\n",
       "</div>"
      ],
      "text/plain": [
       "    Unnamed: 0  Unnamed: 0.1         divname  divrating  plusminus  season  \\\n",
       "78          78            78  JP Mixed (4/3)        0.0   6.800000  Spring   \n",
       "79          79            79  JP Mixed (4/3)        0.0   6.333333  Spring   \n",
       "80          80            80  JP Mixed (4/3)        0.0   4.333333  Spring   \n",
       "81          81            81  JP Mixed (4/3)        0.0  -1.800000  Spring   \n",
       "82          82            82  JP Mixed (4/3)        0.0  -2.000000  Spring   \n",
       "\n",
       "    teamid                    teamname type  year  self_rating  \\\n",
       "78   40309             Mark Hammer (1)  Hat  2016    51.657980   \n",
       "79   40310                 R2Team2 (2)  Hat  2016    52.185185   \n",
       "80   40311              Chewblocka (3)  Hat  2016    49.710101   \n",
       "81   40312  Never Teal Me The Odds (4)  Hat  2016    51.327705   \n",
       "82   40313  Ernest goes to Doyle's (5)  Hat  2016    55.491738   \n",
       "\n",
       "    captain_rating  draft_rating  experience_rating  \n",
       "78       54.342020     53.000000        1269.603025  \n",
       "79       53.014815     52.600000        1352.263306  \n",
       "80       54.689899     52.200000        1345.951651  \n",
       "81       51.472295     51.400000        1106.513497  \n",
       "82       52.641595     54.066667        1107.501716  "
      ]
     },
     "execution_count": 31,
     "metadata": {},
     "output_type": "execute_result"
    }
   ],
   "source": [
    "sph.head()"
   ]
  },
  {
   "cell_type": "code",
   "execution_count": 32,
   "metadata": {},
   "outputs": [
    {
     "data": {
      "text/plain": [
       "0.17543859649122806"
      ]
     },
     "execution_count": 32,
     "metadata": {},
     "output_type": "execute_result"
    }
   ],
   "source": [
    "30/171."
   ]
  },
  {
   "cell_type": "code",
   "execution_count": 42,
   "metadata": {
    "scrolled": true
   },
   "outputs": [
    {
     "name": "stdout",
     "output_type": "stream",
     "text": [
      "(2010, 28)\n",
      "(2011, 24)\n",
      "(2012, 24)\n",
      "(2013, 24)\n",
      "(2014, 23)\n",
      "(2015, 24)\n",
      "(2016, 24)\n"
     ]
    }
   ],
   "source": [
    "years = range(2010, 2017)\n",
    "for year in years:\n",
    "    sph_index1 = (ratings.allteams['season'] == 'Spring') & \\\n",
    "            (ratings.allteams['type'] == 'Hat') & \\\n",
    "            (ratings.allteams['divname'] == 'JP Mixed (4/3)') & \\\n",
    "            (ratings.allteams['year'] == year)\n",
    "    sph1 = ratings.allteams[sph_index1]\n",
    "    print(year, len(sph1))"
   ]
  },
  {
   "cell_type": "code",
   "execution_count": 43,
   "metadata": {},
   "outputs": [],
   "source": [
    "year = 2014\n",
    "sph_index1 = (ratings.allteams['season'] == 'Spring') & \\\n",
    "        (ratings.allteams['type'] == 'Hat') & \\\n",
    "        (ratings.allteams['divname'] == 'JP Mixed (4/3)') & \\\n",
    "        (ratings.allteams['year'] == year)\n",
    "sph1 = ratings.allteams[sph_index1]\n"
   ]
  },
  {
   "cell_type": "code",
   "execution_count": 44,
   "metadata": {
    "scrolled": true
   },
   "outputs": [
    {
     "data": {
      "text/html": [
       "<div>\n",
       "<table border=\"1\" class=\"dataframe\">\n",
       "  <thead>\n",
       "    <tr style=\"text-align: right;\">\n",
       "      <th></th>\n",
       "      <th>Unnamed: 0</th>\n",
       "      <th>Unnamed: 0.1</th>\n",
       "      <th>divname</th>\n",
       "      <th>divrating</th>\n",
       "      <th>plusminus</th>\n",
       "      <th>season</th>\n",
       "      <th>teamid</th>\n",
       "      <th>teamname</th>\n",
       "      <th>type</th>\n",
       "      <th>year</th>\n",
       "      <th>self_rating</th>\n",
       "      <th>captain_rating</th>\n",
       "      <th>draft_rating</th>\n",
       "      <th>experience_rating</th>\n",
       "    </tr>\n",
       "  </thead>\n",
       "  <tbody>\n",
       "    <tr>\n",
       "      <th>549</th>\n",
       "      <td>549</td>\n",
       "      <td>549</td>\n",
       "      <td>JP Mixed (4/3)</td>\n",
       "      <td>0.0</td>\n",
       "      <td>-6.200000</td>\n",
       "      <td>Spring</td>\n",
       "      <td>36544</td>\n",
       "      <td>Winter Swill Gang (1)</td>\n",
       "      <td>Hat</td>\n",
       "      <td>2014</td>\n",
       "      <td>52.922924</td>\n",
       "      <td>48.077076</td>\n",
       "      <td>50.500000</td>\n",
       "      <td>1142.824305</td>\n",
       "    </tr>\n",
       "    <tr>\n",
       "      <th>550</th>\n",
       "      <td>550</td>\n",
       "      <td>550</td>\n",
       "      <td>JP Mixed (4/3)</td>\n",
       "      <td>0.0</td>\n",
       "      <td>9.333333</td>\n",
       "      <td>Spring</td>\n",
       "      <td>36545</td>\n",
       "      <td>Two if by Sea (2)</td>\n",
       "      <td>Hat</td>\n",
       "      <td>2014</td>\n",
       "      <td>46.990074</td>\n",
       "      <td>54.884926</td>\n",
       "      <td>50.937500</td>\n",
       "      <td>1274.370441</td>\n",
       "    </tr>\n",
       "    <tr>\n",
       "      <th>551</th>\n",
       "      <td>551</td>\n",
       "      <td>551</td>\n",
       "      <td>JP Mixed (4/3)</td>\n",
       "      <td>0.0</td>\n",
       "      <td>-2.857143</td>\n",
       "      <td>Spring</td>\n",
       "      <td>36546</td>\n",
       "      <td>Quality Comfort and Price (3)</td>\n",
       "      <td>Hat</td>\n",
       "      <td>2014</td>\n",
       "      <td>51.654018</td>\n",
       "      <td>50.220982</td>\n",
       "      <td>50.937500</td>\n",
       "      <td>1204.437612</td>\n",
       "    </tr>\n",
       "    <tr>\n",
       "      <th>552</th>\n",
       "      <td>552</td>\n",
       "      <td>552</td>\n",
       "      <td>JP Mixed (4/3)</td>\n",
       "      <td>0.0</td>\n",
       "      <td>1.833333</td>\n",
       "      <td>Spring</td>\n",
       "      <td>36547</td>\n",
       "      <td>Callahan Tunnel (4)</td>\n",
       "      <td>Hat</td>\n",
       "      <td>2014</td>\n",
       "      <td>49.703646</td>\n",
       "      <td>52.046354</td>\n",
       "      <td>50.875000</td>\n",
       "      <td>1240.555548</td>\n",
       "    </tr>\n",
       "    <tr>\n",
       "      <th>553</th>\n",
       "      <td>553</td>\n",
       "      <td>553</td>\n",
       "      <td>JP Mixed (4/3)</td>\n",
       "      <td>0.0</td>\n",
       "      <td>-4.333333</td>\n",
       "      <td>Spring</td>\n",
       "      <td>36548</td>\n",
       "      <td>USS Cutstitution (5)</td>\n",
       "      <td>Hat</td>\n",
       "      <td>2014</td>\n",
       "      <td>51.332813</td>\n",
       "      <td>50.917187</td>\n",
       "      <td>51.125000</td>\n",
       "      <td>1175.209420</td>\n",
       "    </tr>\n",
       "    <tr>\n",
       "      <th>554</th>\n",
       "      <td>554</td>\n",
       "      <td>554</td>\n",
       "      <td>JP Mixed (4/3)</td>\n",
       "      <td>0.0</td>\n",
       "      <td>3.833333</td>\n",
       "      <td>Spring</td>\n",
       "      <td>36549</td>\n",
       "      <td>Make Way for Hucklings (6)</td>\n",
       "      <td>Hat</td>\n",
       "      <td>2014</td>\n",
       "      <td>52.298643</td>\n",
       "      <td>47.826357</td>\n",
       "      <td>50.062500</td>\n",
       "      <td>1111.473187</td>\n",
       "    </tr>\n",
       "    <tr>\n",
       "      <th>555</th>\n",
       "      <td>555</td>\n",
       "      <td>555</td>\n",
       "      <td>JP Mixed (4/3)</td>\n",
       "      <td>0.0</td>\n",
       "      <td>-4.000000</td>\n",
       "      <td>Spring</td>\n",
       "      <td>36550</td>\n",
       "      <td>Donnie Stallberg (7)</td>\n",
       "      <td>Hat</td>\n",
       "      <td>2014</td>\n",
       "      <td>46.406662</td>\n",
       "      <td>49.718338</td>\n",
       "      <td>48.062500</td>\n",
       "      <td>1074.428412</td>\n",
       "    </tr>\n",
       "    <tr>\n",
       "      <th>556</th>\n",
       "      <td>556</td>\n",
       "      <td>556</td>\n",
       "      <td>JP Mixed (4/3)</td>\n",
       "      <td>0.0</td>\n",
       "      <td>-4.571429</td>\n",
       "      <td>Spring</td>\n",
       "      <td>36551</td>\n",
       "      <td>JP Flicks (8)</td>\n",
       "      <td>Hat</td>\n",
       "      <td>2014</td>\n",
       "      <td>54.401042</td>\n",
       "      <td>47.848958</td>\n",
       "      <td>51.125000</td>\n",
       "      <td>1180.879226</td>\n",
       "    </tr>\n",
       "    <tr>\n",
       "      <th>557</th>\n",
       "      <td>557</td>\n",
       "      <td>557</td>\n",
       "      <td>JP Mixed (4/3)</td>\n",
       "      <td>0.0</td>\n",
       "      <td>1.333333</td>\n",
       "      <td>Spring</td>\n",
       "      <td>36552</td>\n",
       "      <td>Mahky Mahk and the Nu Ds (9)</td>\n",
       "      <td>Hat</td>\n",
       "      <td>2014</td>\n",
       "      <td>50.807292</td>\n",
       "      <td>49.692708</td>\n",
       "      <td>50.250000</td>\n",
       "      <td>1259.949807</td>\n",
       "    </tr>\n",
       "    <tr>\n",
       "      <th>558</th>\n",
       "      <td>558</td>\n",
       "      <td>558</td>\n",
       "      <td>JP Mixed (4/3)</td>\n",
       "      <td>0.0</td>\n",
       "      <td>-1.166667</td>\n",
       "      <td>Spring</td>\n",
       "      <td>36553</td>\n",
       "      <td>Ten Teal Seals in a Touch Tank (10)</td>\n",
       "      <td>Hat</td>\n",
       "      <td>2014</td>\n",
       "      <td>50.493056</td>\n",
       "      <td>52.506944</td>\n",
       "      <td>51.500000</td>\n",
       "      <td>1315.944470</td>\n",
       "    </tr>\n",
       "    <tr>\n",
       "      <th>559</th>\n",
       "      <td>559</td>\n",
       "      <td>559</td>\n",
       "      <td>JP Mixed (4/3)</td>\n",
       "      <td>0.0</td>\n",
       "      <td>1.714286</td>\n",
       "      <td>Spring</td>\n",
       "      <td>36554</td>\n",
       "      <td>Lobstahbacks (11)</td>\n",
       "      <td>Hat</td>\n",
       "      <td>2014</td>\n",
       "      <td>47.208681</td>\n",
       "      <td>51.416319</td>\n",
       "      <td>49.312500</td>\n",
       "      <td>1309.554897</td>\n",
       "    </tr>\n",
       "    <tr>\n",
       "      <th>560</th>\n",
       "      <td>560</td>\n",
       "      <td>560</td>\n",
       "      <td>JP Mixed (4/3)</td>\n",
       "      <td>0.0</td>\n",
       "      <td>5.500000</td>\n",
       "      <td>Spring</td>\n",
       "      <td>36555</td>\n",
       "      <td>Boston Huck Tour (12)</td>\n",
       "      <td>Hat</td>\n",
       "      <td>2014</td>\n",
       "      <td>48.636458</td>\n",
       "      <td>54.238542</td>\n",
       "      <td>51.437500</td>\n",
       "      <td>1187.685577</td>\n",
       "    </tr>\n",
       "    <tr>\n",
       "      <th>561</th>\n",
       "      <td>561</td>\n",
       "      <td>561</td>\n",
       "      <td>JP Mixed (4/3)</td>\n",
       "      <td>0.0</td>\n",
       "      <td>-2.666667</td>\n",
       "      <td>Spring</td>\n",
       "      <td>36556</td>\n",
       "      <td>Good Will Hucking (13)</td>\n",
       "      <td>Hat</td>\n",
       "      <td>2014</td>\n",
       "      <td>54.169630</td>\n",
       "      <td>47.030370</td>\n",
       "      <td>50.600000</td>\n",
       "      <td>1169.923452</td>\n",
       "    </tr>\n",
       "    <tr>\n",
       "      <th>562</th>\n",
       "      <td>562</td>\n",
       "      <td>562</td>\n",
       "      <td>JP Mixed (4/3)</td>\n",
       "      <td>0.0</td>\n",
       "      <td>-0.857143</td>\n",
       "      <td>Spring</td>\n",
       "      <td>36557</td>\n",
       "      <td>Quincy Mahk It (14)</td>\n",
       "      <td>Hat</td>\n",
       "      <td>2014</td>\n",
       "      <td>53.017340</td>\n",
       "      <td>53.515993</td>\n",
       "      <td>53.266667</td>\n",
       "      <td>1306.848992</td>\n",
       "    </tr>\n",
       "    <tr>\n",
       "      <th>563</th>\n",
       "      <td>563</td>\n",
       "      <td>563</td>\n",
       "      <td>JP Mixed (4/3)</td>\n",
       "      <td>0.0</td>\n",
       "      <td>-0.714286</td>\n",
       "      <td>Spring</td>\n",
       "      <td>36558</td>\n",
       "      <td>Huck Fah Gain Yahds (15)</td>\n",
       "      <td>Hat</td>\n",
       "      <td>2014</td>\n",
       "      <td>46.695916</td>\n",
       "      <td>52.679084</td>\n",
       "      <td>49.687500</td>\n",
       "      <td>1256.474527</td>\n",
       "    </tr>\n",
       "    <tr>\n",
       "      <th>564</th>\n",
       "      <td>564</td>\n",
       "      <td>564</td>\n",
       "      <td>JP Mixed (4/3)</td>\n",
       "      <td>0.0</td>\n",
       "      <td>-1.428571</td>\n",
       "      <td>Spring</td>\n",
       "      <td>36559</td>\n",
       "      <td>Flickin' Up to Boston (16)</td>\n",
       "      <td>Hat</td>\n",
       "      <td>2014</td>\n",
       "      <td>51.152857</td>\n",
       "      <td>49.380476</td>\n",
       "      <td>50.266667</td>\n",
       "      <td>1138.356591</td>\n",
       "    </tr>\n",
       "    <tr>\n",
       "      <th>565</th>\n",
       "      <td>565</td>\n",
       "      <td>565</td>\n",
       "      <td>JP Mixed (4/3)</td>\n",
       "      <td>0.0</td>\n",
       "      <td>4.142857</td>\n",
       "      <td>Spring</td>\n",
       "      <td>36561</td>\n",
       "      <td>faneuil stall (18)</td>\n",
       "      <td>Hat</td>\n",
       "      <td>2014</td>\n",
       "      <td>46.779688</td>\n",
       "      <td>49.595312</td>\n",
       "      <td>48.187500</td>\n",
       "      <td>1374.897527</td>\n",
       "    </tr>\n",
       "    <tr>\n",
       "      <th>566</th>\n",
       "      <td>566</td>\n",
       "      <td>566</td>\n",
       "      <td>JP Mixed (4/3)</td>\n",
       "      <td>0.0</td>\n",
       "      <td>-6.285714</td>\n",
       "      <td>Spring</td>\n",
       "      <td>36562</td>\n",
       "      <td>Mark Stallberg on da Orange Line (19)</td>\n",
       "      <td>Hat</td>\n",
       "      <td>2014</td>\n",
       "      <td>52.296218</td>\n",
       "      <td>50.174370</td>\n",
       "      <td>51.235294</td>\n",
       "      <td>1234.715216</td>\n",
       "    </tr>\n",
       "    <tr>\n",
       "      <th>567</th>\n",
       "      <td>567</td>\n",
       "      <td>567</td>\n",
       "      <td>JP Mixed (4/3)</td>\n",
       "      <td>0.0</td>\n",
       "      <td>-1.333333</td>\n",
       "      <td>Spring</td>\n",
       "      <td>36563</td>\n",
       "      <td>The Handblock Tower (20)</td>\n",
       "      <td>Hat</td>\n",
       "      <td>2014</td>\n",
       "      <td>52.334603</td>\n",
       "      <td>48.865397</td>\n",
       "      <td>50.600000</td>\n",
       "      <td>1234.520132</td>\n",
       "    </tr>\n",
       "    <tr>\n",
       "      <th>568</th>\n",
       "      <td>568</td>\n",
       "      <td>568</td>\n",
       "      <td>JP Mixed (4/3)</td>\n",
       "      <td>0.0</td>\n",
       "      <td>-1.428571</td>\n",
       "      <td>Spring</td>\n",
       "      <td>36564</td>\n",
       "      <td>Huck if by Land Dump if by Sea (21)</td>\n",
       "      <td>Hat</td>\n",
       "      <td>2014</td>\n",
       "      <td>50.242511</td>\n",
       "      <td>52.424156</td>\n",
       "      <td>51.333333</td>\n",
       "      <td>1224.124164</td>\n",
       "    </tr>\n",
       "    <tr>\n",
       "      <th>569</th>\n",
       "      <td>569</td>\n",
       "      <td>569</td>\n",
       "      <td>JP Mixed (4/3)</td>\n",
       "      <td>0.0</td>\n",
       "      <td>5.500000</td>\n",
       "      <td>Spring</td>\n",
       "      <td>36565</td>\n",
       "      <td>Boston D Party (22)</td>\n",
       "      <td>Hat</td>\n",
       "      <td>2014</td>\n",
       "      <td>48.479167</td>\n",
       "      <td>50.645833</td>\n",
       "      <td>49.562500</td>\n",
       "      <td>1387.404267</td>\n",
       "    </tr>\n",
       "    <tr>\n",
       "      <th>570</th>\n",
       "      <td>570</td>\n",
       "      <td>570</td>\n",
       "      <td>JP Mixed (4/3)</td>\n",
       "      <td>0.0</td>\n",
       "      <td>5.333333</td>\n",
       "      <td>Spring</td>\n",
       "      <td>36566</td>\n",
       "      <td>D the People (23)</td>\n",
       "      <td>Hat</td>\n",
       "      <td>2014</td>\n",
       "      <td>48.439025</td>\n",
       "      <td>51.310975</td>\n",
       "      <td>49.875000</td>\n",
       "      <td>1216.266374</td>\n",
       "    </tr>\n",
       "    <tr>\n",
       "      <th>571</th>\n",
       "      <td>571</td>\n",
       "      <td>571</td>\n",
       "      <td>JP Mixed (4/3)</td>\n",
       "      <td>0.0</td>\n",
       "      <td>-1.200000</td>\n",
       "      <td>Spring</td>\n",
       "      <td>36567</td>\n",
       "      <td>John Handblock (24)</td>\n",
       "      <td>Hat</td>\n",
       "      <td>2014</td>\n",
       "      <td>52.264949</td>\n",
       "      <td>52.268384</td>\n",
       "      <td>52.266667</td>\n",
       "      <td>1268.253408</td>\n",
       "    </tr>\n",
       "  </tbody>\n",
       "</table>\n",
       "</div>"
      ],
      "text/plain": [
       "     Unnamed: 0  Unnamed: 0.1         divname  divrating  plusminus  season  \\\n",
       "549         549           549  JP Mixed (4/3)        0.0  -6.200000  Spring   \n",
       "550         550           550  JP Mixed (4/3)        0.0   9.333333  Spring   \n",
       "551         551           551  JP Mixed (4/3)        0.0  -2.857143  Spring   \n",
       "552         552           552  JP Mixed (4/3)        0.0   1.833333  Spring   \n",
       "553         553           553  JP Mixed (4/3)        0.0  -4.333333  Spring   \n",
       "554         554           554  JP Mixed (4/3)        0.0   3.833333  Spring   \n",
       "555         555           555  JP Mixed (4/3)        0.0  -4.000000  Spring   \n",
       "556         556           556  JP Mixed (4/3)        0.0  -4.571429  Spring   \n",
       "557         557           557  JP Mixed (4/3)        0.0   1.333333  Spring   \n",
       "558         558           558  JP Mixed (4/3)        0.0  -1.166667  Spring   \n",
       "559         559           559  JP Mixed (4/3)        0.0   1.714286  Spring   \n",
       "560         560           560  JP Mixed (4/3)        0.0   5.500000  Spring   \n",
       "561         561           561  JP Mixed (4/3)        0.0  -2.666667  Spring   \n",
       "562         562           562  JP Mixed (4/3)        0.0  -0.857143  Spring   \n",
       "563         563           563  JP Mixed (4/3)        0.0  -0.714286  Spring   \n",
       "564         564           564  JP Mixed (4/3)        0.0  -1.428571  Spring   \n",
       "565         565           565  JP Mixed (4/3)        0.0   4.142857  Spring   \n",
       "566         566           566  JP Mixed (4/3)        0.0  -6.285714  Spring   \n",
       "567         567           567  JP Mixed (4/3)        0.0  -1.333333  Spring   \n",
       "568         568           568  JP Mixed (4/3)        0.0  -1.428571  Spring   \n",
       "569         569           569  JP Mixed (4/3)        0.0   5.500000  Spring   \n",
       "570         570           570  JP Mixed (4/3)        0.0   5.333333  Spring   \n",
       "571         571           571  JP Mixed (4/3)        0.0  -1.200000  Spring   \n",
       "\n",
       "     teamid                               teamname type  year  self_rating  \\\n",
       "549   36544                  Winter Swill Gang (1)  Hat  2014    52.922924   \n",
       "550   36545                      Two if by Sea (2)  Hat  2014    46.990074   \n",
       "551   36546          Quality Comfort and Price (3)  Hat  2014    51.654018   \n",
       "552   36547                    Callahan Tunnel (4)  Hat  2014    49.703646   \n",
       "553   36548                   USS Cutstitution (5)  Hat  2014    51.332813   \n",
       "554   36549             Make Way for Hucklings (6)  Hat  2014    52.298643   \n",
       "555   36550                   Donnie Stallberg (7)  Hat  2014    46.406662   \n",
       "556   36551                          JP Flicks (8)  Hat  2014    54.401042   \n",
       "557   36552           Mahky Mahk and the Nu Ds (9)  Hat  2014    50.807292   \n",
       "558   36553    Ten Teal Seals in a Touch Tank (10)  Hat  2014    50.493056   \n",
       "559   36554                      Lobstahbacks (11)  Hat  2014    47.208681   \n",
       "560   36555                  Boston Huck Tour (12)  Hat  2014    48.636458   \n",
       "561   36556                 Good Will Hucking (13)  Hat  2014    54.169630   \n",
       "562   36557                    Quincy Mahk It (14)  Hat  2014    53.017340   \n",
       "563   36558               Huck Fah Gain Yahds (15)  Hat  2014    46.695916   \n",
       "564   36559             Flickin' Up to Boston (16)  Hat  2014    51.152857   \n",
       "565   36561                     faneuil stall (18)  Hat  2014    46.779688   \n",
       "566   36562  Mark Stallberg on da Orange Line (19)  Hat  2014    52.296218   \n",
       "567   36563               The Handblock Tower (20)  Hat  2014    52.334603   \n",
       "568   36564    Huck if by Land Dump if by Sea (21)  Hat  2014    50.242511   \n",
       "569   36565                    Boston D Party (22)  Hat  2014    48.479167   \n",
       "570   36566                      D the People (23)  Hat  2014    48.439025   \n",
       "571   36567                    John Handblock (24)  Hat  2014    52.264949   \n",
       "\n",
       "     captain_rating  draft_rating  experience_rating  \n",
       "549       48.077076     50.500000        1142.824305  \n",
       "550       54.884926     50.937500        1274.370441  \n",
       "551       50.220982     50.937500        1204.437612  \n",
       "552       52.046354     50.875000        1240.555548  \n",
       "553       50.917187     51.125000        1175.209420  \n",
       "554       47.826357     50.062500        1111.473187  \n",
       "555       49.718338     48.062500        1074.428412  \n",
       "556       47.848958     51.125000        1180.879226  \n",
       "557       49.692708     50.250000        1259.949807  \n",
       "558       52.506944     51.500000        1315.944470  \n",
       "559       51.416319     49.312500        1309.554897  \n",
       "560       54.238542     51.437500        1187.685577  \n",
       "561       47.030370     50.600000        1169.923452  \n",
       "562       53.515993     53.266667        1306.848992  \n",
       "563       52.679084     49.687500        1256.474527  \n",
       "564       49.380476     50.266667        1138.356591  \n",
       "565       49.595312     48.187500        1374.897527  \n",
       "566       50.174370     51.235294        1234.715216  \n",
       "567       48.865397     50.600000        1234.520132  \n",
       "568       52.424156     51.333333        1224.124164  \n",
       "569       50.645833     49.562500        1387.404267  \n",
       "570       51.310975     49.875000        1216.266374  \n",
       "571       52.268384     52.266667        1268.253408  "
      ]
     },
     "execution_count": 44,
     "metadata": {},
     "output_type": "execute_result"
    }
   ],
   "source": [
    "sph1"
   ]
  },
  {
   "cell_type": "code",
   "execution_count": 45,
   "metadata": {},
   "outputs": [
    {
     "data": {
      "text/plain": [
       "1.5714285714285714"
      ]
     },
     "execution_count": 45,
     "metadata": {},
     "output_type": "execute_result"
    }
   ],
   "source": [
    "11/7."
   ]
  },
  {
   "cell_type": "markdown",
   "metadata": {},
   "source": [
    "There is one missing team in 2014: Team 17 Flesh Eating Virus.  They went 5-2 with a total plus/minus of +11.  So a per-game +/- of +1.57.  No need to worry about this missing data point."
   ]
  },
  {
   "cell_type": "markdown",
   "metadata": {},
   "source": [
    "#### Part 2: Convert average plus/minus into likelihood of winning."
   ]
  },
  {
   "cell_type": "markdown",
   "metadata": {},
   "source": [
    "If I know the average number of goals scored in a game and I know the length of each game, then I can get an estimate of the average scoring rate."
   ]
  },
  {
   "cell_type": "markdown",
   "metadata": {},
   "source": [
    "Suppose average number of goals scored per game is 18. And that game length is 70 minutes. "
   ]
  },
  {
   "cell_type": "code",
   "execution_count": 17,
   "metadata": {},
   "outputs": [
    {
     "data": {
      "text/plain": [
       "0.2571428571428571"
      ]
     },
     "execution_count": 17,
     "metadata": {},
     "output_type": "execute_result"
    }
   ],
   "source": [
    "goalpermin = 18/70.\n",
    "goalpermin"
   ]
  },
  {
   "cell_type": "markdown",
   "metadata": {},
   "source": [
    "Then the average number of goals per minute is 0.257 goals/minute."
   ]
  },
  {
   "cell_type": "code",
   "execution_count": 13,
   "metadata": {},
   "outputs": [],
   "source": [
    "ok = [poisson(goalpermin, 70).sum() for i in range(171)]"
   ]
  },
  {
   "cell_type": "code",
   "execution_count": 14,
   "metadata": {},
   "outputs": [
    {
     "data": {
      "text/plain": [
       "<matplotlib.axes._subplots.AxesSubplot at 0x117bf3150>"
      ]
     },
     "execution_count": 14,
     "metadata": {},
     "output_type": "execute_result"
    },
    {
     "data": {
      "image/png": "[encoded data removed]",
      "text/plain": [
       "<matplotlib.figure.Figure at 0x117caf2d0>"
      ]
     },
     "metadata": {},
     "output_type": "display_data"
    }
   ],
   "source": [
    "sns.distplot(ok, kde=False)"
   ]
  },
  {
   "cell_type": "markdown",
   "metadata": {},
   "source": [
    "That looks like a pretty reasonable distribution of point totals per game."
   ]
  },
  {
   "cell_type": "markdown",
   "metadata": {},
   "source": [
    "Next, the question we are really interested in: suppose you are on a team that has a plus/minus average per game of -5.  If the halves are split evenly in time, then at halftime you are typically behind by 2.5 points, and there are another 18 or so points to be played.  \n",
    "\n",
    "I am missing something here.  Need some measure of the variance of plus/minus values.  Time to sleep on it."
   ]
  },
  {
   "cell_type": "code",
   "execution_count": 15,
   "metadata": {},
   "outputs": [
    {
     "data": {
      "text/plain": [
       "0.2571428571428571"
      ]
     },
     "execution_count": 15,
     "metadata": {},
     "output_type": "execute_result"
    }
   ],
   "source": [
    "18 / 70."
   ]
  },
  {
   "cell_type": "code",
   "execution_count": 16,
   "metadata": {},
   "outputs": [
    {
     "data": {
      "text/plain": [
       "0.1285"
      ]
     },
     "execution_count": 16,
     "metadata": {},
     "output_type": "execute_result"
    }
   ],
   "source": [
    "0.257 / 2"
   ]
  },
  {
   "cell_type": "markdown",
   "metadata": {},
   "source": [
    "An average team playing against an average team has an expected goal scoring rate of 0.257 / 2 = 0.128 goals/minute. A team that averages -5 plus/minus per game gives up 2.5 goals more pre 70 minutes and scores 2.5 goals less per 70 minutes while playing an average team."
   ]
  },
  {
   "cell_type": "code",
   "execution_count": 95,
   "metadata": {},
   "outputs": [],
   "source": [
    "gpm1 = 18 / 2 - 3.5"
   ]
  },
  {
   "cell_type": "code",
   "execution_count": 96,
   "metadata": {},
   "outputs": [],
   "source": [
    "gpm2 = 18/2 + 1.5"
   ]
  },
  {
   "cell_type": "code",
   "execution_count": 98,
   "metadata": {},
   "outputs": [
    {
     "data": {
      "text/plain": [
       "0.07857142857142857"
      ]
     },
     "execution_count": 98,
     "metadata": {},
     "output_type": "execute_result"
    }
   ],
   "source": [
    "gpm1 / 70."
   ]
  },
  {
   "cell_type": "code",
   "execution_count": 99,
   "metadata": {},
   "outputs": [
    {
     "data": {
      "text/plain": [
       "0.15"
      ]
     },
     "execution_count": 99,
     "metadata": {},
     "output_type": "execute_result"
    }
   ],
   "source": [
    "gpm2/70."
   ]
  },
  {
   "cell_type": "code",
   "execution_count": 19,
   "metadata": {},
   "outputs": [],
   "source": [
    "ok1 = [poisson(gpm1) for i in range(171)]"
   ]
  },
  {
   "cell_type": "code",
   "execution_count": 20,
   "metadata": {},
   "outputs": [],
   "source": [
    "ok2 = [poisson(gpm2) for i in range(171)]"
   ]
  },
  {
   "cell_type": "code",
   "execution_count": 21,
   "metadata": {},
   "outputs": [
    {
     "data": {
      "text/plain": [
       "<matplotlib.axes._subplots.AxesSubplot at 0x1192c46d0>"
      ]
     },
     "execution_count": 21,
     "metadata": {},
     "output_type": "execute_result"
    },
    {
     "data": {
      "image/png": "[encoded data removed]",
      "text/plain": [
       "<matplotlib.figure.Figure at 0x10237d8d0>"
      ]
     },
     "metadata": {},
     "output_type": "display_data"
    }
   ],
   "source": [
    "sns.distplot(ok1, kde=False, bins=range(25))\n",
    "sns.distplot(ok2, kde=False, bins=range(25))"
   ]
  },
  {
   "cell_type": "code",
   "execution_count": 22,
   "metadata": {},
   "outputs": [],
   "source": [
    "okdiff = np.array(ok1) - np.array(ok2)\n",
    "oksum = np.array(ok1) + np.array(ok2)"
   ]
  },
  {
   "cell_type": "code",
   "execution_count": 23,
   "metadata": {},
   "outputs": [
    {
     "data": {
      "text/plain": [
       "<matplotlib.axes._subplots.AxesSubplot at 0x1023ab790>"
      ]
     },
     "execution_count": 23,
     "metadata": {},
     "output_type": "execute_result"
    },
    {
     "data": {
      "image/png": "[encoded data removed]",
      "text/plain": [
       "<matplotlib.figure.Figure at 0x118ad3150>"
      ]
     },
     "metadata": {},
     "output_type": "display_data"
    }
   ],
   "source": [
    "sns.distplot(okdiff, kde=False)"
   ]
  },
  {
   "cell_type": "code",
   "execution_count": 24,
   "metadata": {},
   "outputs": [
    {
     "data": {
      "text/plain": [
       "<matplotlib.axes._subplots.AxesSubplot at 0x117bd91d0>"
      ]
     },
     "execution_count": 24,
     "metadata": {},
     "output_type": "execute_result"
    },
    {
     "data": {
      "image/png": "[encoded data removed]",
      "text/plain": [
       "<matplotlib.figure.Figure at 0x117b02cd0>"
      ]
     },
     "metadata": {},
     "output_type": "display_data"
    }
   ],
   "source": [
    "sns.distplot(oksum)"
   ]
  },
  {
   "cell_type": "code",
   "execution_count": 25,
   "metadata": {},
   "outputs": [
    {
     "data": {
      "text/plain": [
       "-5.0760233918128659"
      ]
     },
     "execution_count": 25,
     "metadata": {},
     "output_type": "execute_result"
    }
   ],
   "source": [
    "np.mean(okdiff)"
   ]
  },
  {
   "cell_type": "code",
   "execution_count": 26,
   "metadata": {
    "collapsed": true
   },
   "outputs": [],
   "source": [
    "ok = [poisson(gpm1, 70).sum() + poisson(gpm2, 70).sum() for i in range(171)]"
   ]
  },
  {
   "cell_type": "code",
   "execution_count": 27,
   "metadata": {},
   "outputs": [
    {
     "data": {
      "text/plain": [
       "1122.2631578947369"
      ]
     },
     "execution_count": 27,
     "metadata": {},
     "output_type": "execute_result"
    }
   ],
   "source": [
    "np.mean(ok)"
   ]
  },
  {
   "cell_type": "code",
   "execution_count": 11,
   "metadata": {
    "collapsed": true
   },
   "outputs": [],
   "source": [
    "def underdogwin(gpm1, gpm2, remaining_time, thresh):\n",
    "    ok1 = [poisson(gpm1, 70 - remaining_time).sum() for i in range(100)]\n",
    "    ok2 = [poisson(gpm2, 70 - remaining_time).sum() for i in range(100)]\n",
    "    okdiff = np.array(ok1) - np.array(ok2)\n",
    "    over5 = okdiff > thresh\n",
    "    return len(okdiff[over5])"
   ]
  },
  {
   "cell_type": "code",
   "execution_count": 29,
   "metadata": {},
   "outputs": [
    {
     "name": "stderr",
     "output_type": "stream",
     "text": [
      "100%|██████████| 100/100 [00:25<00:00,  3.89it/s]\n"
     ]
    }
   ],
   "source": [
    "nsim = 100\n",
    "sim_come0 = []\n",
    "sim_come1 = []\n",
    "sim_come2 = []\n",
    "sim_come3 = []\n",
    "for isim in tqdm(range(nsim)):\n",
    "    come_from_behind0 = []\n",
    "    come_from_behind1 = []\n",
    "    come_from_behind2 = []\n",
    "    come_from_behind3 = []\n",
    "    remaining_times = range(70)\n",
    "    for remaining_time in remaining_times:\n",
    "        gpm1 = 18 / 2 / 70.\n",
    "        gpm2 = 18 / 2 / 70.\n",
    "        thresh = 0\n",
    "        wins = underdogwin(gpm1, gpm2, remaining_time, thresh)\n",
    "        come_from_behind0.append(wins)\n",
    "        \n",
    "        thresh = 1\n",
    "        wins = underdogwin(gpm1, gpm2, remaining_time, thresh)\n",
    "        come_from_behind1.append(wins)\n",
    "        \n",
    "        thresh = 2\n",
    "        wins = underdogwin(gpm1, gpm2, remaining_time, thresh)\n",
    "        come_from_behind2.append(wins)\n",
    "        \n",
    "        thresh = 3\n",
    "        wins = underdogwin(gpm1, gpm2, remaining_time, thresh)\n",
    "        come_from_behind3.append(wins)\n",
    "    sim_come0.append(come_from_behind0)\n",
    "    sim_come1.append(come_from_behind1)\n",
    "    sim_come2.append(come_from_behind2)\n",
    "    sim_come3.append(come_from_behind3)\n",
    "come_mean0 = np.mean(sim_come0, axis=0)\n",
    "come_mean1 = np.mean(sim_come1, axis=0)\n",
    "come_mean2 = np.mean(sim_come2, axis=0)\n",
    "come_mean3 = np.mean(sim_come3, axis=0)\n",
    "come_std0 = np.std(sim_come0, axis=0)\n",
    "come_std1 = np.std(sim_come1, axis=0)\n",
    "come_std2 = np.std(sim_come2, axis=0)\n",
    "come_std3 = np.std(sim_come3, axis=0)"
   ]
  },
  {
   "cell_type": "code",
   "execution_count": 12,
   "metadata": {},
   "outputs": [
    {
     "name": "stderr",
     "output_type": "stream",
     "text": [
      "100%|██████████| 100/100 [00:06<00:00, 16.73it/s]\n",
      "100%|██████████| 100/100 [00:06<00:00, 14.29it/s]\n",
      "100%|██████████| 100/100 [00:06<00:00, 16.93it/s]\n",
      "100%|██████████| 100/100 [00:06<00:00, 16.32it/s]\n"
     ]
    }
   ],
   "source": [
    "nsim = 100\n",
    "sim_comes = []\n",
    "threshes = range(4)\n",
    "for thresh in threshes:\n",
    "    sim_come = []\n",
    "    for isim in tqdm(range(nsim)):\n",
    "        come_from_behind = []\n",
    "        remaining_times = range(70)\n",
    "        for remaining_time in remaining_times:\n",
    "            gpm1 = 18 / 2 / 70.\n",
    "            gpm2 = 18 / 2 / 70.\n",
    "            wins = underdogwin(gpm1, gpm2, remaining_time, thresh)\n",
    "            come_from_behind.append(wins)\n",
    "        sim_come.append(come_from_behind)\n",
    "    sim_comes.append(sim_come)\n",
    "come_mean0 = np.mean(sim_comes[0], axis=0)\n",
    "come_mean1 = np.mean(sim_comes[1], axis=0)\n",
    "come_mean2 = np.mean(sim_comes[2], axis=0)\n",
    "come_mean3 = np.mean(sim_comes[3], axis=0)\n",
    "come_std0 = np.std(sim_comes[0], axis=0)\n",
    "come_std1 = np.std(sim_comes[1], axis=0)\n",
    "come_std2 = np.std(sim_comes[2], axis=0)\n",
    "come_std3 = np.std(sim_comes[3], axis=0)"
   ]
  },
  {
   "cell_type": "code",
   "execution_count": 13,
   "metadata": {},
   "outputs": [
    {
     "name": "stderr",
     "output_type": "stream",
     "text": [
      "100%|██████████| 100/100 [00:06<00:00, 16.67it/s]\n",
      "100%|██████████| 100/100 [00:06<00:00, 16.04it/s]\n",
      "100%|██████████| 100/100 [00:06<00:00, 15.62it/s]\n",
      "100%|██████████| 100/100 [00:06<00:00, 14.98it/s]\n"
     ]
    }
   ],
   "source": [
    "nsim = 100\n",
    "sim_comes = []\n",
    "threshes = range(4)\n",
    "for thresh in threshes:\n",
    "    sim_come = []\n",
    "    for isim in tqdm(range(nsim)):\n",
    "        come_from_behind = []\n",
    "        remaining_times = range(70)\n",
    "        for remaining_time in remaining_times:\n",
    "            gpm1 = 18 / 2 / 70. - 3.5 / 70\n",
    "            gpm2 = 18 / 2 / 70. + 1.5 / 70\n",
    "            wins = underdogwin(gpm1, gpm2, remaining_time, thresh)\n",
    "            come_from_behind.append(wins)\n",
    "        sim_come.append(come_from_behind)\n",
    "    sim_comes.append(sim_come)\n",
    "come_mean0_bad = np.mean(sim_comes[0], axis=0)\n",
    "come_mean1_bad = np.mean(sim_comes[1], axis=0)\n",
    "come_mean2_bad = np.mean(sim_comes[2], axis=0)\n",
    "come_mean3_bad = np.mean(sim_comes[3], axis=0)\n",
    "come_std0_bad = np.std(sim_comes[0], axis=0)\n",
    "come_std1_bad = np.std(sim_comes[1], axis=0)\n",
    "come_std2_bad = np.std(sim_comes[2], axis=0)\n",
    "come_std3_bad = np.std(sim_comes[3], axis=0)"
   ]
  },
  {
   "cell_type": "code",
   "execution_count": 14,
   "metadata": {},
   "outputs": [
    {
     "data": {
      "image/png": "[encoded data removed]",
      "text/plain": [
       "<matplotlib.figure.Figure at 0x117c01e10>"
      ]
     },
     "metadata": {},
     "output_type": "display_data"
    }
   ],
   "source": [
    "sns.set_context('poster')\n",
    "sns.set_style('white')\n",
    "f, ax = plt.subplots(figsize=(6, 5))\n",
    "xarr = np.arange(len(come_mean2_bad), 0, -1)\n",
    "yarr = gaussian_filter1d(come_mean2, 3)\n",
    "sigarr = gaussian_filter1d(come_std2, 3)\n",
    "y1 = yarr - sigarr\n",
    "y2 = yarr + sigarr\n",
    "# plt.fill_between(xarr, y1, y2, color='gray', alpha=0.4)\n",
    "plt.plot(xarr, yarr, label='Team A equal to Team B')\n",
    "\n",
    "\n",
    "yarr = gaussian_filter1d(come_mean2_bad, 3)\n",
    "sigarr = gaussian_filter1d(come_std2_bad, 3)\n",
    "y1 = yarr - sigarr\n",
    "y2 = yarr + sigarr\n",
    "# plt.fill_between(xarr, y1, y2, color='gray', alpha=0.4)\n",
    "plt.plot(xarr, yarr, label='Team A much worse than Team B')\n",
    "\n",
    "plt.ylim([0, 100])\n",
    "plt.xlim([70,0])\n",
    "plt.xlabel('Time Remaining [minutes]')\n",
    "plt.ylabel('Percent Chance Team A Wins By Three')\n",
    "plt.legend()\n",
    "plt.tight_layout()\n",
    "plt.savefig(os.path.join(figures_dir, 'WinBy3Probability'))\n",
    "# plt.plot(come_mean_bad)"
   ]
  },
  {
   "cell_type": "code",
   "execution_count": 223,
   "metadata": {},
   "outputs": [
    {
     "data": {
      "text/plain": [
       "[<matplotlib.lines.Line2D at 0x12e15a850>]"
      ]
     },
     "execution_count": 223,
     "metadata": {},
     "output_type": "execute_result"
    },
    {
     "data": {
      "image/png": "[encoded data removed]",
      "text/plain": [
       "<matplotlib.figure.Figure at 0x12e15a6d0>"
      ]
     },
     "metadata": {},
     "output_type": "display_data"
    }
   ],
   "source": [
    "sns.set_context('poster')\n",
    "# xarr = range(len(come_mean2))\n",
    "# yarr = gaussian_filter1d(come_mean2, 3)\n",
    "# sigarr = gaussian_filter1d(come_std2, 3)\n",
    "# y1 = yarr - sigarr\n",
    "# y2 = yarr + sigarr\n",
    "# plt.fill_between(xarr, y1, y2, color='gray', alpha=0.5)\n",
    "# plt.plot(xarr, yarr)\n",
    "\n",
    "xarr = range(len(come_mean0_bad))\n",
    "yarr = gaussian_filter1d(come_mean0_bad, 3)\n",
    "sigarr = gaussian_filter1d(come_std0_bad, 3)\n",
    "y1 = yarr - sigarr\n",
    "y2 = yarr + sigarr\n",
    "plt.fill_between(xarr, y1, y2, color='gray', alpha=0.5)\n",
    "plt.plot(xarr, yarr)\n",
    "# plt.plot(come_mean_bad)"
   ]
  },
  {
   "cell_type": "code",
   "execution_count": 10,
   "metadata": {},
   "outputs": [],
   "source": [
    "sph_index = (ratings.allteams['season'] == 'Spring') & \\\n",
    "            (ratings.allteams['type'] == 'Hat') & \\\n",
    "            (ratings.allteams['divname'] == 'JP Mixed (4/3)') & \\\n",
    "            (ratings.allteams['year'] >= 2010)\n",
    "sph = ratings.allteams[sph_index]"
   ]
  },
  {
   "cell_type": "code",
   "execution_count": 84,
   "metadata": {},
   "outputs": [
    {
     "data": {
      "text/plain": [
       "<matplotlib.axes._subplots.AxesSubplot at 0x11d153c10>"
      ]
     },
     "execution_count": 84,
     "metadata": {},
     "output_type": "execute_result"
    },
    {
     "data": {
      "image/png": "[encoded data removed]",
      "text/plain": [
       "<matplotlib.figure.Figure at 0x11a1d7b10>"
      ]
     },
     "metadata": {},
     "output_type": "display_data"
    }
   ],
   "source": [
    "sns.distplot(sph['n_exp_rating'], kde=False, bins=10)\n",
    "sns.distplot(sph['n_cap_rating'], kde=False, bins=10)\n",
    "sns.distplot(sph['n_capexp_rating'], kde=False, bins=10)"
   ]
  },
  {
   "cell_type": "code",
   "execution_count": 80,
   "metadata": {},
   "outputs": [
    {
     "data": {
      "text/plain": [
       "0.7203947368421053"
      ]
     },
     "execution_count": 80,
     "metadata": {},
     "output_type": "execute_result"
    }
   ],
   "source": [
    "sph['n_exp_rating'].mean()"
   ]
  },
  {
   "cell_type": "code",
   "execution_count": 81,
   "metadata": {},
   "outputs": [
    {
     "data": {
      "text/plain": [
       "0.6823830409356725"
      ]
     },
     "execution_count": 81,
     "metadata": {},
     "output_type": "execute_result"
    }
   ],
   "source": [
    "sph['n_cap_rating'].mean()"
   ]
  },
  {
   "cell_type": "code",
   "execution_count": 85,
   "metadata": {},
   "outputs": [
    {
     "data": {
      "text/plain": [
       "0.8366228070175439"
      ]
     },
     "execution_count": 85,
     "metadata": {},
     "output_type": "execute_result"
    }
   ],
   "source": [
    "sph['n_capexp_rating'].mean()"
   ]
  },
  {
   "cell_type": "code",
   "execution_count": 82,
   "metadata": {},
   "outputs": [
    {
     "data": {
      "text/plain": [
       "0.75"
      ]
     },
     "execution_count": 82,
     "metadata": {},
     "output_type": "execute_result"
    }
   ],
   "source": [
    "sph['n_exp_rating'].median()"
   ]
  },
  {
   "cell_type": "code",
   "execution_count": 83,
   "metadata": {},
   "outputs": [
    {
     "data": {
      "text/plain": [
       "0.6875"
      ]
     },
     "execution_count": 83,
     "metadata": {},
     "output_type": "execute_result"
    }
   ],
   "source": [
    "sph['n_cap_rating'].median()"
   ]
  },
  {
   "cell_type": "code",
   "execution_count": 86,
   "metadata": {},
   "outputs": [
    {
     "data": {
      "text/plain": [
       "0.8125"
      ]
     },
     "execution_count": 86,
     "metadata": {},
     "output_type": "execute_result"
    }
   ],
   "source": [
    "sph['n_capexp_rating'].median()"
   ]
  },
  {
   "cell_type": "code",
   "execution_count": 70,
   "metadata": {},
   "outputs": [
    {
     "data": {
      "text/plain": [
       "12.0"
      ]
     },
     "execution_count": 70,
     "metadata": {},
     "output_type": "execute_result"
    }
   ],
   "source": [
    ".75*16"
   ]
  },
  {
   "cell_type": "code",
   "execution_count": 71,
   "metadata": {},
   "outputs": [
    {
     "data": {
      "text/plain": [
       "11.04"
      ]
     },
     "execution_count": 71,
     "metadata": {},
     "output_type": "execute_result"
    }
   ],
   "source": [
    ".69*16"
   ]
  },
  {
   "cell_type": "code",
   "execution_count": 87,
   "metadata": {},
   "outputs": [
    {
     "data": {
      "text/plain": [
       "13.44"
      ]
     },
     "execution_count": 87,
     "metadata": {},
     "output_type": "execute_result"
    }
   ],
   "source": [
    ".84*16"
   ]
  },
  {
   "cell_type": "markdown",
   "metadata": {},
   "source": [
    "Simulation of two evenly matched teams.  What is the distribution of 171 instances of observed average point differential over 7 games?"
   ]
  },
  {
   "cell_type": "code",
   "execution_count": 88,
   "metadata": {},
   "outputs": [
    {
     "data": {
      "text/plain": [
       "0.2571428571428571"
      ]
     },
     "execution_count": 88,
     "metadata": {},
     "output_type": "execute_result"
    }
   ],
   "source": [
    "goalpermin"
   ]
  },
  {
   "cell_type": "code",
   "execution_count": 23,
   "metadata": {},
   "outputs": [],
   "source": [
    "avgoff = []\n",
    "for isim in range(171):\n",
    "    ok1 = [poisson(goalpermin/2, 70).sum() for i in range(7)]\n",
    "    ok2 = [poisson(goalpermin/2, 70).sum() for i in range(7)]\n",
    "    off = np.array(ok1) - np.array(ok2)\n",
    "    avgoff.append(off.mean())"
   ]
  },
  {
   "cell_type": "code",
   "execution_count": 109,
   "metadata": {},
   "outputs": [
    {
     "data": {
      "image/png": "[encoded data removed]",
      "text/plain": [
       "<matplotlib.figure.Figure at 0x1183640d0>"
      ]
     },
     "metadata": {},
     "output_type": "display_data"
    }
   ],
   "source": [
    "sns.set_context('poster')\n",
    "sns.set_style('white')\n",
    "fig, ax = plt.subplots(figsize=(6, 5))\n",
    "sns.distplot(avgoff, kde=False, bins=range(-10, 11), color='gray', label='Equal Skill')\n",
    "sns.distplot(sph['plusminus'], kde=False, bins=range(-10,11), label='Observed')\n",
    "plt.ylabel('Number of Teams')\n",
    "plt.xlabel('Average Plus/Minus per Game')\n",
    "plt.tight_layout()\n",
    "plt.legend()\n",
    "plt.savefig(os.path.join(figures_dir, 'PlusMinusDistribution'))"
   ]
  },
  {
   "cell_type": "markdown",
   "metadata": {},
   "source": [
    "Given equal teams, what is the likelihood of winning fewer than 10% of your games?"
   ]
  },
  {
   "cell_type": "code",
   "execution_count": 18,
   "metadata": {
    "collapsed": true
   },
   "outputs": [],
   "source": [
    "wins = []\n",
    "for isim in range(171):\n",
    "    ok1 = [poisson(goalpermin/2, 70).sum() for i in range(7)]\n",
    "    ok2 = [poisson(goalpermin/2, 70).sum() for i in range(7)]\n",
    "    off = np.array(ok1) - np.array(ok2)\n",
    "    win_index = off > 0\n",
    "    wins.append(len(off[win_index]))"
   ]
  },
  {
   "cell_type": "code",
   "execution_count": 19,
   "metadata": {},
   "outputs": [
    {
     "data": {
      "text/plain": [
       "<matplotlib.axes._subplots.AxesSubplot at 0x117cd3b90>"
      ]
     },
     "execution_count": 19,
     "metadata": {},
     "output_type": "execute_result"
    },
    {
     "data": {
      "image/png": "[encoded data removed]",
      "text/plain": [
       "<matplotlib.figure.Figure at 0x117cd3a10>"
      ]
     },
     "metadata": {},
     "output_type": "display_data"
    }
   ],
   "source": [
    "sns.distplot(wins, kde=False, bins=range(8))"
   ]
  },
  {
   "cell_type": "code",
   "execution_count": 120,
   "metadata": {},
   "outputs": [
    {
     "data": {
      "text/plain": [
       "564"
      ]
     },
     "execution_count": 120,
     "metadata": {},
     "output_type": "execute_result"
    }
   ],
   "source": [
    "np.array(wins).sum()"
   ]
  },
  {
   "cell_type": "code",
   "execution_count": 121,
   "metadata": {},
   "outputs": [
    {
     "data": {
      "text/plain": [
       "1197"
      ]
     },
     "execution_count": 121,
     "metadata": {},
     "output_type": "execute_result"
    }
   ],
   "source": [
    "7 * 171"
   ]
  },
  {
   "cell_type": "code",
   "execution_count": 122,
   "metadata": {},
   "outputs": [
    {
     "data": {
      "text/plain": [
       "0.47117794486215536"
      ]
     },
     "execution_count": 122,
     "metadata": {},
     "output_type": "execute_result"
    }
   ],
   "source": [
    "564 / 1197."
   ]
  },
  {
   "cell_type": "code",
   "execution_count": 123,
   "metadata": {},
   "outputs": [
    {
     "data": {
      "text/plain": [
       "0.14285714285714285"
      ]
     },
     "execution_count": 123,
     "metadata": {},
     "output_type": "execute_result"
    }
   ],
   "source": [
    "1/7."
   ]
  },
  {
   "cell_type": "code",
   "execution_count": 130,
   "metadata": {},
   "outputs": [],
   "source": [
    "n1 = len(np.array(wins)[np.array(wins) < 1])"
   ]
  },
  {
   "cell_type": "code",
   "execution_count": 131,
   "metadata": {},
   "outputs": [
    {
     "data": {
      "text/plain": [
       "2"
      ]
     },
     "execution_count": 131,
     "metadata": {},
     "output_type": "execute_result"
    }
   ],
   "source": [
    "n1"
   ]
  },
  {
   "cell_type": "code",
   "execution_count": 132,
   "metadata": {},
   "outputs": [
    {
     "data": {
      "text/plain": [
       "0.011695906432748537"
      ]
     },
     "execution_count": 132,
     "metadata": {},
     "output_type": "execute_result"
    }
   ],
   "source": [
    "2 / 171."
   ]
  },
  {
   "cell_type": "code",
   "execution_count": 28,
   "metadata": {},
   "outputs": [
    {
     "data": {
      "image/png": "[encoded data removed]",
      "text/plain": [
       "<matplotlib.figure.Figure at 0x118f0a090>"
      ]
     },
     "metadata": {},
     "output_type": "display_data"
    }
   ],
   "source": [
    "sns.set_context('poster')\n",
    "sns.set_style('white')\n",
    "fig, axes = plt.subplots(1, 2, figsize=(12, 5))\n",
    "\n",
    "ax = axes[0]\n",
    "sns.distplot(avgoff, kde=False, bins=range(-10, 11), color='gray', label='Equal Skill', ax=ax)\n",
    "sns.distplot(sph['plusminus'], kde=False, bins=range(-10,11), label='Observed', ax=ax)\n",
    "ax.set_ylabel('Number of Teams')\n",
    "ax.set_xlabel('Average Plus/Minus per Game')\n",
    "ax.legend()\n",
    "\n",
    "ax = axes[1]\n",
    "xarr = np.arange(len(come_mean2_bad), 0, -1)\n",
    "yarr = gaussian_filter1d(come_mean2, 3)\n",
    "sigarr = gaussian_filter1d(come_std2, 3)\n",
    "y1 = yarr - sigarr\n",
    "y2 = yarr + sigarr\n",
    "# plt.fill_between(xarr, y1, y2, color='gray', alpha=0.4)\n",
    "ax.plot(xarr, yarr, label='Team A equal to Team B')\n",
    "\n",
    "\n",
    "yarr = gaussian_filter1d(come_mean2_bad, 3)\n",
    "sigarr = gaussian_filter1d(come_std2_bad, 3)\n",
    "y1 = yarr - sigarr\n",
    "y2 = yarr + sigarr\n",
    "# plt.fill_between(xarr, y1, y2, color='gray', alpha=0.4)\n",
    "ax.plot(xarr, yarr, label='Team A much worse than Team B')\n",
    "\n",
    "ax.set_ylim([0, 100])\n",
    "ax.set_xlim([70,0])\n",
    "ax.set_xlabel('Time Remaining [minutes]')\n",
    "ax.set_ylabel('Percent Chance Team A Wins By Three')\n",
    "ax.legend()\n",
    "plt.tight_layout(w_pad=2)\n",
    "plt.savefig(os.path.join(figures_dir, 'PlusMinusDistribution_WinBy3Probability'))\n",
    "# plt.plot(come_mean_bad)"
   ]
  },
  {
   "cell_type": "markdown",
   "metadata": {
    "collapsed": true
   },
   "source": [
    "An alternative way of investigating the probability of winning one game out of 7 or less: simple probability."
   ]
  },
  {
   "cell_type": "code",
   "execution_count": 3,
   "metadata": {
    "collapsed": true
   },
   "outputs": [],
   "source": [
    "ways_to_win_one_or_less = 7 + 1"
   ]
  },
  {
   "cell_type": "code",
   "execution_count": 7,
   "metadata": {
    "collapsed": true
   },
   "outputs": [],
   "source": [
    "total_possible_outcomes = 2. ** 7"
   ]
  },
  {
   "cell_type": "code",
   "execution_count": 8,
   "metadata": {
    "collapsed": true
   },
   "outputs": [],
   "source": [
    "probability = ways_to_win_one_or_less / total_possible_outcomes"
   ]
  },
  {
   "cell_type": "code",
   "execution_count": 9,
   "metadata": {},
   "outputs": [
    {
     "data": {
      "text/plain": [
       "0.0625"
      ]
     },
     "execution_count": 9,
     "metadata": {},
     "output_type": "execute_result"
    }
   ],
   "source": [
    "probability"
   ]
  },
  {
   "cell_type": "code",
   "execution_count": 10,
   "metadata": {},
   "outputs": [
    {
     "data": {
      "text/plain": [
       "0.14285714285714285"
      ]
     },
     "execution_count": 10,
     "metadata": {},
     "output_type": "execute_result"
    }
   ],
   "source": [
    "1 / 7."
   ]
  },
  {
   "cell_type": "code",
   "execution_count": 13,
   "metadata": {},
   "outputs": [
    {
     "data": {
      "text/plain": [
       "0.1796875"
      ]
     },
     "execution_count": 13,
     "metadata": {},
     "output_type": "execute_result"
    }
   ],
   "source": [
    "7 * 5 * 4 / 3 / 2. / 2**7"
   ]
  },
  {
   "cell_type": "code",
   "execution_count": 14,
   "metadata": {
    "collapsed": true
   },
   "outputs": [],
   "source": [
    "corepart = 1.396 + 1.476 + 1.484 + 1.363 + 1.082 + 1.038"
   ]
  },
  {
   "cell_type": "code",
   "execution_count": 16,
   "metadata": {},
   "outputs": [
    {
     "data": {
      "text/plain": [
       "1.3065"
      ]
     },
     "execution_count": 16,
     "metadata": {},
     "output_type": "execute_result"
    }
   ],
   "source": [
    "corepart / 6."
   ]
  },
  {
   "cell_type": "code",
   "execution_count": 17,
   "metadata": {},
   "outputs": [
    {
     "data": {
      "text/plain": [
       "880.5"
      ]
     },
     "execution_count": 17,
     "metadata": {},
     "output_type": "execute_result"
    }
   ],
   "source": [
    "lcp = 786. + 800 + 819 + 899 + 1032 + 947\n",
    "lcp / 6"
   ]
  },
  {
   "cell_type": "code",
   "execution_count": 18,
   "metadata": {},
   "outputs": [
    {
     "data": {
      "text/plain": [
       "384.5"
      ]
     },
     "execution_count": 18,
     "metadata": {},
     "output_type": "execute_result"
    }
   ],
   "source": [
    "rcp = 342. + 306 + 361 + 427 + 440 + 431\n",
    "rcp / 6"
   ]
  },
  {
   "cell_type": "code",
   "execution_count": 19,
   "metadata": {},
   "outputs": [
    {
     "data": {
      "text/plain": [
       "0.6122593598677217"
      ]
     },
     "execution_count": 19,
     "metadata": {},
     "output_type": "execute_result"
    }
   ],
   "source": [
    "(13651 - 8467) / 8467."
   ]
  },
  {
   "cell_type": "code",
   "execution_count": 20,
   "metadata": {},
   "outputs": [
    {
     "data": {
      "text/plain": [
       "13547.2"
      ]
     },
     "execution_count": 20,
     "metadata": {},
     "output_type": "execute_result"
    }
   ],
   "source": [
    "8467 * 1.6"
   ]
  },
  {
   "cell_type": "code",
   "execution_count": 12,
   "metadata": {},
   "outputs": [
    {
     "data": {
      "text/plain": [
       "0.6363636363636364"
      ]
     },
     "execution_count": 12,
     "metadata": {},
     "output_type": "execute_result"
    }
   ],
   "source": [
    "7/11."
   ]
  },
  {
   "cell_type": "code",
   "execution_count": 26,
   "metadata": {},
   "outputs": [],
   "source": [
    "leaguelist = {'alabama': 3, 'arkansas': 3, 'alaska': 3, 'arizona': 3, 'california': 10, 'colorado': 7, 'connecticut': 4,  \n",
    " 'delaware': 1, 'florida': 9, 'georgia': 5, 'hawaii': 1, 'idaho': 1, 'illinois': 4, 'indiana': 8, 'iowa': 5, \n",
    " 'kansas': 4, 'kentucky': 2, 'louisiana': 1, 'maine': 3, 'maryland': 5, 'massachusetts': 2, \n",
    " 'michigan': 6, 'minnesota': 2, 'mississippi': 2, 'missouri': 2, 'montana': 2, 'nebraska': 2, 'nevada': 2, \n",
    " 'new hampshire': 1, 'new jersey': 5, 'new mexico': 3, 'new york': 11, 'north carolina': 8, 'north dakota': 0,\n",
    " 'ohio': 4, 'oklahoma': 1, 'oregon': 6, 'pennsylvania': 6, 'rhode island': 1, 'south carolina': 5, 'south dakota': 1,\n",
    " 'tennessee': 4, 'texas': 6, 'utah': 4, 'vermont': 2, 'virginia': 6, \n",
    " 'washington': 3, 'west virginia': 0, 'wisconsin': 3, 'wyoming': 0}"
   ]
  },
  {
   "cell_type": "code",
   "execution_count": 27,
   "metadata": {
    "collapsed": true
   },
   "outputs": [],
   "source": [
    "totleagues = 0\n",
    "for key in leaguelist:\n",
    "    totleagues += leaguelist[key]"
   ]
  },
  {
   "cell_type": "code",
   "execution_count": 28,
   "metadata": {},
   "outputs": [
    {
     "data": {
      "text/plain": [
       "182"
      ]
     },
     "execution_count": 28,
     "metadata": {},
     "output_type": "execute_result"
    }
   ],
   "source": [
    "totleagues"
   ]
  },
  {
   "cell_type": "code",
   "execution_count": 29,
   "metadata": {},
   "outputs": [
    {
     "ename": "NameError",
     "evalue": "name 'yarr' is not defined",
     "output_type": "error",
     "traceback": [
      "\u001b[0;31m---------------------------------------------------------------------------\u001b[0m",
      "\u001b[0;31mNameError\u001b[0m                                 Traceback (most recent call last)",
      "\u001b[0;32m<ipython-input-29-71d1f91e582f>\u001b[0m in \u001b[0;36m<module>\u001b[0;34m()\u001b[0m\n\u001b[0;32m----> 1\u001b[0;31m \u001b[0myarr\u001b[0m\u001b[0;34m\u001b[0m\u001b[0m\n\u001b[0m",
      "\u001b[0;31mNameError\u001b[0m: name 'yarr' is not defined"
     ]
    }
   ],
   "source": [
    "yarr"
   ]
  },
  {
   "cell_type": "code",
   "execution_count": 33,
   "metadata": {},
   "outputs": [
    {
     "data": {
      "text/html": [
       "<div>\n",
       "<table border=\"1\" class=\"dataframe\">\n",
       "  <thead>\n",
       "    <tr style=\"text-align: right;\">\n",
       "      <th></th>\n",
       "      <th>Unnamed: 0</th>\n",
       "      <th>divname</th>\n",
       "      <th>divrating</th>\n",
       "      <th>plusminus</th>\n",
       "      <th>season</th>\n",
       "      <th>teamid</th>\n",
       "      <th>teamname</th>\n",
       "      <th>type</th>\n",
       "      <th>year</th>\n",
       "      <th>self_rating</th>\n",
       "      <th>captain_rating</th>\n",
       "      <th>draft_rating</th>\n",
       "      <th>experience_rating</th>\n",
       "      <th>ensemble_rating</th>\n",
       "      <th>n_exp_rating</th>\n",
       "      <th>n_cap_rating</th>\n",
       "      <th>n_capexp_rating</th>\n",
       "    </tr>\n",
       "  </thead>\n",
       "  <tbody>\n",
       "    <tr>\n",
       "      <th>78</th>\n",
       "      <td>78</td>\n",
       "      <td>JP Mixed (4/3)</td>\n",
       "      <td>0.0</td>\n",
       "      <td>6.800000</td>\n",
       "      <td>Spring</td>\n",
       "      <td>40309</td>\n",
       "      <td>Mark Hammer (1)</td>\n",
       "      <td>Hat</td>\n",
       "      <td>2016</td>\n",
       "      <td>51.657980</td>\n",
       "      <td>54.342020</td>\n",
       "      <td>53.000000</td>\n",
       "      <td>1269.603025</td>\n",
       "      <td>54.405444</td>\n",
       "      <td>0.5625</td>\n",
       "      <td>0.5625</td>\n",
       "      <td>0.6250</td>\n",
       "    </tr>\n",
       "    <tr>\n",
       "      <th>79</th>\n",
       "      <td>79</td>\n",
       "      <td>JP Mixed (4/3)</td>\n",
       "      <td>0.0</td>\n",
       "      <td>6.333333</td>\n",
       "      <td>Spring</td>\n",
       "      <td>40310</td>\n",
       "      <td>R2Team2 (2)</td>\n",
       "      <td>Hat</td>\n",
       "      <td>2016</td>\n",
       "      <td>52.185185</td>\n",
       "      <td>53.014815</td>\n",
       "      <td>52.600000</td>\n",
       "      <td>1352.263306</td>\n",
       "      <td>55.415133</td>\n",
       "      <td>0.6875</td>\n",
       "      <td>0.6875</td>\n",
       "      <td>0.8125</td>\n",
       "    </tr>\n",
       "    <tr>\n",
       "      <th>80</th>\n",
       "      <td>80</td>\n",
       "      <td>JP Mixed (4/3)</td>\n",
       "      <td>0.0</td>\n",
       "      <td>4.333333</td>\n",
       "      <td>Spring</td>\n",
       "      <td>40311</td>\n",
       "      <td>Chewblocka (3)</td>\n",
       "      <td>Hat</td>\n",
       "      <td>2016</td>\n",
       "      <td>49.710101</td>\n",
       "      <td>54.689899</td>\n",
       "      <td>52.200000</td>\n",
       "      <td>1345.951651</td>\n",
       "      <td>55.327074</td>\n",
       "      <td>0.8750</td>\n",
       "      <td>0.8125</td>\n",
       "      <td>0.9375</td>\n",
       "    </tr>\n",
       "    <tr>\n",
       "      <th>81</th>\n",
       "      <td>81</td>\n",
       "      <td>JP Mixed (4/3)</td>\n",
       "      <td>0.0</td>\n",
       "      <td>-1.800000</td>\n",
       "      <td>Spring</td>\n",
       "      <td>40312</td>\n",
       "      <td>Never Teal Me The Odds (4)</td>\n",
       "      <td>Hat</td>\n",
       "      <td>2016</td>\n",
       "      <td>51.327705</td>\n",
       "      <td>51.472295</td>\n",
       "      <td>51.400000</td>\n",
       "      <td>1106.513497</td>\n",
       "      <td>47.253289</td>\n",
       "      <td>0.8125</td>\n",
       "      <td>0.6875</td>\n",
       "      <td>0.8125</td>\n",
       "    </tr>\n",
       "    <tr>\n",
       "      <th>82</th>\n",
       "      <td>82</td>\n",
       "      <td>JP Mixed (4/3)</td>\n",
       "      <td>0.0</td>\n",
       "      <td>-2.000000</td>\n",
       "      <td>Spring</td>\n",
       "      <td>40313</td>\n",
       "      <td>Ernest goes to Doyle's (5)</td>\n",
       "      <td>Hat</td>\n",
       "      <td>2016</td>\n",
       "      <td>55.491738</td>\n",
       "      <td>52.641595</td>\n",
       "      <td>54.066667</td>\n",
       "      <td>1107.501716</td>\n",
       "      <td>48.209827</td>\n",
       "      <td>0.8125</td>\n",
       "      <td>0.7500</td>\n",
       "      <td>0.8125</td>\n",
       "    </tr>\n",
       "  </tbody>\n",
       "</table>\n",
       "</div>"
      ],
      "text/plain": [
       "    Unnamed: 0         divname  divrating  plusminus  season  teamid  \\\n",
       "78          78  JP Mixed (4/3)        0.0   6.800000  Spring   40309   \n",
       "79          79  JP Mixed (4/3)        0.0   6.333333  Spring   40310   \n",
       "80          80  JP Mixed (4/3)        0.0   4.333333  Spring   40311   \n",
       "81          81  JP Mixed (4/3)        0.0  -1.800000  Spring   40312   \n",
       "82          82  JP Mixed (4/3)        0.0  -2.000000  Spring   40313   \n",
       "\n",
       "                      teamname type  year  self_rating  captain_rating  \\\n",
       "78             Mark Hammer (1)  Hat  2016    51.657980       54.342020   \n",
       "79                 R2Team2 (2)  Hat  2016    52.185185       53.014815   \n",
       "80              Chewblocka (3)  Hat  2016    49.710101       54.689899   \n",
       "81  Never Teal Me The Odds (4)  Hat  2016    51.327705       51.472295   \n",
       "82  Ernest goes to Doyle's (5)  Hat  2016    55.491738       52.641595   \n",
       "\n",
       "    draft_rating  experience_rating  ensemble_rating  n_exp_rating  \\\n",
       "78     53.000000        1269.603025        54.405444        0.5625   \n",
       "79     52.600000        1352.263306        55.415133        0.6875   \n",
       "80     52.200000        1345.951651        55.327074        0.8750   \n",
       "81     51.400000        1106.513497        47.253289        0.8125   \n",
       "82     54.066667        1107.501716        48.209827        0.8125   \n",
       "\n",
       "    n_cap_rating  n_capexp_rating  \n",
       "78        0.5625           0.6250  \n",
       "79        0.6875           0.8125  \n",
       "80        0.8125           0.9375  \n",
       "81        0.6875           0.8125  \n",
       "82        0.7500           0.8125  "
      ]
     },
     "execution_count": 33,
     "metadata": {},
     "output_type": "execute_result"
    }
   ],
   "source": []
  },
  {
   "cell_type": "code",
   "execution_count": 1,
   "metadata": {},
   "outputs": [
    {
     "data": {
      "text/plain": [
       "3.3333333333333335"
      ]
     },
     "execution_count": 1,
     "metadata": {},
     "output_type": "execute_result"
    }
   ],
   "source": [
    "200/60."
   ]
  },
  {
   "cell_type": "code",
   "execution_count": 2,
   "metadata": {},
   "outputs": [
    {
     "data": {
      "text/plain": [
       "1593.3333333333333"
      ]
     },
     "execution_count": 2,
     "metadata": {},
     "output_type": "execute_result"
    }
   ],
   "source": [
    "1/3. * (1800 + 1580 + 1400)"
   ]
  },
  {
   "cell_type": "code",
   "execution_count": 3,
   "metadata": {},
   "outputs": [
    {
     "data": {
      "text/plain": [
       "2.6666666666666665"
      ]
     },
     "execution_count": 3,
     "metadata": {},
     "output_type": "execute_result"
    }
   ],
   "source": [
    "16/6."
   ]
  },
  {
   "cell_type": "code",
   "execution_count": 4,
   "metadata": {},
   "outputs": [
    {
     "data": {
      "text/plain": [
       "13.44"
      ]
     },
     "execution_count": 4,
     "metadata": {},
     "output_type": "execute_result"
    }
   ],
   "source": [
    ".84*16"
   ]
  },
  {
   "cell_type": "code",
   "execution_count": 6,
   "metadata": {
    "collapsed": true
   },
   "outputs": [],
   "source": [
    "import seaborn as sns"
   ]
  },
  {
   "cell_type": "code",
   "execution_count": 10,
   "metadata": {},
   "outputs": [
    {
     "data": {
      "image/png": "[encoded data removed]",
      "text/plain": [
       "<matplotlib.figure.Figure at 0x116d02e50>"
      ]
     },
     "metadata": {},
     "output_type": "display_data"
    }
   ],
   "source": [
    "current_palette = sns.color_palette()\n",
    "sns.palplot(current_palette)"
   ]
  },
  {
   "cell_type": "code",
   "execution_count": 11,
   "metadata": {},
   "outputs": [
    {
     "data": {
      "text/plain": [
       "[(0.2980392156862745, 0.4470588235294118, 0.6901960784313725),\n",
       " (0.3333333333333333, 0.6588235294117647, 0.40784313725490196),\n",
       " (0.7686274509803922, 0.3058823529411765, 0.3215686274509804),\n",
       " (0.5058823529411764, 0.4470588235294118, 0.6980392156862745),\n",
       " (0.8, 0.7254901960784313, 0.4549019607843137),\n",
       " (0.39215686274509803, 0.7098039215686275, 0.803921568627451)]"
      ]
     },
     "execution_count": 11,
     "metadata": {},
     "output_type": "execute_result"
    }
   ],
   "source": [
    "current_palette"
   ]
  },
  {
   "cell_type": "code",
   "execution_count": null,
   "metadata": {
    "collapsed": true
   },
   "outputs": [],
   "source": []
  }
 ],
 "metadata": {
  "kernelspec": {
   "display_name": "Python 2",
   "language": "python",
   "name": "python2"
  },
  "language_info": {
   "codemirror_mode": {
    "name": "ipython",
    "version": 2
   },
   "file_extension": ".py",
   "mimetype": "text/x-python",
   "name": "python",
   "nbconvert_exporter": "python",
   "pygments_lexer": "ipython2",
   "version": "2.7.13"
  }
 },
 "nbformat": 4,
 "nbformat_minor": 1
}
